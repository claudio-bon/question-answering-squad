{
  "nbformat": 4,
  "nbformat_minor": 0,
  "metadata": {
    "colab": {
      "name": "nlp_squad.ipynb",
      "provenance": [],
      "collapsed_sections": [],
      "toc_visible": true,
      "authorship_tag": "ABX9TyOG1fzW2+7lFqavTf92xxMz",
      "include_colab_link": true
    },
    "kernelspec": {
      "name": "python3",
      "display_name": "Python 3"
    },
    "language_info": {
      "name": "python"
    },
    "widgets": {
      "application/vnd.jupyter.widget-state+json": {
        "6ea4904cbaae4bb4a0afb7a83e6bf807": {
          "model_module": "@jupyter-widgets/controls",
          "model_name": "HBoxModel",
          "model_module_version": "1.5.0",
          "state": {
            "_view_name": "HBoxView",
            "_dom_classes": [],
            "_model_name": "HBoxModel",
            "_view_module": "@jupyter-widgets/controls",
            "_model_module_version": "1.5.0",
            "_view_count": null,
            "_view_module_version": "1.5.0",
            "box_style": "",
            "layout": "IPY_MODEL_1192fa60dea94b6a8bfd38265f057cbd",
            "_model_module": "@jupyter-widgets/controls",
            "children": [
              "IPY_MODEL_acd77e8af9ab4aafa170da59adb9b0ef",
              "IPY_MODEL_1862654539f4404b967d4d5e1deeeb69"
            ]
          }
        },
        "1192fa60dea94b6a8bfd38265f057cbd": {
          "model_module": "@jupyter-widgets/base",
          "model_name": "LayoutModel",
          "model_module_version": "1.2.0",
          "state": {
            "_view_name": "LayoutView",
            "grid_template_rows": null,
            "right": null,
            "justify_content": null,
            "_view_module": "@jupyter-widgets/base",
            "overflow": null,
            "_model_module_version": "1.2.0",
            "_view_count": null,
            "flex_flow": null,
            "width": null,
            "min_width": null,
            "border": null,
            "align_items": null,
            "bottom": null,
            "_model_module": "@jupyter-widgets/base",
            "top": null,
            "grid_column": null,
            "overflow_y": null,
            "overflow_x": null,
            "grid_auto_flow": null,
            "grid_area": null,
            "grid_template_columns": null,
            "flex": null,
            "_model_name": "LayoutModel",
            "justify_items": null,
            "grid_row": null,
            "max_height": null,
            "align_content": null,
            "visibility": null,
            "align_self": null,
            "height": null,
            "min_height": null,
            "padding": null,
            "grid_auto_rows": null,
            "grid_gap": null,
            "max_width": null,
            "order": null,
            "_view_module_version": "1.2.0",
            "grid_template_areas": null,
            "object_position": null,
            "object_fit": null,
            "grid_auto_columns": null,
            "margin": null,
            "display": null,
            "left": null
          }
        },
        "acd77e8af9ab4aafa170da59adb9b0ef": {
          "model_module": "@jupyter-widgets/controls",
          "model_name": "FloatProgressModel",
          "model_module_version": "1.5.0",
          "state": {
            "_view_name": "ProgressView",
            "style": "IPY_MODEL_0be6dc7a21ad4a928d7374524d91ed48",
            "_dom_classes": [],
            "description": "",
            "_model_name": "FloatProgressModel",
            "bar_style": "info",
            "max": 1,
            "_view_module": "@jupyter-widgets/controls",
            "_model_module_version": "1.5.0",
            "value": 1,
            "_view_count": null,
            "_view_module_version": "1.5.0",
            "orientation": "horizontal",
            "min": 0,
            "description_tooltip": null,
            "_model_module": "@jupyter-widgets/controls",
            "layout": "IPY_MODEL_eacc0e4edf54439cad622bdbebe037c7"
          }
        },
        "1862654539f4404b967d4d5e1deeeb69": {
          "model_module": "@jupyter-widgets/controls",
          "model_name": "HTMLModel",
          "model_module_version": "1.5.0",
          "state": {
            "_view_name": "HTMLView",
            "style": "IPY_MODEL_3ba948ad189a42a8adf4231ba651e17c",
            "_dom_classes": [],
            "description": "",
            "_model_name": "HTMLModel",
            "placeholder": "​",
            "_view_module": "@jupyter-widgets/controls",
            "_model_module_version": "1.5.0",
            "value": " 1/? [00:01&lt;00:00,  1.17s/ tables]",
            "_view_count": null,
            "_view_module_version": "1.5.0",
            "description_tooltip": null,
            "_model_module": "@jupyter-widgets/controls",
            "layout": "IPY_MODEL_d0d795cc80d74d4597d6c71a1340590a"
          }
        },
        "0be6dc7a21ad4a928d7374524d91ed48": {
          "model_module": "@jupyter-widgets/controls",
          "model_name": "ProgressStyleModel",
          "model_module_version": "1.5.0",
          "state": {
            "_view_name": "StyleView",
            "_model_name": "ProgressStyleModel",
            "description_width": "initial",
            "_view_module": "@jupyter-widgets/base",
            "_model_module_version": "1.5.0",
            "_view_count": null,
            "_view_module_version": "1.2.0",
            "bar_color": null,
            "_model_module": "@jupyter-widgets/controls"
          }
        },
        "eacc0e4edf54439cad622bdbebe037c7": {
          "model_module": "@jupyter-widgets/base",
          "model_name": "LayoutModel",
          "model_module_version": "1.2.0",
          "state": {
            "_view_name": "LayoutView",
            "grid_template_rows": null,
            "right": null,
            "justify_content": null,
            "_view_module": "@jupyter-widgets/base",
            "overflow": null,
            "_model_module_version": "1.2.0",
            "_view_count": null,
            "flex_flow": null,
            "width": null,
            "min_width": null,
            "border": null,
            "align_items": null,
            "bottom": null,
            "_model_module": "@jupyter-widgets/base",
            "top": null,
            "grid_column": null,
            "overflow_y": null,
            "overflow_x": null,
            "grid_auto_flow": null,
            "grid_area": null,
            "grid_template_columns": null,
            "flex": null,
            "_model_name": "LayoutModel",
            "justify_items": null,
            "grid_row": null,
            "max_height": null,
            "align_content": null,
            "visibility": null,
            "align_self": null,
            "height": null,
            "min_height": null,
            "padding": null,
            "grid_auto_rows": null,
            "grid_gap": null,
            "max_width": null,
            "order": null,
            "_view_module_version": "1.2.0",
            "grid_template_areas": null,
            "object_position": null,
            "object_fit": null,
            "grid_auto_columns": null,
            "margin": null,
            "display": null,
            "left": null
          }
        },
        "3ba948ad189a42a8adf4231ba651e17c": {
          "model_module": "@jupyter-widgets/controls",
          "model_name": "DescriptionStyleModel",
          "model_module_version": "1.5.0",
          "state": {
            "_view_name": "StyleView",
            "_model_name": "DescriptionStyleModel",
            "description_width": "",
            "_view_module": "@jupyter-widgets/base",
            "_model_module_version": "1.5.0",
            "_view_count": null,
            "_view_module_version": "1.2.0",
            "_model_module": "@jupyter-widgets/controls"
          }
        },
        "d0d795cc80d74d4597d6c71a1340590a": {
          "model_module": "@jupyter-widgets/base",
          "model_name": "LayoutModel",
          "model_module_version": "1.2.0",
          "state": {
            "_view_name": "LayoutView",
            "grid_template_rows": null,
            "right": null,
            "justify_content": null,
            "_view_module": "@jupyter-widgets/base",
            "overflow": null,
            "_model_module_version": "1.2.0",
            "_view_count": null,
            "flex_flow": null,
            "width": null,
            "min_width": null,
            "border": null,
            "align_items": null,
            "bottom": null,
            "_model_module": "@jupyter-widgets/base",
            "top": null,
            "grid_column": null,
            "overflow_y": null,
            "overflow_x": null,
            "grid_auto_flow": null,
            "grid_area": null,
            "grid_template_columns": null,
            "flex": null,
            "_model_name": "LayoutModel",
            "justify_items": null,
            "grid_row": null,
            "max_height": null,
            "align_content": null,
            "visibility": null,
            "align_self": null,
            "height": null,
            "min_height": null,
            "padding": null,
            "grid_auto_rows": null,
            "grid_gap": null,
            "max_width": null,
            "order": null,
            "_view_module_version": "1.2.0",
            "grid_template_areas": null,
            "object_position": null,
            "object_fit": null,
            "grid_auto_columns": null,
            "margin": null,
            "display": null,
            "left": null
          }
        },
        "6f58df8bd6e44259b3b633070505d0d6": {
          "model_module": "@jupyter-widgets/controls",
          "model_name": "HBoxModel",
          "model_module_version": "1.5.0",
          "state": {
            "_view_name": "HBoxView",
            "_dom_classes": [],
            "_model_name": "HBoxModel",
            "_view_module": "@jupyter-widgets/controls",
            "_model_module_version": "1.5.0",
            "_view_count": null,
            "_view_module_version": "1.5.0",
            "box_style": "",
            "layout": "IPY_MODEL_a3319974819b421b956673c64e3c8cb4",
            "_model_module": "@jupyter-widgets/controls",
            "children": [
              "IPY_MODEL_9232184d52534d299ff36755e361d4b0",
              "IPY_MODEL_94b7be00b596428b9c797e7d84327207"
            ]
          }
        },
        "a3319974819b421b956673c64e3c8cb4": {
          "model_module": "@jupyter-widgets/base",
          "model_name": "LayoutModel",
          "model_module_version": "1.2.0",
          "state": {
            "_view_name": "LayoutView",
            "grid_template_rows": null,
            "right": null,
            "justify_content": null,
            "_view_module": "@jupyter-widgets/base",
            "overflow": null,
            "_model_module_version": "1.2.0",
            "_view_count": null,
            "flex_flow": null,
            "width": null,
            "min_width": null,
            "border": null,
            "align_items": null,
            "bottom": null,
            "_model_module": "@jupyter-widgets/base",
            "top": null,
            "grid_column": null,
            "overflow_y": null,
            "overflow_x": null,
            "grid_auto_flow": null,
            "grid_area": null,
            "grid_template_columns": null,
            "flex": null,
            "_model_name": "LayoutModel",
            "justify_items": null,
            "grid_row": null,
            "max_height": null,
            "align_content": null,
            "visibility": null,
            "align_self": null,
            "height": null,
            "min_height": null,
            "padding": null,
            "grid_auto_rows": null,
            "grid_gap": null,
            "max_width": null,
            "order": null,
            "_view_module_version": "1.2.0",
            "grid_template_areas": null,
            "object_position": null,
            "object_fit": null,
            "grid_auto_columns": null,
            "margin": null,
            "display": null,
            "left": null
          }
        },
        "9232184d52534d299ff36755e361d4b0": {
          "model_module": "@jupyter-widgets/controls",
          "model_name": "FloatProgressModel",
          "model_module_version": "1.5.0",
          "state": {
            "_view_name": "ProgressView",
            "style": "IPY_MODEL_635a03a05dbe4d0197cf14dfc8da611f",
            "_dom_classes": [],
            "description": "Downloading: 100%",
            "_model_name": "FloatProgressModel",
            "bar_style": "success",
            "max": 28,
            "_view_module": "@jupyter-widgets/controls",
            "_model_module_version": "1.5.0",
            "value": 28,
            "_view_count": null,
            "_view_module_version": "1.5.0",
            "orientation": "horizontal",
            "min": 0,
            "description_tooltip": null,
            "_model_module": "@jupyter-widgets/controls",
            "layout": "IPY_MODEL_952885197758414fbcadc2127997e702"
          }
        },
        "94b7be00b596428b9c797e7d84327207": {
          "model_module": "@jupyter-widgets/controls",
          "model_name": "HTMLModel",
          "model_module_version": "1.5.0",
          "state": {
            "_view_name": "HTMLView",
            "style": "IPY_MODEL_a8072cc1e0304c12b562e825265ae013",
            "_dom_classes": [],
            "description": "",
            "_model_name": "HTMLModel",
            "placeholder": "​",
            "_view_module": "@jupyter-widgets/controls",
            "_model_module_version": "1.5.0",
            "value": " 28.0/28.0 [00:01&lt;00:00, 23.7B/s]",
            "_view_count": null,
            "_view_module_version": "1.5.0",
            "description_tooltip": null,
            "_model_module": "@jupyter-widgets/controls",
            "layout": "IPY_MODEL_81e7e9f2370140f590aa54d944da3129"
          }
        },
        "635a03a05dbe4d0197cf14dfc8da611f": {
          "model_module": "@jupyter-widgets/controls",
          "model_name": "ProgressStyleModel",
          "model_module_version": "1.5.0",
          "state": {
            "_view_name": "StyleView",
            "_model_name": "ProgressStyleModel",
            "description_width": "initial",
            "_view_module": "@jupyter-widgets/base",
            "_model_module_version": "1.5.0",
            "_view_count": null,
            "_view_module_version": "1.2.0",
            "bar_color": null,
            "_model_module": "@jupyter-widgets/controls"
          }
        },
        "952885197758414fbcadc2127997e702": {
          "model_module": "@jupyter-widgets/base",
          "model_name": "LayoutModel",
          "model_module_version": "1.2.0",
          "state": {
            "_view_name": "LayoutView",
            "grid_template_rows": null,
            "right": null,
            "justify_content": null,
            "_view_module": "@jupyter-widgets/base",
            "overflow": null,
            "_model_module_version": "1.2.0",
            "_view_count": null,
            "flex_flow": null,
            "width": null,
            "min_width": null,
            "border": null,
            "align_items": null,
            "bottom": null,
            "_model_module": "@jupyter-widgets/base",
            "top": null,
            "grid_column": null,
            "overflow_y": null,
            "overflow_x": null,
            "grid_auto_flow": null,
            "grid_area": null,
            "grid_template_columns": null,
            "flex": null,
            "_model_name": "LayoutModel",
            "justify_items": null,
            "grid_row": null,
            "max_height": null,
            "align_content": null,
            "visibility": null,
            "align_self": null,
            "height": null,
            "min_height": null,
            "padding": null,
            "grid_auto_rows": null,
            "grid_gap": null,
            "max_width": null,
            "order": null,
            "_view_module_version": "1.2.0",
            "grid_template_areas": null,
            "object_position": null,
            "object_fit": null,
            "grid_auto_columns": null,
            "margin": null,
            "display": null,
            "left": null
          }
        },
        "a8072cc1e0304c12b562e825265ae013": {
          "model_module": "@jupyter-widgets/controls",
          "model_name": "DescriptionStyleModel",
          "model_module_version": "1.5.0",
          "state": {
            "_view_name": "StyleView",
            "_model_name": "DescriptionStyleModel",
            "description_width": "",
            "_view_module": "@jupyter-widgets/base",
            "_model_module_version": "1.5.0",
            "_view_count": null,
            "_view_module_version": "1.2.0",
            "_model_module": "@jupyter-widgets/controls"
          }
        },
        "81e7e9f2370140f590aa54d944da3129": {
          "model_module": "@jupyter-widgets/base",
          "model_name": "LayoutModel",
          "model_module_version": "1.2.0",
          "state": {
            "_view_name": "LayoutView",
            "grid_template_rows": null,
            "right": null,
            "justify_content": null,
            "_view_module": "@jupyter-widgets/base",
            "overflow": null,
            "_model_module_version": "1.2.0",
            "_view_count": null,
            "flex_flow": null,
            "width": null,
            "min_width": null,
            "border": null,
            "align_items": null,
            "bottom": null,
            "_model_module": "@jupyter-widgets/base",
            "top": null,
            "grid_column": null,
            "overflow_y": null,
            "overflow_x": null,
            "grid_auto_flow": null,
            "grid_area": null,
            "grid_template_columns": null,
            "flex": null,
            "_model_name": "LayoutModel",
            "justify_items": null,
            "grid_row": null,
            "max_height": null,
            "align_content": null,
            "visibility": null,
            "align_self": null,
            "height": null,
            "min_height": null,
            "padding": null,
            "grid_auto_rows": null,
            "grid_gap": null,
            "max_width": null,
            "order": null,
            "_view_module_version": "1.2.0",
            "grid_template_areas": null,
            "object_position": null,
            "object_fit": null,
            "grid_auto_columns": null,
            "margin": null,
            "display": null,
            "left": null
          }
        },
        "00a9cc27012b40aaab93cbc4fea10064": {
          "model_module": "@jupyter-widgets/controls",
          "model_name": "HBoxModel",
          "model_module_version": "1.5.0",
          "state": {
            "_view_name": "HBoxView",
            "_dom_classes": [],
            "_model_name": "HBoxModel",
            "_view_module": "@jupyter-widgets/controls",
            "_model_module_version": "1.5.0",
            "_view_count": null,
            "_view_module_version": "1.5.0",
            "box_style": "",
            "layout": "IPY_MODEL_d6af9c55d57d422cbe043507199de1e3",
            "_model_module": "@jupyter-widgets/controls",
            "children": [
              "IPY_MODEL_66acab67cc3a4ebab0cddc74907166c3",
              "IPY_MODEL_90611222ea8d43f2b3316f09b1d0c1ac"
            ]
          }
        },
        "d6af9c55d57d422cbe043507199de1e3": {
          "model_module": "@jupyter-widgets/base",
          "model_name": "LayoutModel",
          "model_module_version": "1.2.0",
          "state": {
            "_view_name": "LayoutView",
            "grid_template_rows": null,
            "right": null,
            "justify_content": null,
            "_view_module": "@jupyter-widgets/base",
            "overflow": null,
            "_model_module_version": "1.2.0",
            "_view_count": null,
            "flex_flow": null,
            "width": null,
            "min_width": null,
            "border": null,
            "align_items": null,
            "bottom": null,
            "_model_module": "@jupyter-widgets/base",
            "top": null,
            "grid_column": null,
            "overflow_y": null,
            "overflow_x": null,
            "grid_auto_flow": null,
            "grid_area": null,
            "grid_template_columns": null,
            "flex": null,
            "_model_name": "LayoutModel",
            "justify_items": null,
            "grid_row": null,
            "max_height": null,
            "align_content": null,
            "visibility": null,
            "align_self": null,
            "height": null,
            "min_height": null,
            "padding": null,
            "grid_auto_rows": null,
            "grid_gap": null,
            "max_width": null,
            "order": null,
            "_view_module_version": "1.2.0",
            "grid_template_areas": null,
            "object_position": null,
            "object_fit": null,
            "grid_auto_columns": null,
            "margin": null,
            "display": null,
            "left": null
          }
        },
        "66acab67cc3a4ebab0cddc74907166c3": {
          "model_module": "@jupyter-widgets/controls",
          "model_name": "FloatProgressModel",
          "model_module_version": "1.5.0",
          "state": {
            "_view_name": "ProgressView",
            "style": "IPY_MODEL_973b14a269414ad9857b84ce971e9268",
            "_dom_classes": [],
            "description": "Downloading: 100%",
            "_model_name": "FloatProgressModel",
            "bar_style": "success",
            "max": 442,
            "_view_module": "@jupyter-widgets/controls",
            "_model_module_version": "1.5.0",
            "value": 442,
            "_view_count": null,
            "_view_module_version": "1.5.0",
            "orientation": "horizontal",
            "min": 0,
            "description_tooltip": null,
            "_model_module": "@jupyter-widgets/controls",
            "layout": "IPY_MODEL_6fe38cc7540b4d47912851d75ad4fb7e"
          }
        },
        "90611222ea8d43f2b3316f09b1d0c1ac": {
          "model_module": "@jupyter-widgets/controls",
          "model_name": "HTMLModel",
          "model_module_version": "1.5.0",
          "state": {
            "_view_name": "HTMLView",
            "style": "IPY_MODEL_2ae2cfb0f91e4e11b43a98dda5c87683",
            "_dom_classes": [],
            "description": "",
            "_model_name": "HTMLModel",
            "placeholder": "​",
            "_view_module": "@jupyter-widgets/controls",
            "_model_module_version": "1.5.0",
            "value": " 442/442 [00:00&lt;00:00, 6.24kB/s]",
            "_view_count": null,
            "_view_module_version": "1.5.0",
            "description_tooltip": null,
            "_model_module": "@jupyter-widgets/controls",
            "layout": "IPY_MODEL_2e3d802f8b2a481c82081761efc78ae5"
          }
        },
        "973b14a269414ad9857b84ce971e9268": {
          "model_module": "@jupyter-widgets/controls",
          "model_name": "ProgressStyleModel",
          "model_module_version": "1.5.0",
          "state": {
            "_view_name": "StyleView",
            "_model_name": "ProgressStyleModel",
            "description_width": "initial",
            "_view_module": "@jupyter-widgets/base",
            "_model_module_version": "1.5.0",
            "_view_count": null,
            "_view_module_version": "1.2.0",
            "bar_color": null,
            "_model_module": "@jupyter-widgets/controls"
          }
        },
        "6fe38cc7540b4d47912851d75ad4fb7e": {
          "model_module": "@jupyter-widgets/base",
          "model_name": "LayoutModel",
          "model_module_version": "1.2.0",
          "state": {
            "_view_name": "LayoutView",
            "grid_template_rows": null,
            "right": null,
            "justify_content": null,
            "_view_module": "@jupyter-widgets/base",
            "overflow": null,
            "_model_module_version": "1.2.0",
            "_view_count": null,
            "flex_flow": null,
            "width": null,
            "min_width": null,
            "border": null,
            "align_items": null,
            "bottom": null,
            "_model_module": "@jupyter-widgets/base",
            "top": null,
            "grid_column": null,
            "overflow_y": null,
            "overflow_x": null,
            "grid_auto_flow": null,
            "grid_area": null,
            "grid_template_columns": null,
            "flex": null,
            "_model_name": "LayoutModel",
            "justify_items": null,
            "grid_row": null,
            "max_height": null,
            "align_content": null,
            "visibility": null,
            "align_self": null,
            "height": null,
            "min_height": null,
            "padding": null,
            "grid_auto_rows": null,
            "grid_gap": null,
            "max_width": null,
            "order": null,
            "_view_module_version": "1.2.0",
            "grid_template_areas": null,
            "object_position": null,
            "object_fit": null,
            "grid_auto_columns": null,
            "margin": null,
            "display": null,
            "left": null
          }
        },
        "2ae2cfb0f91e4e11b43a98dda5c87683": {
          "model_module": "@jupyter-widgets/controls",
          "model_name": "DescriptionStyleModel",
          "model_module_version": "1.5.0",
          "state": {
            "_view_name": "StyleView",
            "_model_name": "DescriptionStyleModel",
            "description_width": "",
            "_view_module": "@jupyter-widgets/base",
            "_model_module_version": "1.5.0",
            "_view_count": null,
            "_view_module_version": "1.2.0",
            "_model_module": "@jupyter-widgets/controls"
          }
        },
        "2e3d802f8b2a481c82081761efc78ae5": {
          "model_module": "@jupyter-widgets/base",
          "model_name": "LayoutModel",
          "model_module_version": "1.2.0",
          "state": {
            "_view_name": "LayoutView",
            "grid_template_rows": null,
            "right": null,
            "justify_content": null,
            "_view_module": "@jupyter-widgets/base",
            "overflow": null,
            "_model_module_version": "1.2.0",
            "_view_count": null,
            "flex_flow": null,
            "width": null,
            "min_width": null,
            "border": null,
            "align_items": null,
            "bottom": null,
            "_model_module": "@jupyter-widgets/base",
            "top": null,
            "grid_column": null,
            "overflow_y": null,
            "overflow_x": null,
            "grid_auto_flow": null,
            "grid_area": null,
            "grid_template_columns": null,
            "flex": null,
            "_model_name": "LayoutModel",
            "justify_items": null,
            "grid_row": null,
            "max_height": null,
            "align_content": null,
            "visibility": null,
            "align_self": null,
            "height": null,
            "min_height": null,
            "padding": null,
            "grid_auto_rows": null,
            "grid_gap": null,
            "max_width": null,
            "order": null,
            "_view_module_version": "1.2.0",
            "grid_template_areas": null,
            "object_position": null,
            "object_fit": null,
            "grid_auto_columns": null,
            "margin": null,
            "display": null,
            "left": null
          }
        },
        "36ecf9659ed34c2b8ce08c840c6534e6": {
          "model_module": "@jupyter-widgets/controls",
          "model_name": "HBoxModel",
          "model_module_version": "1.5.0",
          "state": {
            "_view_name": "HBoxView",
            "_dom_classes": [],
            "_model_name": "HBoxModel",
            "_view_module": "@jupyter-widgets/controls",
            "_model_module_version": "1.5.0",
            "_view_count": null,
            "_view_module_version": "1.5.0",
            "box_style": "",
            "layout": "IPY_MODEL_86e0f8b4f4054577b32b6d40b432e0f8",
            "_model_module": "@jupyter-widgets/controls",
            "children": [
              "IPY_MODEL_a68f744e4dfa4f319b523e9f7be4ff6a",
              "IPY_MODEL_a674554987344b2c9a3d3cf726780a50"
            ]
          }
        },
        "86e0f8b4f4054577b32b6d40b432e0f8": {
          "model_module": "@jupyter-widgets/base",
          "model_name": "LayoutModel",
          "model_module_version": "1.2.0",
          "state": {
            "_view_name": "LayoutView",
            "grid_template_rows": null,
            "right": null,
            "justify_content": null,
            "_view_module": "@jupyter-widgets/base",
            "overflow": null,
            "_model_module_version": "1.2.0",
            "_view_count": null,
            "flex_flow": null,
            "width": null,
            "min_width": null,
            "border": null,
            "align_items": null,
            "bottom": null,
            "_model_module": "@jupyter-widgets/base",
            "top": null,
            "grid_column": null,
            "overflow_y": null,
            "overflow_x": null,
            "grid_auto_flow": null,
            "grid_area": null,
            "grid_template_columns": null,
            "flex": null,
            "_model_name": "LayoutModel",
            "justify_items": null,
            "grid_row": null,
            "max_height": null,
            "align_content": null,
            "visibility": null,
            "align_self": null,
            "height": null,
            "min_height": null,
            "padding": null,
            "grid_auto_rows": null,
            "grid_gap": null,
            "max_width": null,
            "order": null,
            "_view_module_version": "1.2.0",
            "grid_template_areas": null,
            "object_position": null,
            "object_fit": null,
            "grid_auto_columns": null,
            "margin": null,
            "display": null,
            "left": null
          }
        },
        "a68f744e4dfa4f319b523e9f7be4ff6a": {
          "model_module": "@jupyter-widgets/controls",
          "model_name": "FloatProgressModel",
          "model_module_version": "1.5.0",
          "state": {
            "_view_name": "ProgressView",
            "style": "IPY_MODEL_21f7ac04f2f44e148f00d02525f27457",
            "_dom_classes": [],
            "description": "Downloading: 100%",
            "_model_name": "FloatProgressModel",
            "bar_style": "success",
            "max": 231508,
            "_view_module": "@jupyter-widgets/controls",
            "_model_module_version": "1.5.0",
            "value": 231508,
            "_view_count": null,
            "_view_module_version": "1.5.0",
            "orientation": "horizontal",
            "min": 0,
            "description_tooltip": null,
            "_model_module": "@jupyter-widgets/controls",
            "layout": "IPY_MODEL_5af03b2fbe0e4f7fa1be5437cb7267cc"
          }
        },
        "a674554987344b2c9a3d3cf726780a50": {
          "model_module": "@jupyter-widgets/controls",
          "model_name": "HTMLModel",
          "model_module_version": "1.5.0",
          "state": {
            "_view_name": "HTMLView",
            "style": "IPY_MODEL_981eccf3ec934617a733bc7066091779",
            "_dom_classes": [],
            "description": "",
            "_model_name": "HTMLModel",
            "placeholder": "​",
            "_view_module": "@jupyter-widgets/controls",
            "_model_module_version": "1.5.0",
            "value": " 232k/232k [00:00&lt;00:00, 623kB/s]",
            "_view_count": null,
            "_view_module_version": "1.5.0",
            "description_tooltip": null,
            "_model_module": "@jupyter-widgets/controls",
            "layout": "IPY_MODEL_39da568a871c47428019a545390bc7be"
          }
        },
        "21f7ac04f2f44e148f00d02525f27457": {
          "model_module": "@jupyter-widgets/controls",
          "model_name": "ProgressStyleModel",
          "model_module_version": "1.5.0",
          "state": {
            "_view_name": "StyleView",
            "_model_name": "ProgressStyleModel",
            "description_width": "initial",
            "_view_module": "@jupyter-widgets/base",
            "_model_module_version": "1.5.0",
            "_view_count": null,
            "_view_module_version": "1.2.0",
            "bar_color": null,
            "_model_module": "@jupyter-widgets/controls"
          }
        },
        "5af03b2fbe0e4f7fa1be5437cb7267cc": {
          "model_module": "@jupyter-widgets/base",
          "model_name": "LayoutModel",
          "model_module_version": "1.2.0",
          "state": {
            "_view_name": "LayoutView",
            "grid_template_rows": null,
            "right": null,
            "justify_content": null,
            "_view_module": "@jupyter-widgets/base",
            "overflow": null,
            "_model_module_version": "1.2.0",
            "_view_count": null,
            "flex_flow": null,
            "width": null,
            "min_width": null,
            "border": null,
            "align_items": null,
            "bottom": null,
            "_model_module": "@jupyter-widgets/base",
            "top": null,
            "grid_column": null,
            "overflow_y": null,
            "overflow_x": null,
            "grid_auto_flow": null,
            "grid_area": null,
            "grid_template_columns": null,
            "flex": null,
            "_model_name": "LayoutModel",
            "justify_items": null,
            "grid_row": null,
            "max_height": null,
            "align_content": null,
            "visibility": null,
            "align_self": null,
            "height": null,
            "min_height": null,
            "padding": null,
            "grid_auto_rows": null,
            "grid_gap": null,
            "max_width": null,
            "order": null,
            "_view_module_version": "1.2.0",
            "grid_template_areas": null,
            "object_position": null,
            "object_fit": null,
            "grid_auto_columns": null,
            "margin": null,
            "display": null,
            "left": null
          }
        },
        "981eccf3ec934617a733bc7066091779": {
          "model_module": "@jupyter-widgets/controls",
          "model_name": "DescriptionStyleModel",
          "model_module_version": "1.5.0",
          "state": {
            "_view_name": "StyleView",
            "_model_name": "DescriptionStyleModel",
            "description_width": "",
            "_view_module": "@jupyter-widgets/base",
            "_model_module_version": "1.5.0",
            "_view_count": null,
            "_view_module_version": "1.2.0",
            "_model_module": "@jupyter-widgets/controls"
          }
        },
        "39da568a871c47428019a545390bc7be": {
          "model_module": "@jupyter-widgets/base",
          "model_name": "LayoutModel",
          "model_module_version": "1.2.0",
          "state": {
            "_view_name": "LayoutView",
            "grid_template_rows": null,
            "right": null,
            "justify_content": null,
            "_view_module": "@jupyter-widgets/base",
            "overflow": null,
            "_model_module_version": "1.2.0",
            "_view_count": null,
            "flex_flow": null,
            "width": null,
            "min_width": null,
            "border": null,
            "align_items": null,
            "bottom": null,
            "_model_module": "@jupyter-widgets/base",
            "top": null,
            "grid_column": null,
            "overflow_y": null,
            "overflow_x": null,
            "grid_auto_flow": null,
            "grid_area": null,
            "grid_template_columns": null,
            "flex": null,
            "_model_name": "LayoutModel",
            "justify_items": null,
            "grid_row": null,
            "max_height": null,
            "align_content": null,
            "visibility": null,
            "align_self": null,
            "height": null,
            "min_height": null,
            "padding": null,
            "grid_auto_rows": null,
            "grid_gap": null,
            "max_width": null,
            "order": null,
            "_view_module_version": "1.2.0",
            "grid_template_areas": null,
            "object_position": null,
            "object_fit": null,
            "grid_auto_columns": null,
            "margin": null,
            "display": null,
            "left": null
          }
        },
        "505370b9625f4f278370cde9e724b94a": {
          "model_module": "@jupyter-widgets/controls",
          "model_name": "HBoxModel",
          "model_module_version": "1.5.0",
          "state": {
            "_view_name": "HBoxView",
            "_dom_classes": [],
            "_model_name": "HBoxModel",
            "_view_module": "@jupyter-widgets/controls",
            "_model_module_version": "1.5.0",
            "_view_count": null,
            "_view_module_version": "1.5.0",
            "box_style": "",
            "layout": "IPY_MODEL_16453e934dae49dd88888ab17a6076b1",
            "_model_module": "@jupyter-widgets/controls",
            "children": [
              "IPY_MODEL_54b7e52170054f09bae12db187447557",
              "IPY_MODEL_4e96ddac0bd344afa226debd26af5a0f"
            ]
          }
        },
        "16453e934dae49dd88888ab17a6076b1": {
          "model_module": "@jupyter-widgets/base",
          "model_name": "LayoutModel",
          "model_module_version": "1.2.0",
          "state": {
            "_view_name": "LayoutView",
            "grid_template_rows": null,
            "right": null,
            "justify_content": null,
            "_view_module": "@jupyter-widgets/base",
            "overflow": null,
            "_model_module_version": "1.2.0",
            "_view_count": null,
            "flex_flow": null,
            "width": null,
            "min_width": null,
            "border": null,
            "align_items": null,
            "bottom": null,
            "_model_module": "@jupyter-widgets/base",
            "top": null,
            "grid_column": null,
            "overflow_y": null,
            "overflow_x": null,
            "grid_auto_flow": null,
            "grid_area": null,
            "grid_template_columns": null,
            "flex": null,
            "_model_name": "LayoutModel",
            "justify_items": null,
            "grid_row": null,
            "max_height": null,
            "align_content": null,
            "visibility": null,
            "align_self": null,
            "height": null,
            "min_height": null,
            "padding": null,
            "grid_auto_rows": null,
            "grid_gap": null,
            "max_width": null,
            "order": null,
            "_view_module_version": "1.2.0",
            "grid_template_areas": null,
            "object_position": null,
            "object_fit": null,
            "grid_auto_columns": null,
            "margin": null,
            "display": null,
            "left": null
          }
        },
        "54b7e52170054f09bae12db187447557": {
          "model_module": "@jupyter-widgets/controls",
          "model_name": "FloatProgressModel",
          "model_module_version": "1.5.0",
          "state": {
            "_view_name": "ProgressView",
            "style": "IPY_MODEL_3153d0c7f74841c092afaed4588d4f18",
            "_dom_classes": [],
            "description": "Downloading: 100%",
            "_model_name": "FloatProgressModel",
            "bar_style": "success",
            "max": 466062,
            "_view_module": "@jupyter-widgets/controls",
            "_model_module_version": "1.5.0",
            "value": 466062,
            "_view_count": null,
            "_view_module_version": "1.5.0",
            "orientation": "horizontal",
            "min": 0,
            "description_tooltip": null,
            "_model_module": "@jupyter-widgets/controls",
            "layout": "IPY_MODEL_9923a74bebd74932b2a0d86eef4f0674"
          }
        },
        "4e96ddac0bd344afa226debd26af5a0f": {
          "model_module": "@jupyter-widgets/controls",
          "model_name": "HTMLModel",
          "model_module_version": "1.5.0",
          "state": {
            "_view_name": "HTMLView",
            "style": "IPY_MODEL_260daba0fc9c4e038e359f4c0156a6fb",
            "_dom_classes": [],
            "description": "",
            "_model_name": "HTMLModel",
            "placeholder": "​",
            "_view_module": "@jupyter-widgets/controls",
            "_model_module_version": "1.5.0",
            "value": " 466k/466k [00:00&lt;00:00, 1.94MB/s]",
            "_view_count": null,
            "_view_module_version": "1.5.0",
            "description_tooltip": null,
            "_model_module": "@jupyter-widgets/controls",
            "layout": "IPY_MODEL_7ebee63e1de44c3fbf9b79669aa65918"
          }
        },
        "3153d0c7f74841c092afaed4588d4f18": {
          "model_module": "@jupyter-widgets/controls",
          "model_name": "ProgressStyleModel",
          "model_module_version": "1.5.0",
          "state": {
            "_view_name": "StyleView",
            "_model_name": "ProgressStyleModel",
            "description_width": "initial",
            "_view_module": "@jupyter-widgets/base",
            "_model_module_version": "1.5.0",
            "_view_count": null,
            "_view_module_version": "1.2.0",
            "bar_color": null,
            "_model_module": "@jupyter-widgets/controls"
          }
        },
        "9923a74bebd74932b2a0d86eef4f0674": {
          "model_module": "@jupyter-widgets/base",
          "model_name": "LayoutModel",
          "model_module_version": "1.2.0",
          "state": {
            "_view_name": "LayoutView",
            "grid_template_rows": null,
            "right": null,
            "justify_content": null,
            "_view_module": "@jupyter-widgets/base",
            "overflow": null,
            "_model_module_version": "1.2.0",
            "_view_count": null,
            "flex_flow": null,
            "width": null,
            "min_width": null,
            "border": null,
            "align_items": null,
            "bottom": null,
            "_model_module": "@jupyter-widgets/base",
            "top": null,
            "grid_column": null,
            "overflow_y": null,
            "overflow_x": null,
            "grid_auto_flow": null,
            "grid_area": null,
            "grid_template_columns": null,
            "flex": null,
            "_model_name": "LayoutModel",
            "justify_items": null,
            "grid_row": null,
            "max_height": null,
            "align_content": null,
            "visibility": null,
            "align_self": null,
            "height": null,
            "min_height": null,
            "padding": null,
            "grid_auto_rows": null,
            "grid_gap": null,
            "max_width": null,
            "order": null,
            "_view_module_version": "1.2.0",
            "grid_template_areas": null,
            "object_position": null,
            "object_fit": null,
            "grid_auto_columns": null,
            "margin": null,
            "display": null,
            "left": null
          }
        },
        "260daba0fc9c4e038e359f4c0156a6fb": {
          "model_module": "@jupyter-widgets/controls",
          "model_name": "DescriptionStyleModel",
          "model_module_version": "1.5.0",
          "state": {
            "_view_name": "StyleView",
            "_model_name": "DescriptionStyleModel",
            "description_width": "",
            "_view_module": "@jupyter-widgets/base",
            "_model_module_version": "1.5.0",
            "_view_count": null,
            "_view_module_version": "1.2.0",
            "_model_module": "@jupyter-widgets/controls"
          }
        },
        "7ebee63e1de44c3fbf9b79669aa65918": {
          "model_module": "@jupyter-widgets/base",
          "model_name": "LayoutModel",
          "model_module_version": "1.2.0",
          "state": {
            "_view_name": "LayoutView",
            "grid_template_rows": null,
            "right": null,
            "justify_content": null,
            "_view_module": "@jupyter-widgets/base",
            "overflow": null,
            "_model_module_version": "1.2.0",
            "_view_count": null,
            "flex_flow": null,
            "width": null,
            "min_width": null,
            "border": null,
            "align_items": null,
            "bottom": null,
            "_model_module": "@jupyter-widgets/base",
            "top": null,
            "grid_column": null,
            "overflow_y": null,
            "overflow_x": null,
            "grid_auto_flow": null,
            "grid_area": null,
            "grid_template_columns": null,
            "flex": null,
            "_model_name": "LayoutModel",
            "justify_items": null,
            "grid_row": null,
            "max_height": null,
            "align_content": null,
            "visibility": null,
            "align_self": null,
            "height": null,
            "min_height": null,
            "padding": null,
            "grid_auto_rows": null,
            "grid_gap": null,
            "max_width": null,
            "order": null,
            "_view_module_version": "1.2.0",
            "grid_template_areas": null,
            "object_position": null,
            "object_fit": null,
            "grid_auto_columns": null,
            "margin": null,
            "display": null,
            "left": null
          }
        },
        "6058297d30ed4229b0eed75004679413": {
          "model_module": "@jupyter-widgets/controls",
          "model_name": "HBoxModel",
          "model_module_version": "1.5.0",
          "state": {
            "_view_name": "HBoxView",
            "_dom_classes": [],
            "_model_name": "HBoxModel",
            "_view_module": "@jupyter-widgets/controls",
            "_model_module_version": "1.5.0",
            "_view_count": null,
            "_view_module_version": "1.5.0",
            "box_style": "",
            "layout": "IPY_MODEL_e006310f04d9432d93bfac96e7f2d47a",
            "_model_module": "@jupyter-widgets/controls",
            "children": [
              "IPY_MODEL_b7cf1f9167a948038f95414873693bbc",
              "IPY_MODEL_798d2518e266411cb18bb40bf4af32cf"
            ]
          }
        },
        "e006310f04d9432d93bfac96e7f2d47a": {
          "model_module": "@jupyter-widgets/base",
          "model_name": "LayoutModel",
          "model_module_version": "1.2.0",
          "state": {
            "_view_name": "LayoutView",
            "grid_template_rows": null,
            "right": null,
            "justify_content": null,
            "_view_module": "@jupyter-widgets/base",
            "overflow": null,
            "_model_module_version": "1.2.0",
            "_view_count": null,
            "flex_flow": null,
            "width": null,
            "min_width": null,
            "border": null,
            "align_items": null,
            "bottom": null,
            "_model_module": "@jupyter-widgets/base",
            "top": null,
            "grid_column": null,
            "overflow_y": null,
            "overflow_x": null,
            "grid_auto_flow": null,
            "grid_area": null,
            "grid_template_columns": null,
            "flex": null,
            "_model_name": "LayoutModel",
            "justify_items": null,
            "grid_row": null,
            "max_height": null,
            "align_content": null,
            "visibility": null,
            "align_self": null,
            "height": null,
            "min_height": null,
            "padding": null,
            "grid_auto_rows": null,
            "grid_gap": null,
            "max_width": null,
            "order": null,
            "_view_module_version": "1.2.0",
            "grid_template_areas": null,
            "object_position": null,
            "object_fit": null,
            "grid_auto_columns": null,
            "margin": null,
            "display": null,
            "left": null
          }
        },
        "b7cf1f9167a948038f95414873693bbc": {
          "model_module": "@jupyter-widgets/controls",
          "model_name": "FloatProgressModel",
          "model_module_version": "1.5.0",
          "state": {
            "_view_name": "ProgressView",
            "style": "IPY_MODEL_c638773c64ea4cddb8d1c62d0e2d38b0",
            "_dom_classes": [],
            "description": "100%",
            "_model_name": "FloatProgressModel",
            "bar_style": "success",
            "max": 79,
            "_view_module": "@jupyter-widgets/controls",
            "_model_module_version": "1.5.0",
            "value": 79,
            "_view_count": null,
            "_view_module_version": "1.5.0",
            "orientation": "horizontal",
            "min": 0,
            "description_tooltip": null,
            "_model_module": "@jupyter-widgets/controls",
            "layout": "IPY_MODEL_db70ee02a85e47e8b72864089d5c38e4"
          }
        },
        "798d2518e266411cb18bb40bf4af32cf": {
          "model_module": "@jupyter-widgets/controls",
          "model_name": "HTMLModel",
          "model_module_version": "1.5.0",
          "state": {
            "_view_name": "HTMLView",
            "style": "IPY_MODEL_f9d81dbdd1cf43eaa60752be5afbc246",
            "_dom_classes": [],
            "description": "",
            "_model_name": "HTMLModel",
            "placeholder": "​",
            "_view_module": "@jupyter-widgets/controls",
            "_model_module_version": "1.5.0",
            "value": " 79/79 [00:49&lt;00:00,  1.60ba/s]",
            "_view_count": null,
            "_view_module_version": "1.5.0",
            "description_tooltip": null,
            "_model_module": "@jupyter-widgets/controls",
            "layout": "IPY_MODEL_f400f8055048476599fc66bf40302885"
          }
        },
        "c638773c64ea4cddb8d1c62d0e2d38b0": {
          "model_module": "@jupyter-widgets/controls",
          "model_name": "ProgressStyleModel",
          "model_module_version": "1.5.0",
          "state": {
            "_view_name": "StyleView",
            "_model_name": "ProgressStyleModel",
            "description_width": "initial",
            "_view_module": "@jupyter-widgets/base",
            "_model_module_version": "1.5.0",
            "_view_count": null,
            "_view_module_version": "1.2.0",
            "bar_color": null,
            "_model_module": "@jupyter-widgets/controls"
          }
        },
        "db70ee02a85e47e8b72864089d5c38e4": {
          "model_module": "@jupyter-widgets/base",
          "model_name": "LayoutModel",
          "model_module_version": "1.2.0",
          "state": {
            "_view_name": "LayoutView",
            "grid_template_rows": null,
            "right": null,
            "justify_content": null,
            "_view_module": "@jupyter-widgets/base",
            "overflow": null,
            "_model_module_version": "1.2.0",
            "_view_count": null,
            "flex_flow": null,
            "width": null,
            "min_width": null,
            "border": null,
            "align_items": null,
            "bottom": null,
            "_model_module": "@jupyter-widgets/base",
            "top": null,
            "grid_column": null,
            "overflow_y": null,
            "overflow_x": null,
            "grid_auto_flow": null,
            "grid_area": null,
            "grid_template_columns": null,
            "flex": null,
            "_model_name": "LayoutModel",
            "justify_items": null,
            "grid_row": null,
            "max_height": null,
            "align_content": null,
            "visibility": null,
            "align_self": null,
            "height": null,
            "min_height": null,
            "padding": null,
            "grid_auto_rows": null,
            "grid_gap": null,
            "max_width": null,
            "order": null,
            "_view_module_version": "1.2.0",
            "grid_template_areas": null,
            "object_position": null,
            "object_fit": null,
            "grid_auto_columns": null,
            "margin": null,
            "display": null,
            "left": null
          }
        },
        "f9d81dbdd1cf43eaa60752be5afbc246": {
          "model_module": "@jupyter-widgets/controls",
          "model_name": "DescriptionStyleModel",
          "model_module_version": "1.5.0",
          "state": {
            "_view_name": "StyleView",
            "_model_name": "DescriptionStyleModel",
            "description_width": "",
            "_view_module": "@jupyter-widgets/base",
            "_model_module_version": "1.5.0",
            "_view_count": null,
            "_view_module_version": "1.2.0",
            "_model_module": "@jupyter-widgets/controls"
          }
        },
        "f400f8055048476599fc66bf40302885": {
          "model_module": "@jupyter-widgets/base",
          "model_name": "LayoutModel",
          "model_module_version": "1.2.0",
          "state": {
            "_view_name": "LayoutView",
            "grid_template_rows": null,
            "right": null,
            "justify_content": null,
            "_view_module": "@jupyter-widgets/base",
            "overflow": null,
            "_model_module_version": "1.2.0",
            "_view_count": null,
            "flex_flow": null,
            "width": null,
            "min_width": null,
            "border": null,
            "align_items": null,
            "bottom": null,
            "_model_module": "@jupyter-widgets/base",
            "top": null,
            "grid_column": null,
            "overflow_y": null,
            "overflow_x": null,
            "grid_auto_flow": null,
            "grid_area": null,
            "grid_template_columns": null,
            "flex": null,
            "_model_name": "LayoutModel",
            "justify_items": null,
            "grid_row": null,
            "max_height": null,
            "align_content": null,
            "visibility": null,
            "align_self": null,
            "height": null,
            "min_height": null,
            "padding": null,
            "grid_auto_rows": null,
            "grid_gap": null,
            "max_width": null,
            "order": null,
            "_view_module_version": "1.2.0",
            "grid_template_areas": null,
            "object_position": null,
            "object_fit": null,
            "grid_auto_columns": null,
            "margin": null,
            "display": null,
            "left": null
          }
        },
        "a9879d9dd2fa49c5a4c9943ebe605936": {
          "model_module": "@jupyter-widgets/controls",
          "model_name": "HBoxModel",
          "model_module_version": "1.5.0",
          "state": {
            "_view_name": "HBoxView",
            "_dom_classes": [],
            "_model_name": "HBoxModel",
            "_view_module": "@jupyter-widgets/controls",
            "_model_module_version": "1.5.0",
            "_view_count": null,
            "_view_module_version": "1.5.0",
            "box_style": "",
            "layout": "IPY_MODEL_1335fdbc4a3b42019460ae18d6b18e0f",
            "_model_module": "@jupyter-widgets/controls",
            "children": [
              "IPY_MODEL_c38826ac0b89499cb53516d2b4b89db3",
              "IPY_MODEL_02ce93341b3e4054b2cc95f4eb56e288"
            ]
          }
        },
        "1335fdbc4a3b42019460ae18d6b18e0f": {
          "model_module": "@jupyter-widgets/base",
          "model_name": "LayoutModel",
          "model_module_version": "1.2.0",
          "state": {
            "_view_name": "LayoutView",
            "grid_template_rows": null,
            "right": null,
            "justify_content": null,
            "_view_module": "@jupyter-widgets/base",
            "overflow": null,
            "_model_module_version": "1.2.0",
            "_view_count": null,
            "flex_flow": null,
            "width": null,
            "min_width": null,
            "border": null,
            "align_items": null,
            "bottom": null,
            "_model_module": "@jupyter-widgets/base",
            "top": null,
            "grid_column": null,
            "overflow_y": null,
            "overflow_x": null,
            "grid_auto_flow": null,
            "grid_area": null,
            "grid_template_columns": null,
            "flex": null,
            "_model_name": "LayoutModel",
            "justify_items": null,
            "grid_row": null,
            "max_height": null,
            "align_content": null,
            "visibility": null,
            "align_self": null,
            "height": null,
            "min_height": null,
            "padding": null,
            "grid_auto_rows": null,
            "grid_gap": null,
            "max_width": null,
            "order": null,
            "_view_module_version": "1.2.0",
            "grid_template_areas": null,
            "object_position": null,
            "object_fit": null,
            "grid_auto_columns": null,
            "margin": null,
            "display": null,
            "left": null
          }
        },
        "c38826ac0b89499cb53516d2b4b89db3": {
          "model_module": "@jupyter-widgets/controls",
          "model_name": "FloatProgressModel",
          "model_module_version": "1.5.0",
          "state": {
            "_view_name": "ProgressView",
            "style": "IPY_MODEL_05edccb286d9490aa341a560c776f7c9",
            "_dom_classes": [],
            "description": "100%",
            "_model_name": "FloatProgressModel",
            "bar_style": "success",
            "max": 10,
            "_view_module": "@jupyter-widgets/controls",
            "_model_module_version": "1.5.0",
            "value": 10,
            "_view_count": null,
            "_view_module_version": "1.5.0",
            "orientation": "horizontal",
            "min": 0,
            "description_tooltip": null,
            "_model_module": "@jupyter-widgets/controls",
            "layout": "IPY_MODEL_551debd5713f47e3b3da820aad937344"
          }
        },
        "02ce93341b3e4054b2cc95f4eb56e288": {
          "model_module": "@jupyter-widgets/controls",
          "model_name": "HTMLModel",
          "model_module_version": "1.5.0",
          "state": {
            "_view_name": "HTMLView",
            "style": "IPY_MODEL_94ce78ecda7444cab29c4c8e1d0a1958",
            "_dom_classes": [],
            "description": "",
            "_model_name": "HTMLModel",
            "placeholder": "​",
            "_view_module": "@jupyter-widgets/controls",
            "_model_module_version": "1.5.0",
            "value": " 10/10 [00:06&lt;00:00,  1.57ba/s]",
            "_view_count": null,
            "_view_module_version": "1.5.0",
            "description_tooltip": null,
            "_model_module": "@jupyter-widgets/controls",
            "layout": "IPY_MODEL_d4c3a07b084848a99207f7b843937165"
          }
        },
        "05edccb286d9490aa341a560c776f7c9": {
          "model_module": "@jupyter-widgets/controls",
          "model_name": "ProgressStyleModel",
          "model_module_version": "1.5.0",
          "state": {
            "_view_name": "StyleView",
            "_model_name": "ProgressStyleModel",
            "description_width": "initial",
            "_view_module": "@jupyter-widgets/base",
            "_model_module_version": "1.5.0",
            "_view_count": null,
            "_view_module_version": "1.2.0",
            "bar_color": null,
            "_model_module": "@jupyter-widgets/controls"
          }
        },
        "551debd5713f47e3b3da820aad937344": {
          "model_module": "@jupyter-widgets/base",
          "model_name": "LayoutModel",
          "model_module_version": "1.2.0",
          "state": {
            "_view_name": "LayoutView",
            "grid_template_rows": null,
            "right": null,
            "justify_content": null,
            "_view_module": "@jupyter-widgets/base",
            "overflow": null,
            "_model_module_version": "1.2.0",
            "_view_count": null,
            "flex_flow": null,
            "width": null,
            "min_width": null,
            "border": null,
            "align_items": null,
            "bottom": null,
            "_model_module": "@jupyter-widgets/base",
            "top": null,
            "grid_column": null,
            "overflow_y": null,
            "overflow_x": null,
            "grid_auto_flow": null,
            "grid_area": null,
            "grid_template_columns": null,
            "flex": null,
            "_model_name": "LayoutModel",
            "justify_items": null,
            "grid_row": null,
            "max_height": null,
            "align_content": null,
            "visibility": null,
            "align_self": null,
            "height": null,
            "min_height": null,
            "padding": null,
            "grid_auto_rows": null,
            "grid_gap": null,
            "max_width": null,
            "order": null,
            "_view_module_version": "1.2.0",
            "grid_template_areas": null,
            "object_position": null,
            "object_fit": null,
            "grid_auto_columns": null,
            "margin": null,
            "display": null,
            "left": null
          }
        },
        "94ce78ecda7444cab29c4c8e1d0a1958": {
          "model_module": "@jupyter-widgets/controls",
          "model_name": "DescriptionStyleModel",
          "model_module_version": "1.5.0",
          "state": {
            "_view_name": "StyleView",
            "_model_name": "DescriptionStyleModel",
            "description_width": "",
            "_view_module": "@jupyter-widgets/base",
            "_model_module_version": "1.5.0",
            "_view_count": null,
            "_view_module_version": "1.2.0",
            "_model_module": "@jupyter-widgets/controls"
          }
        },
        "d4c3a07b084848a99207f7b843937165": {
          "model_module": "@jupyter-widgets/base",
          "model_name": "LayoutModel",
          "model_module_version": "1.2.0",
          "state": {
            "_view_name": "LayoutView",
            "grid_template_rows": null,
            "right": null,
            "justify_content": null,
            "_view_module": "@jupyter-widgets/base",
            "overflow": null,
            "_model_module_version": "1.2.0",
            "_view_count": null,
            "flex_flow": null,
            "width": null,
            "min_width": null,
            "border": null,
            "align_items": null,
            "bottom": null,
            "_model_module": "@jupyter-widgets/base",
            "top": null,
            "grid_column": null,
            "overflow_y": null,
            "overflow_x": null,
            "grid_auto_flow": null,
            "grid_area": null,
            "grid_template_columns": null,
            "flex": null,
            "_model_name": "LayoutModel",
            "justify_items": null,
            "grid_row": null,
            "max_height": null,
            "align_content": null,
            "visibility": null,
            "align_self": null,
            "height": null,
            "min_height": null,
            "padding": null,
            "grid_auto_rows": null,
            "grid_gap": null,
            "max_width": null,
            "order": null,
            "_view_module_version": "1.2.0",
            "grid_template_areas": null,
            "object_position": null,
            "object_fit": null,
            "grid_auto_columns": null,
            "margin": null,
            "display": null,
            "left": null
          }
        },
        "7012e8f56eab4998aafaed6586011289": {
          "model_module": "@jupyter-widgets/controls",
          "model_name": "HBoxModel",
          "model_module_version": "1.5.0",
          "state": {
            "_view_name": "HBoxView",
            "_dom_classes": [],
            "_model_name": "HBoxModel",
            "_view_module": "@jupyter-widgets/controls",
            "_model_module_version": "1.5.0",
            "_view_count": null,
            "_view_module_version": "1.5.0",
            "box_style": "",
            "layout": "IPY_MODEL_0394fa4a6390496bb1b8dcafdd32dcfc",
            "_model_module": "@jupyter-widgets/controls",
            "children": [
              "IPY_MODEL_94a006c92c72410eb9f686169210bd99",
              "IPY_MODEL_2159144669ff458ca1ed6fd32e14b79a"
            ]
          }
        },
        "0394fa4a6390496bb1b8dcafdd32dcfc": {
          "model_module": "@jupyter-widgets/base",
          "model_name": "LayoutModel",
          "model_module_version": "1.2.0",
          "state": {
            "_view_name": "LayoutView",
            "grid_template_rows": null,
            "right": null,
            "justify_content": null,
            "_view_module": "@jupyter-widgets/base",
            "overflow": null,
            "_model_module_version": "1.2.0",
            "_view_count": null,
            "flex_flow": null,
            "width": null,
            "min_width": null,
            "border": null,
            "align_items": null,
            "bottom": null,
            "_model_module": "@jupyter-widgets/base",
            "top": null,
            "grid_column": null,
            "overflow_y": null,
            "overflow_x": null,
            "grid_auto_flow": null,
            "grid_area": null,
            "grid_template_columns": null,
            "flex": null,
            "_model_name": "LayoutModel",
            "justify_items": null,
            "grid_row": null,
            "max_height": null,
            "align_content": null,
            "visibility": null,
            "align_self": null,
            "height": null,
            "min_height": null,
            "padding": null,
            "grid_auto_rows": null,
            "grid_gap": null,
            "max_width": null,
            "order": null,
            "_view_module_version": "1.2.0",
            "grid_template_areas": null,
            "object_position": null,
            "object_fit": null,
            "grid_auto_columns": null,
            "margin": null,
            "display": null,
            "left": null
          }
        },
        "94a006c92c72410eb9f686169210bd99": {
          "model_module": "@jupyter-widgets/controls",
          "model_name": "FloatProgressModel",
          "model_module_version": "1.5.0",
          "state": {
            "_view_name": "ProgressView",
            "style": "IPY_MODEL_87fab2a4c739448ca60493407f393fa4",
            "_dom_classes": [],
            "description": "100%",
            "_model_name": "FloatProgressModel",
            "bar_style": "success",
            "max": 10,
            "_view_module": "@jupyter-widgets/controls",
            "_model_module_version": "1.5.0",
            "value": 10,
            "_view_count": null,
            "_view_module_version": "1.5.0",
            "orientation": "horizontal",
            "min": 0,
            "description_tooltip": null,
            "_model_module": "@jupyter-widgets/controls",
            "layout": "IPY_MODEL_035a07092da54e559701b291a9aca498"
          }
        },
        "2159144669ff458ca1ed6fd32e14b79a": {
          "model_module": "@jupyter-widgets/controls",
          "model_name": "HTMLModel",
          "model_module_version": "1.5.0",
          "state": {
            "_view_name": "HTMLView",
            "style": "IPY_MODEL_709d324ff3c14da7984fb2d4200c9642",
            "_dom_classes": [],
            "description": "",
            "_model_name": "HTMLModel",
            "placeholder": "​",
            "_view_module": "@jupyter-widgets/controls",
            "_model_module_version": "1.5.0",
            "value": " 10/10 [02:21&lt;00:00, 14.13s/ba]",
            "_view_count": null,
            "_view_module_version": "1.5.0",
            "description_tooltip": null,
            "_model_module": "@jupyter-widgets/controls",
            "layout": "IPY_MODEL_466b3d946554468ba2f65403f748a0a1"
          }
        },
        "87fab2a4c739448ca60493407f393fa4": {
          "model_module": "@jupyter-widgets/controls",
          "model_name": "ProgressStyleModel",
          "model_module_version": "1.5.0",
          "state": {
            "_view_name": "StyleView",
            "_model_name": "ProgressStyleModel",
            "description_width": "initial",
            "_view_module": "@jupyter-widgets/base",
            "_model_module_version": "1.5.0",
            "_view_count": null,
            "_view_module_version": "1.2.0",
            "bar_color": null,
            "_model_module": "@jupyter-widgets/controls"
          }
        },
        "035a07092da54e559701b291a9aca498": {
          "model_module": "@jupyter-widgets/base",
          "model_name": "LayoutModel",
          "model_module_version": "1.2.0",
          "state": {
            "_view_name": "LayoutView",
            "grid_template_rows": null,
            "right": null,
            "justify_content": null,
            "_view_module": "@jupyter-widgets/base",
            "overflow": null,
            "_model_module_version": "1.2.0",
            "_view_count": null,
            "flex_flow": null,
            "width": null,
            "min_width": null,
            "border": null,
            "align_items": null,
            "bottom": null,
            "_model_module": "@jupyter-widgets/base",
            "top": null,
            "grid_column": null,
            "overflow_y": null,
            "overflow_x": null,
            "grid_auto_flow": null,
            "grid_area": null,
            "grid_template_columns": null,
            "flex": null,
            "_model_name": "LayoutModel",
            "justify_items": null,
            "grid_row": null,
            "max_height": null,
            "align_content": null,
            "visibility": null,
            "align_self": null,
            "height": null,
            "min_height": null,
            "padding": null,
            "grid_auto_rows": null,
            "grid_gap": null,
            "max_width": null,
            "order": null,
            "_view_module_version": "1.2.0",
            "grid_template_areas": null,
            "object_position": null,
            "object_fit": null,
            "grid_auto_columns": null,
            "margin": null,
            "display": null,
            "left": null
          }
        },
        "709d324ff3c14da7984fb2d4200c9642": {
          "model_module": "@jupyter-widgets/controls",
          "model_name": "DescriptionStyleModel",
          "model_module_version": "1.5.0",
          "state": {
            "_view_name": "StyleView",
            "_model_name": "DescriptionStyleModel",
            "description_width": "",
            "_view_module": "@jupyter-widgets/base",
            "_model_module_version": "1.5.0",
            "_view_count": null,
            "_view_module_version": "1.2.0",
            "_model_module": "@jupyter-widgets/controls"
          }
        },
        "466b3d946554468ba2f65403f748a0a1": {
          "model_module": "@jupyter-widgets/base",
          "model_name": "LayoutModel",
          "model_module_version": "1.2.0",
          "state": {
            "_view_name": "LayoutView",
            "grid_template_rows": null,
            "right": null,
            "justify_content": null,
            "_view_module": "@jupyter-widgets/base",
            "overflow": null,
            "_model_module_version": "1.2.0",
            "_view_count": null,
            "flex_flow": null,
            "width": null,
            "min_width": null,
            "border": null,
            "align_items": null,
            "bottom": null,
            "_model_module": "@jupyter-widgets/base",
            "top": null,
            "grid_column": null,
            "overflow_y": null,
            "overflow_x": null,
            "grid_auto_flow": null,
            "grid_area": null,
            "grid_template_columns": null,
            "flex": null,
            "_model_name": "LayoutModel",
            "justify_items": null,
            "grid_row": null,
            "max_height": null,
            "align_content": null,
            "visibility": null,
            "align_self": null,
            "height": null,
            "min_height": null,
            "padding": null,
            "grid_auto_rows": null,
            "grid_gap": null,
            "max_width": null,
            "order": null,
            "_view_module_version": "1.2.0",
            "grid_template_areas": null,
            "object_position": null,
            "object_fit": null,
            "grid_auto_columns": null,
            "margin": null,
            "display": null,
            "left": null
          }
        },
        "1e8abf12a9cb435cb984996b5e4da860": {
          "model_module": "@jupyter-widgets/controls",
          "model_name": "HBoxModel",
          "model_module_version": "1.5.0",
          "state": {
            "_view_name": "HBoxView",
            "_dom_classes": [],
            "_model_name": "HBoxModel",
            "_view_module": "@jupyter-widgets/controls",
            "_model_module_version": "1.5.0",
            "_view_count": null,
            "_view_module_version": "1.5.0",
            "box_style": "",
            "layout": "IPY_MODEL_83fca7ad224043eb85b6528f3ead781a",
            "_model_module": "@jupyter-widgets/controls",
            "children": [
              "IPY_MODEL_0c1819654d0449059b99d260610d2ab1",
              "IPY_MODEL_c43dfd0500f34fe49d6a901cca590bdd"
            ]
          }
        },
        "83fca7ad224043eb85b6528f3ead781a": {
          "model_module": "@jupyter-widgets/base",
          "model_name": "LayoutModel",
          "model_module_version": "1.2.0",
          "state": {
            "_view_name": "LayoutView",
            "grid_template_rows": null,
            "right": null,
            "justify_content": null,
            "_view_module": "@jupyter-widgets/base",
            "overflow": null,
            "_model_module_version": "1.2.0",
            "_view_count": null,
            "flex_flow": null,
            "width": null,
            "min_width": null,
            "border": null,
            "align_items": null,
            "bottom": null,
            "_model_module": "@jupyter-widgets/base",
            "top": null,
            "grid_column": null,
            "overflow_y": null,
            "overflow_x": null,
            "grid_auto_flow": null,
            "grid_area": null,
            "grid_template_columns": null,
            "flex": null,
            "_model_name": "LayoutModel",
            "justify_items": null,
            "grid_row": null,
            "max_height": null,
            "align_content": null,
            "visibility": null,
            "align_self": null,
            "height": null,
            "min_height": null,
            "padding": null,
            "grid_auto_rows": null,
            "grid_gap": null,
            "max_width": null,
            "order": null,
            "_view_module_version": "1.2.0",
            "grid_template_areas": null,
            "object_position": null,
            "object_fit": null,
            "grid_auto_columns": null,
            "margin": null,
            "display": null,
            "left": null
          }
        },
        "0c1819654d0449059b99d260610d2ab1": {
          "model_module": "@jupyter-widgets/controls",
          "model_name": "FloatProgressModel",
          "model_module_version": "1.5.0",
          "state": {
            "_view_name": "ProgressView",
            "style": "IPY_MODEL_8543954a218f4a97a93d908e8db5416d",
            "_dom_classes": [],
            "description": "100%",
            "_model_name": "FloatProgressModel",
            "bar_style": "success",
            "max": 9171,
            "_view_module": "@jupyter-widgets/controls",
            "_model_module_version": "1.5.0",
            "value": 9171,
            "_view_count": null,
            "_view_module_version": "1.5.0",
            "orientation": "horizontal",
            "min": 0,
            "description_tooltip": null,
            "_model_module": "@jupyter-widgets/controls",
            "layout": "IPY_MODEL_dc4bfe75570a45fdb0be4203a6f5b28e"
          }
        },
        "c43dfd0500f34fe49d6a901cca590bdd": {
          "model_module": "@jupyter-widgets/controls",
          "model_name": "HTMLModel",
          "model_module_version": "1.5.0",
          "state": {
            "_view_name": "HTMLView",
            "style": "IPY_MODEL_83a1a2ed328b4a8da075d872e6e6d3b8",
            "_dom_classes": [],
            "description": "",
            "_model_name": "HTMLModel",
            "placeholder": "​",
            "_view_module": "@jupyter-widgets/controls",
            "_model_module_version": "1.5.0",
            "value": " 9171/9171 [01:54&lt;00:00, 80.38it/s]",
            "_view_count": null,
            "_view_module_version": "1.5.0",
            "description_tooltip": null,
            "_model_module": "@jupyter-widgets/controls",
            "layout": "IPY_MODEL_5d6a2f1eefed4b3695e7cddc3261f946"
          }
        },
        "8543954a218f4a97a93d908e8db5416d": {
          "model_module": "@jupyter-widgets/controls",
          "model_name": "ProgressStyleModel",
          "model_module_version": "1.5.0",
          "state": {
            "_view_name": "StyleView",
            "_model_name": "ProgressStyleModel",
            "description_width": "initial",
            "_view_module": "@jupyter-widgets/base",
            "_model_module_version": "1.5.0",
            "_view_count": null,
            "_view_module_version": "1.2.0",
            "bar_color": null,
            "_model_module": "@jupyter-widgets/controls"
          }
        },
        "dc4bfe75570a45fdb0be4203a6f5b28e": {
          "model_module": "@jupyter-widgets/base",
          "model_name": "LayoutModel",
          "model_module_version": "1.2.0",
          "state": {
            "_view_name": "LayoutView",
            "grid_template_rows": null,
            "right": null,
            "justify_content": null,
            "_view_module": "@jupyter-widgets/base",
            "overflow": null,
            "_model_module_version": "1.2.0",
            "_view_count": null,
            "flex_flow": null,
            "width": null,
            "min_width": null,
            "border": null,
            "align_items": null,
            "bottom": null,
            "_model_module": "@jupyter-widgets/base",
            "top": null,
            "grid_column": null,
            "overflow_y": null,
            "overflow_x": null,
            "grid_auto_flow": null,
            "grid_area": null,
            "grid_template_columns": null,
            "flex": null,
            "_model_name": "LayoutModel",
            "justify_items": null,
            "grid_row": null,
            "max_height": null,
            "align_content": null,
            "visibility": null,
            "align_self": null,
            "height": null,
            "min_height": null,
            "padding": null,
            "grid_auto_rows": null,
            "grid_gap": null,
            "max_width": null,
            "order": null,
            "_view_module_version": "1.2.0",
            "grid_template_areas": null,
            "object_position": null,
            "object_fit": null,
            "grid_auto_columns": null,
            "margin": null,
            "display": null,
            "left": null
          }
        },
        "83a1a2ed328b4a8da075d872e6e6d3b8": {
          "model_module": "@jupyter-widgets/controls",
          "model_name": "DescriptionStyleModel",
          "model_module_version": "1.5.0",
          "state": {
            "_view_name": "StyleView",
            "_model_name": "DescriptionStyleModel",
            "description_width": "",
            "_view_module": "@jupyter-widgets/base",
            "_model_module_version": "1.5.0",
            "_view_count": null,
            "_view_module_version": "1.2.0",
            "_model_module": "@jupyter-widgets/controls"
          }
        },
        "5d6a2f1eefed4b3695e7cddc3261f946": {
          "model_module": "@jupyter-widgets/base",
          "model_name": "LayoutModel",
          "model_module_version": "1.2.0",
          "state": {
            "_view_name": "LayoutView",
            "grid_template_rows": null,
            "right": null,
            "justify_content": null,
            "_view_module": "@jupyter-widgets/base",
            "overflow": null,
            "_model_module_version": "1.2.0",
            "_view_count": null,
            "flex_flow": null,
            "width": null,
            "min_width": null,
            "border": null,
            "align_items": null,
            "bottom": null,
            "_model_module": "@jupyter-widgets/base",
            "top": null,
            "grid_column": null,
            "overflow_y": null,
            "overflow_x": null,
            "grid_auto_flow": null,
            "grid_area": null,
            "grid_template_columns": null,
            "flex": null,
            "_model_name": "LayoutModel",
            "justify_items": null,
            "grid_row": null,
            "max_height": null,
            "align_content": null,
            "visibility": null,
            "align_self": null,
            "height": null,
            "min_height": null,
            "padding": null,
            "grid_auto_rows": null,
            "grid_gap": null,
            "max_width": null,
            "order": null,
            "_view_module_version": "1.2.0",
            "grid_template_areas": null,
            "object_position": null,
            "object_fit": null,
            "grid_auto_columns": null,
            "margin": null,
            "display": null,
            "left": null
          }
        },
        "d8bc211fc0694549bf2f7cc1d6a04786": {
          "model_module": "@jupyter-widgets/controls",
          "model_name": "HBoxModel",
          "model_module_version": "1.5.0",
          "state": {
            "_view_name": "HBoxView",
            "_dom_classes": [],
            "_model_name": "HBoxModel",
            "_view_module": "@jupyter-widgets/controls",
            "_model_module_version": "1.5.0",
            "_view_count": null,
            "_view_module_version": "1.5.0",
            "box_style": "",
            "layout": "IPY_MODEL_453d495b7c6b43ec8540b9e63e331ea4",
            "_model_module": "@jupyter-widgets/controls",
            "children": [
              "IPY_MODEL_75c20676e2cb4f1a8cfd01188f0f0b18",
              "IPY_MODEL_00c520391e8a4020b037896d87d73aa0"
            ]
          }
        },
        "453d495b7c6b43ec8540b9e63e331ea4": {
          "model_module": "@jupyter-widgets/base",
          "model_name": "LayoutModel",
          "model_module_version": "1.2.0",
          "state": {
            "_view_name": "LayoutView",
            "grid_template_rows": null,
            "right": null,
            "justify_content": null,
            "_view_module": "@jupyter-widgets/base",
            "overflow": null,
            "_model_module_version": "1.2.0",
            "_view_count": null,
            "flex_flow": null,
            "width": null,
            "min_width": null,
            "border": null,
            "align_items": null,
            "bottom": null,
            "_model_module": "@jupyter-widgets/base",
            "top": null,
            "grid_column": null,
            "overflow_y": null,
            "overflow_x": null,
            "grid_auto_flow": null,
            "grid_area": null,
            "grid_template_columns": null,
            "flex": null,
            "_model_name": "LayoutModel",
            "justify_items": null,
            "grid_row": null,
            "max_height": null,
            "align_content": null,
            "visibility": null,
            "align_self": null,
            "height": null,
            "min_height": null,
            "padding": null,
            "grid_auto_rows": null,
            "grid_gap": null,
            "max_width": null,
            "order": null,
            "_view_module_version": "1.2.0",
            "grid_template_areas": null,
            "object_position": null,
            "object_fit": null,
            "grid_auto_columns": null,
            "margin": null,
            "display": null,
            "left": null
          }
        },
        "75c20676e2cb4f1a8cfd01188f0f0b18": {
          "model_module": "@jupyter-widgets/controls",
          "model_name": "FloatProgressModel",
          "model_module_version": "1.5.0",
          "state": {
            "_view_name": "ProgressView",
            "style": "IPY_MODEL_0bb305228ef74ab982f3896d6e876647",
            "_dom_classes": [],
            "description": "Downloading: ",
            "_model_name": "FloatProgressModel",
            "bar_style": "success",
            "max": 1726,
            "_view_module": "@jupyter-widgets/controls",
            "_model_module_version": "1.5.0",
            "value": 1726,
            "_view_count": null,
            "_view_module_version": "1.5.0",
            "orientation": "horizontal",
            "min": 0,
            "description_tooltip": null,
            "_model_module": "@jupyter-widgets/controls",
            "layout": "IPY_MODEL_dacf2d7755ed4c14a2d982edd8e96ff7"
          }
        },
        "00c520391e8a4020b037896d87d73aa0": {
          "model_module": "@jupyter-widgets/controls",
          "model_name": "HTMLModel",
          "model_module_version": "1.5.0",
          "state": {
            "_view_name": "HTMLView",
            "style": "IPY_MODEL_742edbaf0d5e434d88b937fa33a743a5",
            "_dom_classes": [],
            "description": "",
            "_model_name": "HTMLModel",
            "placeholder": "​",
            "_view_module": "@jupyter-widgets/controls",
            "_model_module_version": "1.5.0",
            "value": " 4.51k/? [00:00&lt;00:00, 17.2kB/s]",
            "_view_count": null,
            "_view_module_version": "1.5.0",
            "description_tooltip": null,
            "_model_module": "@jupyter-widgets/controls",
            "layout": "IPY_MODEL_3fe935ac0b8c446bb13bb959eb423c40"
          }
        },
        "0bb305228ef74ab982f3896d6e876647": {
          "model_module": "@jupyter-widgets/controls",
          "model_name": "ProgressStyleModel",
          "model_module_version": "1.5.0",
          "state": {
            "_view_name": "StyleView",
            "_model_name": "ProgressStyleModel",
            "description_width": "initial",
            "_view_module": "@jupyter-widgets/base",
            "_model_module_version": "1.5.0",
            "_view_count": null,
            "_view_module_version": "1.2.0",
            "bar_color": null,
            "_model_module": "@jupyter-widgets/controls"
          }
        },
        "dacf2d7755ed4c14a2d982edd8e96ff7": {
          "model_module": "@jupyter-widgets/base",
          "model_name": "LayoutModel",
          "model_module_version": "1.2.0",
          "state": {
            "_view_name": "LayoutView",
            "grid_template_rows": null,
            "right": null,
            "justify_content": null,
            "_view_module": "@jupyter-widgets/base",
            "overflow": null,
            "_model_module_version": "1.2.0",
            "_view_count": null,
            "flex_flow": null,
            "width": null,
            "min_width": null,
            "border": null,
            "align_items": null,
            "bottom": null,
            "_model_module": "@jupyter-widgets/base",
            "top": null,
            "grid_column": null,
            "overflow_y": null,
            "overflow_x": null,
            "grid_auto_flow": null,
            "grid_area": null,
            "grid_template_columns": null,
            "flex": null,
            "_model_name": "LayoutModel",
            "justify_items": null,
            "grid_row": null,
            "max_height": null,
            "align_content": null,
            "visibility": null,
            "align_self": null,
            "height": null,
            "min_height": null,
            "padding": null,
            "grid_auto_rows": null,
            "grid_gap": null,
            "max_width": null,
            "order": null,
            "_view_module_version": "1.2.0",
            "grid_template_areas": null,
            "object_position": null,
            "object_fit": null,
            "grid_auto_columns": null,
            "margin": null,
            "display": null,
            "left": null
          }
        },
        "742edbaf0d5e434d88b937fa33a743a5": {
          "model_module": "@jupyter-widgets/controls",
          "model_name": "DescriptionStyleModel",
          "model_module_version": "1.5.0",
          "state": {
            "_view_name": "StyleView",
            "_model_name": "DescriptionStyleModel",
            "description_width": "",
            "_view_module": "@jupyter-widgets/base",
            "_model_module_version": "1.5.0",
            "_view_count": null,
            "_view_module_version": "1.2.0",
            "_model_module": "@jupyter-widgets/controls"
          }
        },
        "3fe935ac0b8c446bb13bb959eb423c40": {
          "model_module": "@jupyter-widgets/base",
          "model_name": "LayoutModel",
          "model_module_version": "1.2.0",
          "state": {
            "_view_name": "LayoutView",
            "grid_template_rows": null,
            "right": null,
            "justify_content": null,
            "_view_module": "@jupyter-widgets/base",
            "overflow": null,
            "_model_module_version": "1.2.0",
            "_view_count": null,
            "flex_flow": null,
            "width": null,
            "min_width": null,
            "border": null,
            "align_items": null,
            "bottom": null,
            "_model_module": "@jupyter-widgets/base",
            "top": null,
            "grid_column": null,
            "overflow_y": null,
            "overflow_x": null,
            "grid_auto_flow": null,
            "grid_area": null,
            "grid_template_columns": null,
            "flex": null,
            "_model_name": "LayoutModel",
            "justify_items": null,
            "grid_row": null,
            "max_height": null,
            "align_content": null,
            "visibility": null,
            "align_self": null,
            "height": null,
            "min_height": null,
            "padding": null,
            "grid_auto_rows": null,
            "grid_gap": null,
            "max_width": null,
            "order": null,
            "_view_module_version": "1.2.0",
            "grid_template_areas": null,
            "object_position": null,
            "object_fit": null,
            "grid_auto_columns": null,
            "margin": null,
            "display": null,
            "left": null
          }
        },
        "b7ef7bf542344b9eb28ebac8a6f6f616": {
          "model_module": "@jupyter-widgets/controls",
          "model_name": "HBoxModel",
          "model_module_version": "1.5.0",
          "state": {
            "_view_name": "HBoxView",
            "_dom_classes": [],
            "_model_name": "HBoxModel",
            "_view_module": "@jupyter-widgets/controls",
            "_model_module_version": "1.5.0",
            "_view_count": null,
            "_view_module_version": "1.5.0",
            "box_style": "",
            "layout": "IPY_MODEL_f83a2cc04b7e46059c389a8f4cfa3dca",
            "_model_module": "@jupyter-widgets/controls",
            "children": [
              "IPY_MODEL_de3f514006764a7db68c8d6c85563f93",
              "IPY_MODEL_d64ebedc92b841f1a80cb964e2cb574a"
            ]
          }
        },
        "f83a2cc04b7e46059c389a8f4cfa3dca": {
          "model_module": "@jupyter-widgets/base",
          "model_name": "LayoutModel",
          "model_module_version": "1.2.0",
          "state": {
            "_view_name": "LayoutView",
            "grid_template_rows": null,
            "right": null,
            "justify_content": null,
            "_view_module": "@jupyter-widgets/base",
            "overflow": null,
            "_model_module_version": "1.2.0",
            "_view_count": null,
            "flex_flow": null,
            "width": null,
            "min_width": null,
            "border": null,
            "align_items": null,
            "bottom": null,
            "_model_module": "@jupyter-widgets/base",
            "top": null,
            "grid_column": null,
            "overflow_y": null,
            "overflow_x": null,
            "grid_auto_flow": null,
            "grid_area": null,
            "grid_template_columns": null,
            "flex": null,
            "_model_name": "LayoutModel",
            "justify_items": null,
            "grid_row": null,
            "max_height": null,
            "align_content": null,
            "visibility": null,
            "align_self": null,
            "height": null,
            "min_height": null,
            "padding": null,
            "grid_auto_rows": null,
            "grid_gap": null,
            "max_width": null,
            "order": null,
            "_view_module_version": "1.2.0",
            "grid_template_areas": null,
            "object_position": null,
            "object_fit": null,
            "grid_auto_columns": null,
            "margin": null,
            "display": null,
            "left": null
          }
        },
        "de3f514006764a7db68c8d6c85563f93": {
          "model_module": "@jupyter-widgets/controls",
          "model_name": "FloatProgressModel",
          "model_module_version": "1.5.0",
          "state": {
            "_view_name": "ProgressView",
            "style": "IPY_MODEL_b19e2bea38a840ada86c0764f2315412",
            "_dom_classes": [],
            "description": "Downloading: ",
            "_model_name": "FloatProgressModel",
            "bar_style": "success",
            "max": 1119,
            "_view_module": "@jupyter-widgets/controls",
            "_model_module_version": "1.5.0",
            "value": 1119,
            "_view_count": null,
            "_view_module_version": "1.5.0",
            "orientation": "horizontal",
            "min": 0,
            "description_tooltip": null,
            "_model_module": "@jupyter-widgets/controls",
            "layout": "IPY_MODEL_eda24f55ec9f4554aa2aaf7e777c44e5"
          }
        },
        "d64ebedc92b841f1a80cb964e2cb574a": {
          "model_module": "@jupyter-widgets/controls",
          "model_name": "HTMLModel",
          "model_module_version": "1.5.0",
          "state": {
            "_view_name": "HTMLView",
            "style": "IPY_MODEL_57f704dab63d44549ae2fbcf3dbb2352",
            "_dom_classes": [],
            "description": "",
            "_model_name": "HTMLModel",
            "placeholder": "​",
            "_view_module": "@jupyter-widgets/controls",
            "_model_module_version": "1.5.0",
            "value": " 3.31k/? [00:00&lt;00:00, 37.2kB/s]",
            "_view_count": null,
            "_view_module_version": "1.5.0",
            "description_tooltip": null,
            "_model_module": "@jupyter-widgets/controls",
            "layout": "IPY_MODEL_c736872aa31c46119db020a82b01f6fb"
          }
        },
        "b19e2bea38a840ada86c0764f2315412": {
          "model_module": "@jupyter-widgets/controls",
          "model_name": "ProgressStyleModel",
          "model_module_version": "1.5.0",
          "state": {
            "_view_name": "StyleView",
            "_model_name": "ProgressStyleModel",
            "description_width": "initial",
            "_view_module": "@jupyter-widgets/base",
            "_model_module_version": "1.5.0",
            "_view_count": null,
            "_view_module_version": "1.2.0",
            "bar_color": null,
            "_model_module": "@jupyter-widgets/controls"
          }
        },
        "eda24f55ec9f4554aa2aaf7e777c44e5": {
          "model_module": "@jupyter-widgets/base",
          "model_name": "LayoutModel",
          "model_module_version": "1.2.0",
          "state": {
            "_view_name": "LayoutView",
            "grid_template_rows": null,
            "right": null,
            "justify_content": null,
            "_view_module": "@jupyter-widgets/base",
            "overflow": null,
            "_model_module_version": "1.2.0",
            "_view_count": null,
            "flex_flow": null,
            "width": null,
            "min_width": null,
            "border": null,
            "align_items": null,
            "bottom": null,
            "_model_module": "@jupyter-widgets/base",
            "top": null,
            "grid_column": null,
            "overflow_y": null,
            "overflow_x": null,
            "grid_auto_flow": null,
            "grid_area": null,
            "grid_template_columns": null,
            "flex": null,
            "_model_name": "LayoutModel",
            "justify_items": null,
            "grid_row": null,
            "max_height": null,
            "align_content": null,
            "visibility": null,
            "align_self": null,
            "height": null,
            "min_height": null,
            "padding": null,
            "grid_auto_rows": null,
            "grid_gap": null,
            "max_width": null,
            "order": null,
            "_view_module_version": "1.2.0",
            "grid_template_areas": null,
            "object_position": null,
            "object_fit": null,
            "grid_auto_columns": null,
            "margin": null,
            "display": null,
            "left": null
          }
        },
        "57f704dab63d44549ae2fbcf3dbb2352": {
          "model_module": "@jupyter-widgets/controls",
          "model_name": "DescriptionStyleModel",
          "model_module_version": "1.5.0",
          "state": {
            "_view_name": "StyleView",
            "_model_name": "DescriptionStyleModel",
            "description_width": "",
            "_view_module": "@jupyter-widgets/base",
            "_model_module_version": "1.5.0",
            "_view_count": null,
            "_view_module_version": "1.2.0",
            "_model_module": "@jupyter-widgets/controls"
          }
        },
        "c736872aa31c46119db020a82b01f6fb": {
          "model_module": "@jupyter-widgets/base",
          "model_name": "LayoutModel",
          "model_module_version": "1.2.0",
          "state": {
            "_view_name": "LayoutView",
            "grid_template_rows": null,
            "right": null,
            "justify_content": null,
            "_view_module": "@jupyter-widgets/base",
            "overflow": null,
            "_model_module_version": "1.2.0",
            "_view_count": null,
            "flex_flow": null,
            "width": null,
            "min_width": null,
            "border": null,
            "align_items": null,
            "bottom": null,
            "_model_module": "@jupyter-widgets/base",
            "top": null,
            "grid_column": null,
            "overflow_y": null,
            "overflow_x": null,
            "grid_auto_flow": null,
            "grid_area": null,
            "grid_template_columns": null,
            "flex": null,
            "_model_name": "LayoutModel",
            "justify_items": null,
            "grid_row": null,
            "max_height": null,
            "align_content": null,
            "visibility": null,
            "align_self": null,
            "height": null,
            "min_height": null,
            "padding": null,
            "grid_auto_rows": null,
            "grid_gap": null,
            "max_width": null,
            "order": null,
            "_view_module_version": "1.2.0",
            "grid_template_areas": null,
            "object_position": null,
            "object_fit": null,
            "grid_auto_columns": null,
            "margin": null,
            "display": null,
            "left": null
          }
        }
      }
    },
    "accelerator": "GPU"
  },
  "cells": [
    {
      "cell_type": "markdown",
      "metadata": {
        "id": "view-in-github",
        "colab_type": "text"
      },
      "source": [
        "<a href=\"https://colab.research.google.com/github/claudio-bon/question-answering-squad/blob/main/nlp_squad.ipynb\" target=\"_parent\"><img src=\"https://colab.research.google.com/assets/colab-badge.svg\" alt=\"Open In Colab\"/></a>"
      ]
    },
    {
      "cell_type": "markdown",
      "metadata": {
        "id": "gyv7QnHflI3Q"
      },
      "source": [
        "# Question Answering on SQuAD dataset\n",
        "Authors:\n",
        "- Angely Jazmín Oyola Suárez\n",
        "- Claudio Bonetta"
      ]
    },
    {
      "cell_type": "markdown",
      "metadata": {
        "id": "9455cjy1ljFv"
      },
      "source": [
        "In order to perform this task we will use a transformer-based architecture.<br>\n",
        "The transformer used will be pre-trained on a generic task and then finetuned on the task at hand.<br>\n",
        "The transformers' implementation that will be used will be provided by **HuggingFace** library.<br>\n",
        "Let's start by installing it."
      ]
    },
    {
      "cell_type": "code",
      "metadata": {
        "id": "dzQJ62AllM_o",
        "colab": {
          "base_uri": "https://localhost:8080/"
        },
        "outputId": "ea5b1b12-c77a-4393-e1e1-9c0b873d0318"
      },
      "source": [
        "! pip install datasets transformers"
      ],
      "execution_count": null,
      "outputs": [
        {
          "output_type": "stream",
          "text": [
            "Collecting datasets\n",
            "\u001b[?25l  Downloading https://files.pythonhosted.org/packages/86/27/9c91ddee87b06d2de12f134c5171a49890427e398389f07f6463485723c3/datasets-1.9.0-py3-none-any.whl (262kB)\n",
            "\u001b[K     |████████████████████████████████| 266kB 27.1MB/s \n",
            "\u001b[?25hCollecting transformers\n",
            "\u001b[?25l  Downloading https://files.pythonhosted.org/packages/fd/1a/41c644c963249fd7f3836d926afa1e3f1cc234a1c40d80c5f03ad8f6f1b2/transformers-4.8.2-py3-none-any.whl (2.5MB)\n",
            "\u001b[K     |████████████████████████████████| 2.5MB 37.7MB/s \n",
            "\u001b[?25hCollecting xxhash\n",
            "\u001b[?25l  Downloading https://files.pythonhosted.org/packages/7d/4f/0a862cad26aa2ed7a7cd87178cbbfa824fc1383e472d63596a0d018374e7/xxhash-2.0.2-cp37-cp37m-manylinux2010_x86_64.whl (243kB)\n",
            "\u001b[K     |████████████████████████████████| 245kB 49.5MB/s \n",
            "\u001b[?25hCollecting huggingface-hub<0.1.0\n",
            "  Downloading https://files.pythonhosted.org/packages/35/03/071adc023c0a7e540cf4652fa9cad13ab32e6ae469bf0cc0262045244812/huggingface_hub-0.0.13-py3-none-any.whl\n",
            "Collecting fsspec>=2021.05.0\n",
            "\u001b[?25l  Downloading https://files.pythonhosted.org/packages/0e/3a/666e63625a19883ae8e1674099e631f9737bd5478c4790e5ad49c5ac5261/fsspec-2021.6.1-py3-none-any.whl (115kB)\n",
            "\u001b[K     |████████████████████████████████| 122kB 38.3MB/s \n",
            "\u001b[?25hRequirement already satisfied: numpy>=1.17 in /usr/local/lib/python3.7/dist-packages (from datasets) (1.19.5)\n",
            "Requirement already satisfied: dill in /usr/local/lib/python3.7/dist-packages (from datasets) (0.3.4)\n",
            "Requirement already satisfied: packaging in /usr/local/lib/python3.7/dist-packages (from datasets) (20.9)\n",
            "Requirement already satisfied: pandas in /usr/local/lib/python3.7/dist-packages (from datasets) (1.1.5)\n",
            "Requirement already satisfied: multiprocess in /usr/local/lib/python3.7/dist-packages (from datasets) (0.70.12.2)\n",
            "Requirement already satisfied: importlib-metadata; python_version < \"3.8\" in /usr/local/lib/python3.7/dist-packages (from datasets) (4.6.0)\n",
            "Requirement already satisfied: tqdm>=4.27 in /usr/local/lib/python3.7/dist-packages (from datasets) (4.41.1)\n",
            "Requirement already satisfied: requests>=2.19.0 in /usr/local/lib/python3.7/dist-packages (from datasets) (2.23.0)\n",
            "Requirement already satisfied: pyarrow!=4.0.0,>=1.0.0 in /usr/local/lib/python3.7/dist-packages (from datasets) (3.0.0)\n",
            "Requirement already satisfied: regex!=2019.12.17 in /usr/local/lib/python3.7/dist-packages (from transformers) (2019.12.20)\n",
            "Requirement already satisfied: filelock in /usr/local/lib/python3.7/dist-packages (from transformers) (3.0.12)\n",
            "Collecting tokenizers<0.11,>=0.10.1\n",
            "\u001b[?25l  Downloading https://files.pythonhosted.org/packages/d4/e2/df3543e8ffdab68f5acc73f613de9c2b155ac47f162e725dcac87c521c11/tokenizers-0.10.3-cp37-cp37m-manylinux_2_5_x86_64.manylinux1_x86_64.manylinux_2_12_x86_64.manylinux2010_x86_64.whl (3.3MB)\n",
            "\u001b[K     |████████████████████████████████| 3.3MB 49.3MB/s \n",
            "\u001b[?25hCollecting sacremoses\n",
            "\u001b[?25l  Downloading https://files.pythonhosted.org/packages/75/ee/67241dc87f266093c533a2d4d3d69438e57d7a90abb216fa076e7d475d4a/sacremoses-0.0.45-py3-none-any.whl (895kB)\n",
            "\u001b[K     |████████████████████████████████| 901kB 45.9MB/s \n",
            "\u001b[?25hRequirement already satisfied: pyyaml in /usr/local/lib/python3.7/dist-packages (from transformers) (3.13)\n",
            "Requirement already satisfied: typing-extensions in /usr/local/lib/python3.7/dist-packages (from huggingface-hub<0.1.0->datasets) (3.7.4.3)\n",
            "Requirement already satisfied: pyparsing>=2.0.2 in /usr/local/lib/python3.7/dist-packages (from packaging->datasets) (2.4.7)\n",
            "Requirement already satisfied: python-dateutil>=2.7.3 in /usr/local/lib/python3.7/dist-packages (from pandas->datasets) (2.8.1)\n",
            "Requirement already satisfied: pytz>=2017.2 in /usr/local/lib/python3.7/dist-packages (from pandas->datasets) (2018.9)\n",
            "Requirement already satisfied: zipp>=0.5 in /usr/local/lib/python3.7/dist-packages (from importlib-metadata; python_version < \"3.8\"->datasets) (3.4.1)\n",
            "Requirement already satisfied: certifi>=2017.4.17 in /usr/local/lib/python3.7/dist-packages (from requests>=2.19.0->datasets) (2021.5.30)\n",
            "Requirement already satisfied: urllib3!=1.25.0,!=1.25.1,<1.26,>=1.21.1 in /usr/local/lib/python3.7/dist-packages (from requests>=2.19.0->datasets) (1.24.3)\n",
            "Requirement already satisfied: chardet<4,>=3.0.2 in /usr/local/lib/python3.7/dist-packages (from requests>=2.19.0->datasets) (3.0.4)\n",
            "Requirement already satisfied: idna<3,>=2.5 in /usr/local/lib/python3.7/dist-packages (from requests>=2.19.0->datasets) (2.10)\n",
            "Requirement already satisfied: click in /usr/local/lib/python3.7/dist-packages (from sacremoses->transformers) (7.1.2)\n",
            "Requirement already satisfied: joblib in /usr/local/lib/python3.7/dist-packages (from sacremoses->transformers) (1.0.1)\n",
            "Requirement already satisfied: six in /usr/local/lib/python3.7/dist-packages (from sacremoses->transformers) (1.15.0)\n",
            "\u001b[31mERROR: transformers 4.8.2 has requirement huggingface-hub==0.0.12, but you'll have huggingface-hub 0.0.13 which is incompatible.\u001b[0m\n",
            "Installing collected packages: xxhash, huggingface-hub, fsspec, datasets, tokenizers, sacremoses, transformers\n",
            "Successfully installed datasets-1.9.0 fsspec-2021.6.1 huggingface-hub-0.0.13 sacremoses-0.0.45 tokenizers-0.10.3 transformers-4.8.2 xxhash-2.0.2\n"
          ],
          "name": "stdout"
        }
      ]
    },
    {
      "cell_type": "markdown",
      "metadata": {
        "id": "A7HNinaQhy8U"
      },
      "source": [
        "## Loading the Dataset"
      ]
    },
    {
      "cell_type": "markdown",
      "metadata": {
        "id": "D7rIwqGYqjkG"
      },
      "source": [
        "### Dataset Downloading \n",
        "The dataset is a .json file loaded in a google drive.\n"
      ]
    },
    {
      "cell_type": "code",
      "metadata": {
        "colab": {
          "base_uri": "https://localhost:8080/"
        },
        "id": "c27_CtNE0mhP",
        "outputId": "6f423869-1b0c-4489-85a7-8dba550cddab"
      },
      "source": [
        "!gdown --id \"1aURk7-EAowXK-KXy7Ut1Y3z1X18kHv0E\""
      ],
      "execution_count": null,
      "outputs": [
        {
          "output_type": "stream",
          "text": [
            "Downloading...\n",
            "From: https://drive.google.com/uc?id=1aURk7-EAowXK-KXy7Ut1Y3z1X18kHv0E\n",
            "To: /content/training_set.json\n",
            "30.3MB [00:00, 53.6MB/s]\n"
          ],
          "name": "stdout"
        }
      ]
    },
    {
      "cell_type": "markdown",
      "metadata": {
        "id": "Xnq8YbEkfQPu"
      },
      "source": [
        "### Dataset Creation"
      ]
    },
    {
      "cell_type": "markdown",
      "metadata": {
        "id": "8fbwyvwBx5ho"
      },
      "source": [
        "The dataset will be loaded using HuggingFace's loading function."
      ]
    },
    {
      "cell_type": "code",
      "metadata": {
        "colab": {
          "base_uri": "https://localhost:8080/",
          "height": 92,
          "referenced_widgets": [
            "6ea4904cbaae4bb4a0afb7a83e6bf807",
            "1192fa60dea94b6a8bfd38265f057cbd",
            "acd77e8af9ab4aafa170da59adb9b0ef",
            "1862654539f4404b967d4d5e1deeeb69",
            "0be6dc7a21ad4a928d7374524d91ed48",
            "eacc0e4edf54439cad622bdbebe037c7",
            "3ba948ad189a42a8adf4231ba651e17c",
            "d0d795cc80d74d4597d6c71a1340590a"
          ]
        },
        "id": "zgyjnG7yfNu-",
        "outputId": "753072eb-0f8c-4298-e62b-65bf794efd53"
      },
      "source": [
        "from datasets import load_dataset\n",
        "\n",
        "json_file_path = \"training_set.json\"\n",
        "ds_original = load_dataset('json', data_files= json_file_path, field='data')"
      ],
      "execution_count": null,
      "outputs": [
        {
          "output_type": "stream",
          "text": [
            "Using custom data configuration default-57c0658af083c8d9\n"
          ],
          "name": "stderr"
        },
        {
          "output_type": "stream",
          "text": [
            "Downloading and preparing dataset json/default (download: Unknown size, generated: Unknown size, post-processed: Unknown size, total: Unknown size) to /root/.cache/huggingface/datasets/json/default-57c0658af083c8d9/0.0.0/793d004298099bd3c4e61eb7878475bcf1dc212bf2e34437d85126758720d7f9...\n"
          ],
          "name": "stdout"
        },
        {
          "output_type": "display_data",
          "data": {
            "application/vnd.jupyter.widget-view+json": {
              "model_id": "6ea4904cbaae4bb4a0afb7a83e6bf807",
              "version_minor": 0,
              "version_major": 2
            },
            "text/plain": [
              "HBox(children=(FloatProgress(value=1.0, bar_style='info', max=1.0), HTML(value='')))"
            ]
          },
          "metadata": {
            "tags": []
          }
        },
        {
          "output_type": "stream",
          "text": [
            "\rDataset json downloaded and prepared to /root/.cache/huggingface/datasets/json/default-57c0658af083c8d9/0.0.0/793d004298099bd3c4e61eb7878475bcf1dc212bf2e34437d85126758720d7f9. Subsequent calls will reuse this data.\n"
          ],
          "name": "stdout"
        }
      ]
    },
    {
      "cell_type": "markdown",
      "metadata": {
        "id": "IYINIXQ5yLW-"
      },
      "source": [
        "HuggingFace's loading function returns a dict-link object called `DatasetDict` that incapsulate the real dataset.\n",
        "The dataset loaded will be stored under the key \"train\", as such it will subsequently splitted according to the projects requirenmets."
      ]
    },
    {
      "cell_type": "code",
      "metadata": {
        "colab": {
          "base_uri": "https://localhost:8080/"
        },
        "id": "xq7Rj7kyfTHa",
        "outputId": "6473c025-c4ac-47ec-d918-dc23226a7b9d"
      },
      "source": [
        "ds_original"
      ],
      "execution_count": null,
      "outputs": [
        {
          "output_type": "execute_result",
          "data": {
            "text/plain": [
              "DatasetDict({\n",
              "    train: Dataset({\n",
              "        features: ['title', 'paragraphs'],\n",
              "        num_rows: 442\n",
              "    })\n",
              "})"
            ]
          },
          "metadata": {
            "tags": []
          },
          "execution_count": 4
        }
      ]
    },
    {
      "cell_type": "code",
      "metadata": {
        "colab": {
          "base_uri": "https://localhost:8080/"
        },
        "id": "Xlp5YbuQfV0B",
        "outputId": "5d8f2458-1dc0-4642-8986-cce1a38cb351"
      },
      "source": [
        "# Print the 1st row\n",
        "ds_original['train'][0]"
      ],
      "execution_count": null,
      "outputs": [
        {
          "output_type": "execute_result",
          "data": {
            "text/plain": [
              "{'paragraphs': [{'context': 'Architecturally, the school has a Catholic character. Atop the Main Building\\'s gold dome is a golden statue of the Virgin Mary. Immediately in front of the Main Building and facing it, is a copper statue of Christ with arms upraised with the legend \"Venite Ad Me Omnes\". Next to the Main Building is the Basilica of the Sacred Heart. Immediately behind the basilica is the Grotto, a Marian place of prayer and reflection. It is a replica of the grotto at Lourdes, France where the Virgin Mary reputedly appeared to Saint Bernadette Soubirous in 1858. At the end of the main drive (and in a direct line that connects through 3 statues and the Gold Dome), is a simple, modern stone statue of Mary.',\n",
              "   'qas': [{'answers': [{'answer_start': 515,\n",
              "       'text': 'Saint Bernadette Soubirous'}],\n",
              "     'id': '5733be284776f41900661182',\n",
              "     'question': 'To whom did the Virgin Mary allegedly appear in 1858 in Lourdes France?'},\n",
              "    {'answers': [{'answer_start': 188, 'text': 'a copper statue of Christ'}],\n",
              "     'id': '5733be284776f4190066117f',\n",
              "     'question': 'What is in front of the Notre Dame Main Building?'},\n",
              "    {'answers': [{'answer_start': 279, 'text': 'the Main Building'}],\n",
              "     'id': '5733be284776f41900661180',\n",
              "     'question': 'The Basilica of the Sacred heart at Notre Dame is beside to which structure?'},\n",
              "    {'answers': [{'answer_start': 381,\n",
              "       'text': 'a Marian place of prayer and reflection'}],\n",
              "     'id': '5733be284776f41900661181',\n",
              "     'question': 'What is the Grotto at Notre Dame?'},\n",
              "    {'answers': [{'answer_start': 92,\n",
              "       'text': 'a golden statue of the Virgin Mary'}],\n",
              "     'id': '5733be284776f4190066117e',\n",
              "     'question': 'What sits on top of the Main Building at Notre Dame?'}]},\n",
              "  {'context': \"As at most other universities, Notre Dame's students run a number of news media outlets. The nine student-run outlets include three newspapers, both a radio and television station, and several magazines and journals. Begun as a one-page journal in September 1876, the Scholastic magazine is issued twice monthly and claims to be the oldest continuous collegiate publication in the United States. The other magazine, The Juggler, is released twice a year and focuses on student literature and artwork. The Dome yearbook is published annually. The newspapers have varying publication interests, with The Observer published daily and mainly reporting university and other news, and staffed by students from both Notre Dame and Saint Mary's College. Unlike Scholastic and The Dome, The Observer is an independent publication and does not have a faculty advisor or any editorial oversight from the University. In 1987, when some students believed that The Observer began to show a conservative bias, a liberal newspaper, Common Sense was published. Likewise, in 2003, when other students believed that the paper showed a liberal bias, the conservative paper Irish Rover went into production. Neither paper is published as often as The Observer; however, all three are distributed to all students. Finally, in Spring 2008 an undergraduate journal for political science research, Beyond Politics, made its debut.\",\n",
              "   'qas': [{'answers': [{'answer_start': 248, 'text': 'September 1876'}],\n",
              "     'id': '5733bf84d058e614000b61be',\n",
              "     'question': 'When did the Scholastic Magazine of Notre dame begin publishing?'},\n",
              "    {'answers': [{'answer_start': 441, 'text': 'twice'}],\n",
              "     'id': '5733bf84d058e614000b61bf',\n",
              "     'question': \"How often is Notre Dame's the Juggler published?\"},\n",
              "    {'answers': [{'answer_start': 598, 'text': 'The Observer'}],\n",
              "     'id': '5733bf84d058e614000b61c0',\n",
              "     'question': 'What is the daily student paper at Notre Dame called?'},\n",
              "    {'answers': [{'answer_start': 126, 'text': 'three'}],\n",
              "     'id': '5733bf84d058e614000b61bd',\n",
              "     'question': 'How many student news papers are found at Notre Dame?'},\n",
              "    {'answers': [{'answer_start': 908, 'text': '1987'}],\n",
              "     'id': '5733bf84d058e614000b61c1',\n",
              "     'question': 'In what year did the student paper Common Sense begin publication at Notre Dame?'}]},\n",
              "  {'context': 'The university is the major seat of the Congregation of Holy Cross (albeit not its official headquarters, which are in Rome). Its main seminary, Moreau Seminary, is located on the campus across St. Joseph lake from the Main Building. Old College, the oldest building on campus and located near the shore of St. Mary lake, houses undergraduate seminarians. Retired priests and brothers reside in Fatima House (a former retreat center), Holy Cross House, as well as Columba Hall near the Grotto. The university through the Moreau Seminary has ties to theologian Frederick Buechner. While not Catholic, Buechner has praised writers from Notre Dame and Moreau Seminary created a Buechner Prize for Preaching.',\n",
              "   'qas': [{'answers': [{'answer_start': 119, 'text': 'Rome'}],\n",
              "     'id': '5733bed24776f41900661188',\n",
              "     'question': 'Where is the headquarters of the Congregation of the Holy Cross?'},\n",
              "    {'answers': [{'answer_start': 145, 'text': 'Moreau Seminary'}],\n",
              "     'id': '5733bed24776f41900661189',\n",
              "     'question': 'What is the primary seminary of the Congregation of the Holy Cross?'},\n",
              "    {'answers': [{'answer_start': 234, 'text': 'Old College'}],\n",
              "     'id': '5733bed24776f4190066118a',\n",
              "     'question': 'What is the oldest structure at Notre Dame?'},\n",
              "    {'answers': [{'answer_start': 356,\n",
              "       'text': 'Retired priests and brothers'}],\n",
              "     'id': '5733bed24776f4190066118b',\n",
              "     'question': 'What individuals live at Fatima House at Notre Dame?'},\n",
              "    {'answers': [{'answer_start': 675,\n",
              "       'text': 'Buechner Prize for Preaching'}],\n",
              "     'id': '5733bed24776f4190066118c',\n",
              "     'question': 'Which prize did Frederick Buechner create?'}]},\n",
              "  {'context': 'The College of Engineering was established in 1920, however, early courses in civil and mechanical engineering were a part of the College of Science since the 1870s. Today the college, housed in the Fitzpatrick, Cushing, and Stinson-Remick Halls of Engineering, includes five departments of study – aerospace and mechanical engineering, chemical and biomolecular engineering, civil engineering and geological sciences, computer science and engineering, and electrical engineering – with eight B.S. degrees offered. Additionally, the college offers five-year dual degree programs with the Colleges of Arts and Letters and of Business awarding additional B.A. and Master of Business Administration (MBA) degrees, respectively.',\n",
              "   'qas': [{'answers': [{'answer_start': 487, 'text': 'eight'}],\n",
              "     'id': '5733a6424776f41900660f51',\n",
              "     'question': 'How many BS level degrees are offered in the College of Engineering at Notre Dame?'},\n",
              "    {'answers': [{'answer_start': 46, 'text': '1920'}],\n",
              "     'id': '5733a6424776f41900660f4e',\n",
              "     'question': 'In what year was the College of Engineering at Notre Dame formed?'},\n",
              "    {'answers': [{'answer_start': 126, 'text': 'the College of Science'}],\n",
              "     'id': '5733a6424776f41900660f4f',\n",
              "     'question': 'Before the creation of the College of Engineering similar studies were carried out at which Notre Dame college?'},\n",
              "    {'answers': [{'answer_start': 271, 'text': 'five'}],\n",
              "     'id': '5733a6424776f41900660f50',\n",
              "     'question': 'How many departments are within the Stinson-Remick Hall of Engineering?'},\n",
              "    {'answers': [{'answer_start': 155, 'text': 'the 1870s'}],\n",
              "     'id': '5733a6424776f41900660f52',\n",
              "     'question': 'The College of Science began to offer civil engineering courses beginning at what time at Notre Dame?'}]},\n",
              "  {'context': \"All of Notre Dame's undergraduate students are a part of one of the five undergraduate colleges at the school or are in the First Year of Studies program. The First Year of Studies program was established in 1962 to guide incoming freshmen in their first year at the school before they have declared a major. Each student is given an academic advisor from the program who helps them to choose classes that give them exposure to any major in which they are interested. The program also includes a Learning Resource Center which provides time management, collaborative learning, and subject tutoring. This program has been recognized previously, by U.S. News & World Report, as outstanding.\",\n",
              "   'qas': [{'answers': [{'answer_start': 496,\n",
              "       'text': 'Learning Resource Center'}],\n",
              "     'id': '5733a70c4776f41900660f64',\n",
              "     'question': 'What entity provides help with the management of time for new students at Notre Dame?'},\n",
              "    {'answers': [{'answer_start': 68, 'text': 'five'}],\n",
              "     'id': '5733a70c4776f41900660f62',\n",
              "     'question': 'How many colleges for undergraduates are at Notre Dame?'},\n",
              "    {'answers': [{'answer_start': 155,\n",
              "       'text': 'The First Year of Studies program'}],\n",
              "     'id': '5733a70c4776f41900660f63',\n",
              "     'question': 'What was created at Notre Dame in 1962 to assist first year students?'},\n",
              "    {'answers': [{'answer_start': 647, 'text': 'U.S. News & World Report'}],\n",
              "     'id': '5733a70c4776f41900660f65',\n",
              "     'question': 'Which organization declared the First Year of Studies program at Notre Dame \"outstanding?\"'}]},\n",
              "  {'context': 'The university first offered graduate degrees, in the form of a Master of Arts (MA), in the 1854–1855 academic year. The program expanded to include Master of Laws (LL.M.) and Master of Civil Engineering in its early stages of growth, before a formal graduate school education was developed with a thesis not required to receive the degrees. This changed in 1924 with formal requirements developed for graduate degrees, including offering Doctorate (PhD) degrees. Today each of the five colleges offer graduate education. Most of the departments from the College of Arts and Letters offer PhD programs, while a professional Master of Divinity (M.Div.) program also exists. All of the departments in the College of Science offer PhD programs, except for the Department of Pre-Professional Studies. The School of Architecture offers a Master of Architecture, while each of the departments of the College of Engineering offer PhD programs. The College of Business offers multiple professional programs including MBA and Master of Science in Accountancy programs. It also operates facilities in Chicago and Cincinnati for its executive MBA program. Additionally, the Alliance for Catholic Education program offers a Master of Education program where students study at the university during the summer and teach in Catholic elementary schools, middle schools, and high schools across the Southern United States for two school years.',\n",
              "   'qas': [{'answers': [{'answer_start': 358, 'text': '1924'}],\n",
              "     'id': '5733a7bd4776f41900660f6b',\n",
              "     'question': 'The granting of Doctorate degrees first occurred in what year at Notre Dame?'},\n",
              "    {'answers': [{'answer_start': 624, 'text': 'Master of Divinity'}],\n",
              "     'id': '5733a7bd4776f41900660f6c',\n",
              "     'question': 'What type of degree is an M.Div.?'},\n",
              "    {'answers': [{'answer_start': 1163,\n",
              "       'text': 'Alliance for Catholic Education'}],\n",
              "     'id': '5733a7bd4776f41900660f6e',\n",
              "     'question': 'Which program at Notre Dame offers a Master of Education degree?'},\n",
              "    {'answers': [{'answer_start': 92, 'text': '1854'}],\n",
              "     'id': '5733a7bd4776f41900660f6a',\n",
              "     'question': 'In what year was a Master of Arts course first offered at Notre Dame?'},\n",
              "    {'answers': [{'answer_start': 757,\n",
              "       'text': 'Department of Pre-Professional Studies'}],\n",
              "     'id': '5733a7bd4776f41900660f6d',\n",
              "     'question': 'Which department at Notre Dame is the only one to not offer a PhD program?'}]},\n",
              "  {'context': \"The Joan B. Kroc Institute for International Peace Studies at the University of Notre Dame is dedicated to research, education and outreach on the causes of violent conflict and the conditions for sustainable peace. It offers PhD, Master's, and undergraduate degrees in peace studies. It was founded in 1986 through the donations of Joan B. Kroc, the widow of McDonald's owner Ray Kroc. The institute was inspired by the vision of the Rev. Theodore M. Hesburgh CSC, President Emeritus of the University of Notre Dame. The institute has contributed to international policy discussions about peace building practices.\",\n",
              "   'qas': [{'answers': [{'answer_start': 4,\n",
              "       'text': 'Joan B. Kroc Institute for International Peace Studies'}],\n",
              "     'id': '5733ac31d058e614000b5ff3',\n",
              "     'question': 'What institute at Notre Dame studies  the reasons for violent conflict?'},\n",
              "    {'answers': [{'answer_start': 466,\n",
              "       'text': 'President Emeritus of the University of Notre Dame'}],\n",
              "     'id': '5733ac31d058e614000b5ff6',\n",
              "     'question': \"What is the title of Notre Dame's Theodore Hesburgh?\"},\n",
              "    {'answers': [{'answer_start': 303, 'text': '1986'}],\n",
              "     'id': '5733ac31d058e614000b5ff4',\n",
              "     'question': 'In what year was the Joan B. Kroc Institute for International Peace Studies founded?'},\n",
              "    {'answers': [{'answer_start': 377, 'text': 'Ray Kroc'}],\n",
              "     'id': '5733ac31d058e614000b5ff5',\n",
              "     'question': 'To whom was John B. Kroc married?'},\n",
              "    {'answers': [{'answer_start': 360, 'text': \"McDonald's\"}],\n",
              "     'id': '5733ac31d058e614000b5ff7',\n",
              "     'question': 'What company did Ray Kroc own?'}]},\n",
              "  {'context': 'The library system of the university is divided between the main library and each of the colleges and schools. The main building is the 14-story Theodore M. Hesburgh Library, completed in 1963, which is the third building to house the main collection of books. The front of the library is adorned with the Word of Life mural designed by artist Millard Sheets. This mural is popularly known as \"Touchdown Jesus\" because of its proximity to Notre Dame Stadium and Jesus\\' arms appearing to make the signal for a touchdown.',\n",
              "   'qas': [{'answers': [{'answer_start': 136, 'text': '14'}],\n",
              "     'id': '5733ad384776f41900660fec',\n",
              "     'question': 'How many stories tall is the main library at Notre Dame?'},\n",
              "    {'answers': [{'answer_start': 145,\n",
              "       'text': 'Theodore M. Hesburgh Library'}],\n",
              "     'id': '5733ad384776f41900660fed',\n",
              "     'question': 'What is the name of the main library at Notre Dame?'},\n",
              "    {'answers': [{'answer_start': 188, 'text': '1963'}],\n",
              "     'id': '5733ad384776f41900660fee',\n",
              "     'question': 'In what year was the Theodore M. Hesburgh Library at Notre Dame finished?'},\n",
              "    {'answers': [{'answer_start': 344, 'text': 'Millard Sheets'}],\n",
              "     'id': '5733ad384776f41900660fef',\n",
              "     'question': 'Which artist created the mural on the Theodore M. Hesburgh Library?'},\n",
              "    {'answers': [{'answer_start': 394, 'text': 'Touchdown Jesus'}],\n",
              "     'id': '5733ad384776f41900660ff0',\n",
              "     'question': 'What is a common name to reference the mural created by Millard Sheets at Notre Dame?'}]},\n",
              "  {'context': 'Notre Dame is known for its competitive admissions, with the incoming class enrolling in fall 2015 admitting 3,577 from a pool of 18,156 (19.7%). The academic profile of the enrolled class continues to rate among the top 10 to 15 in the nation for national research universities. The university practices a non-restrictive early action policy that allows admitted students to consider admission to Notre Dame as well as any other colleges to which they were accepted. 1,400 of the 3,577 (39.1%) were admitted under the early action plan. Admitted students came from 1,311 high schools and the average student traveled more than 750 miles to Notre Dame, making it arguably the most representative university in the United States. While all entering students begin in the College of the First Year of Studies, 25% have indicated they plan to study in the liberal arts or social sciences, 24% in engineering, 24% in business, 24% in science, and 3% in architecture.',\n",
              "   'qas': [{'answers': [{'answer_start': 109, 'text': '3,577'}],\n",
              "     'id': '5733ae924776f41900661014',\n",
              "     'question': 'How many incoming students did Notre Dame admit in fall 2015?'},\n",
              "    {'answers': [{'answer_start': 138, 'text': '19.7%'}],\n",
              "     'id': '5733ae924776f41900661013',\n",
              "     'question': 'What percentage of students were admitted to Notre Dame in fall 2015?'},\n",
              "    {'answers': [{'answer_start': 213,\n",
              "       'text': 'the top 10 to 15 in the nation'}],\n",
              "     'id': '5733ae924776f41900661015',\n",
              "     'question': 'Where does Notre Dame rank in terms of academic profile among research universities in the US?'},\n",
              "    {'answers': [{'answer_start': 488, 'text': '39.1%'}],\n",
              "     'id': '5733ae924776f41900661016',\n",
              "     'question': 'What percentage of students at Notre Dame participated in the Early Action program?'},\n",
              "    {'answers': [{'answer_start': 618, 'text': 'more than 750 miles'}],\n",
              "     'id': '5733ae924776f41900661017',\n",
              "     'question': 'How many miles does the average student at Notre Dame travel to study there?'}]},\n",
              "  {'context': 'In 2015-2016, Notre Dame ranked 18th overall among \"national universities\" in the United States in U.S. News & World Report\\'s Best Colleges 2016. In 2014, USA Today ranked Notre Dame 10th overall for American universities based on data from College Factual. Forbes.com\\'s America\\'s Best Colleges ranks Notre Dame 13th among colleges in the United States in 2015, 8th among Research Universities, and 1st in the Midwest. U.S. News & World Report also lists Notre Dame Law School as 22nd overall. BusinessWeek ranks Mendoza College of Business undergraduate school as 1st overall. It ranks the MBA program as 20th overall. The Philosophical Gourmet Report ranks Notre Dame\\'s graduate philosophy program as 15th nationally, while ARCHITECT Magazine ranked the undergraduate architecture program as 12th nationally. Additionally, the study abroad program ranks sixth in highest participation percentage in the nation, with 57.6% of students choosing to study abroad in 17 countries. According to payscale.com, undergraduate alumni of University of Notre Dame have a mid-career median salary $110,000, making it the 24th highest among colleges and universities in the United States. The median starting salary of $55,300 ranked 58th in the same peer group.',\n",
              "   'qas': [{'answers': [{'answer_start': 32, 'text': '18th overall'}],\n",
              "     'id': '5733afd3d058e614000b6045',\n",
              "     'question': 'Where did U.S. News & World Report rank Notre Dame in its 2015-2016 university rankings?'},\n",
              "    {'answers': [{'answer_start': 362, 'text': '8th'}],\n",
              "     'id': '5733afd3d058e614000b6047',\n",
              "     'question': 'Forbes.com placed Notre Dame at what position compared to other US research universities?'},\n",
              "    {'answers': [{'answer_start': 565, 'text': '1st overall'}],\n",
              "     'id': '5733afd3d058e614000b6048',\n",
              "     'question': 'The undergrad school at the Mendoza College of Business was ranked where according to BusinessWeek?'},\n",
              "    {'answers': [{'answer_start': 155, 'text': 'USA Today'}],\n",
              "     'id': '5733afd3d058e614000b6046',\n",
              "     'question': 'In 2014 what entity named Notre Dame 10th best of all American universities?'},\n",
              "    {'answers': [{'answer_start': 918, 'text': '57.6%'}],\n",
              "     'id': '5733afd3d058e614000b6049',\n",
              "     'question': 'What percentage of Notre Dame students decide to study abroad?'}]},\n",
              "  {'context': \"Father Joseph Carrier, C.S.C. was Director of the Science Museum and the Library and Professor of Chemistry and Physics until 1874. Carrier taught that scientific research and its promise for progress were not antagonistic to the ideals of intellectual and moral culture endorsed by the Church. One of Carrier's students was Father John Augustine Zahm (1851–1921) who was made Professor and Co-Director of the Science Department at age 23 and by 1900 was a nationally prominent scientist and naturalist. Zahm was active in the Catholic Summer School movement, which introduced Catholic laity to contemporary intellectual issues. His book Evolution and Dogma (1896) defended certain aspects of evolutionary theory as true, and argued, moreover, that even the great Church teachers Thomas Aquinas and Augustine taught something like it. The intervention of Irish American Catholics in Rome prevented Zahm's censure by the Vatican. In 1913, Zahm and former President Theodore Roosevelt embarked on a major expedition through the Amazon.\",\n",
              "   'qas': [{'answers': [{'answer_start': 0,\n",
              "       'text': 'Father Joseph Carrier, C.S.C.'}],\n",
              "     'id': '5733b0fb4776f41900661041',\n",
              "     'question': 'What person was the Director of the Science Museum at Notre Dame in the late 19th century?'},\n",
              "    {'answers': [{'answer_start': 353, 'text': '1851–1921'}],\n",
              "     'id': '5733b0fb4776f41900661043',\n",
              "     'question': 'What was the lifespan of John Augustine Zahm?'},\n",
              "    {'answers': [{'answer_start': 406, 'text': 'the Science Department'}],\n",
              "     'id': '5733b0fb4776f41900661044',\n",
              "     'question': 'What program did John Augustine Zahm come to co-direct at Nore Dame?'},\n",
              "    {'answers': [{'answer_start': 638, 'text': 'Evolution and Dogma'}],\n",
              "     'id': '5733b0fb4776f41900661045',\n",
              "     'question': 'What book did John Zahm write in 1896?'},\n",
              "    {'answers': [{'answer_start': 85,\n",
              "       'text': 'Professor of Chemistry and Physics'}],\n",
              "     'id': '5733b0fb4776f41900661042',\n",
              "     'question': 'What professorship did Father Josh Carrier hold at Notre Dame?'}]},\n",
              "  {'context': \"In 1882, Albert Zahm (John Zahm's brother) built an early wind tunnel used to compare lift to drag of aeronautical models. Around 1899, Professor Jerome Green became the first American to send a wireless message. In 1931, Father Julius Nieuwland performed early work on basic reactions that was used to create neoprene. Study of nuclear physics at the university began with the building of a nuclear accelerator in 1936, and continues now partly through a partnership in the Joint Institute for Nuclear Astrophysics.\",\n",
              "   'qas': [{'answers': [{'answer_start': 3, 'text': '1882'}],\n",
              "     'id': '5733b1da4776f41900661068',\n",
              "     'question': 'In what year did Albert Zahm begin comparing aeronatical models at Notre Dame?'},\n",
              "    {'answers': [{'answer_start': 136, 'text': 'Professor Jerome Green'}],\n",
              "     'id': '5733b1da4776f41900661069',\n",
              "     'question': 'Which professor sent the first wireless message in the USA?'},\n",
              "    {'answers': [{'answer_start': 123, 'text': 'Around 1899'}],\n",
              "     'id': '5733b1da4776f4190066106a',\n",
              "     'question': 'In what year did Jerome Green send his first wireless message?'},\n",
              "    {'answers': [{'answer_start': 222, 'text': 'Father Julius Nieuwland'}],\n",
              "     'id': '5733b1da4776f4190066106b',\n",
              "     'question': 'Which individual worked on projects at Notre Dame that eventually created neoprene?'},\n",
              "    {'answers': [{'answer_start': 49, 'text': 'an early wind tunnel'}],\n",
              "     'id': '5733b1da4776f41900661067',\n",
              "     'question': 'What did the brother of John Zahm construct at Notre Dame?'}]},\n",
              "  {'context': \"The Lobund Institute grew out of pioneering research in germ-free-life which began in 1928. This area of research originated in a question posed by Pasteur as to whether animal life was possible without bacteria. Though others had taken up this idea, their research was short lived and inconclusive. Lobund was the first research organization to answer definitively, that such life is possible and that it can be prolonged through generations. But the objective was not merely to answer Pasteur's question but also to produce the germ free animal as a new tool for biological and medical research. This objective was reached and for years Lobund was a unique center for the study and production of germ free animals and for their use in biological and medical investigations. Today the work has spread to other universities. In the beginning it was under the Department of Biology and a program leading to the master's degree accompanied the research program. In the 1940s Lobund achieved independent status as a purely research organization and in 1950 was raised to the status of an Institute. In 1958 it was brought back into the Department of Biology as integral part of that department, but with its own program leading to the degree of PhD in Gnotobiotics.\",\n",
              "   'qas': [{'answers': [{'answer_start': 0, 'text': 'The Lobund Institute'}],\n",
              "     'id': '5733b2fe4776f4190066108f',\n",
              "     'question': 'Work on a germ-free-life ended up in the creation of which Notre Dame institute?'},\n",
              "    {'answers': [{'answer_start': 963, 'text': 'the 1940s'}],\n",
              "     'id': '5733b2fe4776f41900661091',\n",
              "     'question': 'Around what time did Lobund of Notre Dame become independent?'},\n",
              "    {'answers': [{'answer_start': 1049, 'text': '1950'}],\n",
              "     'id': '5733b2fe4776f41900661092',\n",
              "     'question': 'In what year did Lobund at Notre Dame become an Institute?'},\n",
              "    {'answers': [{'answer_start': 1099, 'text': '1958'}],\n",
              "     'id': '5733b2fe4776f41900661093',\n",
              "     'question': 'The Lobund Institute was merged into the Department of Biology at Notre Dame in what year?'},\n",
              "    {'answers': [{'answer_start': 86, 'text': '1928'}],\n",
              "     'id': '5733b2fe4776f41900661090',\n",
              "     'question': 'When did study of a germ-free-life begin at Notre Dame?'}]},\n",
              "  {'context': \"The Review of Politics was founded in 1939 by Gurian, modeled after German Catholic journals. It quickly emerged as part of an international Catholic intellectual revival, offering an alternative vision to positivist philosophy. For 44 years, the Review was edited by Gurian, Matthew Fitzsimons, Frederick Crosson, and Thomas Stritch. Intellectual leaders included Gurian, Jacques Maritain, Frank O'Malley, Leo Richard Ward, F. A. Hermens, and John U. Nef. It became a major forum for political ideas and modern political concerns, especially from a Catholic and scholastic tradition.\",\n",
              "   'qas': [{'answers': [{'answer_start': 0, 'text': 'The Review of Politics'}],\n",
              "     'id': '5733b3d64776f419006610a3',\n",
              "     'question': 'Gurian created what in 1939 at Notre Dame?'},\n",
              "    {'answers': [{'answer_start': 68, 'text': 'German Catholic journals'}],\n",
              "     'id': '5733b3d64776f419006610a4',\n",
              "     'question': 'What was the Review of Politics inspired by?'},\n",
              "    {'answers': [{'answer_start': 233, 'text': '44'}],\n",
              "     'id': '5733b3d64776f419006610a5',\n",
              "     'question': 'Over how many years did Gurian edit the Review of Politics at Notre Dame?'},\n",
              "    {'answers': [{'answer_start': 4, 'text': 'Review of Politics'}],\n",
              "     'id': '5733b3d64776f419006610a6',\n",
              "     'question': 'Thomas Stritch was an editor of which publican from Notre Dame?'}]},\n",
              "  {'context': 'As of 2012[update] research continued in many fields. The university president, John Jenkins, described his hope that Notre Dame would become \"one of the pre–eminent research institutions in the world\" in his inaugural address. The university has many multi-disciplinary institutes devoted to research in varying fields, including the Medieval Institute, the Kellogg Institute for International Studies, the Kroc Institute for International Peace studies, and the Center for Social Concerns. Recent research includes work on family conflict and child development, genome mapping, the increasing trade deficit of the United States with China, studies in fluid mechanics, computational science and engineering, and marketing trends on the Internet. As of 2013, the university is home to the Notre Dame Global Adaptation Index which ranks countries annually based on how vulnerable they are to climate change and how prepared they are to adapt.',\n",
              "   'qas': [{'answers': [{'answer_start': 80, 'text': 'John Jenkins'}],\n",
              "     'id': '5733b5344776f419006610dd',\n",
              "     'question': 'Who was the president of Notre Dame in 2012?'},\n",
              "    {'answers': [{'answer_start': 118, 'text': 'Notre Dame'}],\n",
              "     'id': '5733b5344776f419006610de',\n",
              "     'question': 'The Kellogg Institute for International Studies is part of which university?'},\n",
              "    {'answers': [{'answer_start': 427, 'text': 'International Peace studies'}],\n",
              "     'id': '5733b5344776f419006610df',\n",
              "     'question': 'What does the Kroc Institute at Notre Dame focus on?'},\n",
              "    {'answers': [{'answer_start': 753, 'text': '2013'}],\n",
              "     'id': '5733b5344776f419006610e0',\n",
              "     'question': 'In what year did Notre Dame begin to host the Global Adaptation Index?'},\n",
              "    {'answers': [{'answer_start': 891, 'text': 'climate change'}],\n",
              "     'id': '5733b5344776f419006610e1',\n",
              "     'question': 'What threat does the Global Adaptation Index study?'}]},\n",
              "  {'context': 'In 2014 the Notre Dame student body consisted of 12,179 students, with 8,448 undergraduates, 2,138 graduate and professional and 1,593 professional (Law, M.Div., Business, M.Ed.) students. Around 21–24% of students are children of alumni, and although 37% of students come from the Midwestern United States, the student body represents all 50 states and 100 countries. As of March 2007[update] The Princeton Review ranked the school as the fifth highest \\'dream school\\' for parents to send their children. As of March 2015[update] The Princeton Review ranked Notre Dame as the ninth highest. The school has been previously criticized for its lack of diversity, and The Princeton Review ranks the university highly among schools at which \"Alternative Lifestyles [are] Not an Alternative.\" It has also been commended by some diversity oriented publications; Hispanic Magazine in 2004 ranked the university ninth on its list of the top–25 colleges for Latinos, and The Journal of Blacks in Higher Education recognized the university in 2006 for raising enrollment of African-American students. With 6,000 participants, the university\\'s intramural sports program was named in 2004 by Sports Illustrated as the best program in the country, while in 2007 The Princeton Review named it as the top school where \"Everyone Plays Intramural Sports.\" The annual Bookstore Basketball tournament is the largest outdoor five-on-five tournament in the world with over 700 teams participating each year, while the Notre Dame Men\\'s Boxing Club hosts the annual Bengal Bouts tournament that raises money for the Holy Cross Missions in Bangladesh.',\n",
              "   'qas': [{'answers': [{'answer_start': 71, 'text': '8,448'}],\n",
              "     'id': '5733b5df4776f41900661105',\n",
              "     'question': 'How many undergrads were attending Notre Dame in 2014?'},\n",
              "    {'answers': [{'answer_start': 196, 'text': '21–24%'}],\n",
              "     'id': '5733b5df4776f41900661106',\n",
              "     'question': 'What percentage of students at Notre Dame are the children of former Notre Dame students?'},\n",
              "    {'answers': [{'answer_start': 1446, 'text': 'over 700'}],\n",
              "     'id': '5733b5df4776f41900661107',\n",
              "     'question': 'How many teams participate in the Notre Dame Bookstore Basketball tournament?'},\n",
              "    {'answers': [{'answer_start': 1588,\n",
              "       'text': 'the Holy Cross Missions in Bangladesh'}],\n",
              "     'id': '5733b5df4776f41900661108',\n",
              "     'question': 'For what cause is money raised at the Bengal Bouts tournament at Notre Dame?'},\n",
              "    {'answers': [{'answer_start': 49, 'text': '12,179'}],\n",
              "     'id': '5733b5df4776f41900661109',\n",
              "     'question': 'How many students in total were at Notre Dame in 2014?'}]},\n",
              "  {'context': \"About 80% of undergraduates and 20% of graduate students live on campus. The majority of the graduate students on campus live in one of four graduate housing complexes on campus, while all on-campus undergraduates live in one of the 29 residence halls. Because of the religious affiliation of the university, all residence halls are single-sex, with 15 male dorms and 14 female dorms. The university maintains a visiting policy (known as parietal hours) for those students who live in dormitories, specifying times when members of the opposite sex are allowed to visit other students' dorm rooms; however, all residence halls have 24-hour social spaces for students regardless of gender. Many residence halls have at least one nun and/or priest as a resident. There are no traditional social fraternities or sororities at the university, but a majority of students live in the same residence hall for all four years. Some intramural sports are based on residence hall teams, where the university offers the only non-military academy program of full-contact intramural American football. At the end of the intramural season, the championship game is played on the field in Notre Dame Stadium.\",\n",
              "   'qas': [{'answers': [{'answer_start': 6, 'text': '80%'}],\n",
              "     'id': '5733b699d058e614000b6118',\n",
              "     'question': 'What percentage of undergrads live on the Notre Dame campus?'},\n",
              "    {'answers': [{'answer_start': 136, 'text': 'four'}],\n",
              "     'id': '5733b699d058e614000b6119',\n",
              "     'question': \"How many student housing areas are reserved for Notre Dame's graduate students?\"},\n",
              "    {'answers': [{'answer_start': 350, 'text': '15'}],\n",
              "     'id': '5733b699d058e614000b611a',\n",
              "     'question': 'How many dorms for males are on the Notre Dame campus?'},\n",
              "    {'answers': [{'answer_start': 32, 'text': '20%'}],\n",
              "     'id': '5733b699d058e614000b611b',\n",
              "     'question': 'What amount of the graduate student body at Notre Dame live on the campus?'},\n",
              "    {'answers': [{'answer_start': 368, 'text': '14'}],\n",
              "     'id': '5733b699d058e614000b611c',\n",
              "     'question': 'There are how many dorms for females at Notre Dame?'}]},\n",
              "  {'context': 'The university is affiliated with the Congregation of Holy Cross (Latin: Congregatio a Sancta Cruce, abbreviated postnominals: \"CSC\"). While religious affiliation is not a criterion for admission, more than 93% of students identify as Christian, with over 80% of the total being Catholic. Collectively, Catholic Mass is celebrated over 100 times per week on campus, and a large campus ministry program provides for the faith needs of the community. There are multitudes of religious statues and artwork around campus, most prominent of which are the statue of Mary on the Main Building, the Notre Dame Grotto, and the Word of Life mural on Hesburgh Library depicting Christ as a teacher. Additionally, every classroom displays a crucifix. There are many religious clubs (catholic and non-Catholic) at the school, including Council #1477 of the Knights of Columbus (KOC), Baptist Collegiate Ministry (BCM), Jewish Club, Muslim Student Association, Orthodox Christian Fellowship, The Mormon Club, and many more. The Notre Dame KofC are known for being the first collegiate council of KofC, operating a charitable concession stand during every home football game and owning their own building on campus which can be used as a cigar lounge. Fifty-seven chapels are located throughout the campus.',\n",
              "   'qas': [{'answers': [{'answer_start': 73,\n",
              "       'text': 'Congregatio a Sancta Cruce'}],\n",
              "     'id': '5733b7f74776f4190066112d',\n",
              "     'question': 'What is Congregation of Holy Cross in Latin?'},\n",
              "    {'answers': [{'answer_start': 197, 'text': 'more than 93%'}],\n",
              "     'id': '5733b7f74776f4190066112e',\n",
              "     'question': 'What percentage of Notre Dame students feel they are Christian?'},\n",
              "    {'answers': [{'answer_start': 331, 'text': 'over 100 times'}],\n",
              "     'id': '5733b7f74776f4190066112f',\n",
              "     'question': 'How often is Catholic mass held at Notre Dame in a week?'},\n",
              "    {'answers': [{'answer_start': 1237, 'text': 'Fifty-seven'}],\n",
              "     'id': '5733b7f74776f41900661130',\n",
              "     'question': 'How many chapels are on the Notre Dame campus?'},\n",
              "    {'answers': [{'answer_start': 251, 'text': 'over 80%'}],\n",
              "     'id': '5733b7f74776f41900661131',\n",
              "     'question': 'What amount of the student body of Notre Dame identifies as Catholic?'}]},\n",
              "  {'context': 'This Main Building, and the library collection, was entirely destroyed by a fire in April 1879, and the school closed immediately and students were sent home. The university founder, Fr. Sorin and the president at the time, the Rev. William Corby, immediately planned for the rebuilding of the structure that had housed virtually the entire University. Construction was started on the 17th of May and by the incredible zeal of administrator and workers the building was completed before the fall semester of 1879. The library collection was also rebuilt and stayed housed in the new Main Building for years afterwards. Around the time of the fire, a music hall was opened. Eventually becoming known as Washington Hall, it hosted plays and musical acts put on by the school. By 1880, a science program was established at the university, and a Science Hall (today LaFortune Student Center) was built in 1883. The hall housed multiple classrooms and science labs needed for early research at the university.',\n",
              "   'qas': [{'answers': [{'answer_start': 702, 'text': 'Washington Hall'}],\n",
              "     'id': '57338653d058e614000b5c84',\n",
              "     'question': 'What was the music hall at Notre Dame called?'},\n",
              "    {'answers': [{'answer_start': 90, 'text': '1879'}],\n",
              "     'id': '57338653d058e614000b5c81',\n",
              "     'question': 'In what year was the Main Building at Notre Dame razed in a fire?'},\n",
              "    {'answers': [{'answer_start': 228, 'text': 'Rev. William Corby'}],\n",
              "     'id': '57338653d058e614000b5c82',\n",
              "     'question': 'Who was the president of Notre Dame in 1879?'},\n",
              "    {'answers': [{'answer_start': 385, 'text': '17th of May'}],\n",
              "     'id': '57338653d058e614000b5c83',\n",
              "     'question': 'On what date was the rebuilding of The Main Building begun at Notre Dame after the fire that claimed the previous?'},\n",
              "    {'answers': [{'answer_start': 862, 'text': 'LaFortune Student Center'}],\n",
              "     'id': '57338653d058e614000b5c85',\n",
              "     'question': 'What did the Science Hall at Notre Dame come to be known as?'}]},\n",
              "  {'context': \"In 1919 Father James Burns became president of Notre Dame, and in three years he produced an academic revolution that brought the school up to national standards by adopting the elective system and moving away from the university's traditional scholastic and classical emphasis. By contrast, the Jesuit colleges, bastions of academic conservatism, were reluctant to move to a system of electives. Their graduates were shut out of Harvard Law School for that reason. Notre Dame continued to grow over the years, adding more colleges, programs, and sports teams. By 1921, with the addition of the College of Commerce, Notre Dame had grown from a small college to a university with five colleges and a professional law school. The university continued to expand and add new residence halls and buildings with each subsequent president.\",\n",
              "   'qas': [{'answers': [{'answer_start': 244,\n",
              "       'text': 'scholastic and classical'}],\n",
              "     'id': '57338724d058e614000b5c9f',\n",
              "     'question': 'What type of education was pushed at Notre Dame before its embracing of national standards?'},\n",
              "    {'answers': [{'answer_start': 595, 'text': 'College of Commerce'}],\n",
              "     'id': '57338724d058e614000b5ca1',\n",
              "     'question': 'Which college did Notre Dame add in 1921?'},\n",
              "    {'answers': [{'answer_start': 8, 'text': 'Father James Burns'}],\n",
              "     'id': '57338724d058e614000b5c9d',\n",
              "     'question': 'In 1919 a new president of Notre Dame was named, who was it?'},\n",
              "    {'answers': [{'answer_start': 66, 'text': 'three years'}],\n",
              "     'id': '57338724d058e614000b5c9e',\n",
              "     'question': 'Over how many years did the change to national standards undertaken at Notre Dame in the early 20th century take place?'},\n",
              "    {'answers': [{'answer_start': 430, 'text': 'Harvard Law School'}],\n",
              "     'id': '57338724d058e614000b5ca0',\n",
              "     'question': 'Those who attended a Jesuit college may have been forbidden from joining which Law School due to the curricula at the Jesuit institution?'}]},\n",
              "  {'context': 'One of the main driving forces in the growth of the University was its football team, the Notre Dame Fighting Irish. Knute Rockne became head coach in 1918. Under Rockne, the Irish would post a record of 105 wins, 12 losses, and five ties. During his 13 years the Irish won three national championships, had five undefeated seasons, won the Rose Bowl in 1925, and produced players such as George Gipp and the \"Four Horsemen\". Knute Rockne has the highest winning percentage (.881) in NCAA Division I/FBS football history. Rockne\\'s offenses employed the Notre Dame Box and his defenses ran a 7–2–2 scheme. The last game Rockne coached was on December 14, 1930 when he led a group of Notre Dame all-stars against the New York Giants in New York City.',\n",
              "   'qas': [{'answers': [{'answer_start': 117, 'text': 'Knute Rockne'}],\n",
              "     'id': '573387acd058e614000b5cb1',\n",
              "     'question': 'The Notre Dame football team got a new head coach in 1918, who was it?'},\n",
              "    {'answers': [{'answer_start': 204, 'text': '105'}],\n",
              "     'id': '573387acd058e614000b5cb2',\n",
              "     'question': 'What was the amount of wins Knute Rockne attained at Notre Dame while head coach?'},\n",
              "    {'answers': [{'answer_start': 354, 'text': '1925'}],\n",
              "     'id': '573387acd058e614000b5cb5',\n",
              "     'question': 'In what year did the team lead by Knute Rockne win the Rose Bowl?'},\n",
              "    {'answers': [{'answer_start': 251, 'text': '13'}],\n",
              "     'id': '573387acd058e614000b5cb3',\n",
              "     'question': 'How many years was Knute Rockne head coach at Notre Dame?'},\n",
              "    {'answers': [{'answer_start': 274, 'text': 'three'}],\n",
              "     'id': '573387acd058e614000b5cb4',\n",
              "     'question': 'How many national titles were won when Knute Rockne coached at Notre Dame?'}]},\n",
              "  {'context': \"The success of its football team made Notre Dame a household name. The success of Note Dame reflected rising status of Irish Americans and Catholics in the 1920s. Catholics rallied up around the team and listen to the games on the radio, especially when it knocked off the schools that symbolized the Protestant establishment in America — Harvard, Yale, Princeton, and Army. Yet this role as high-profile flagship institution of Catholicism made it an easy target of anti-Catholicism. The most remarkable episode of violence was the clash between Notre Dame students and the Ku Klux Klan in 1924. Nativism and anti-Catholicism, especially when directed towards immigrants, were cornerstones of the KKK's rhetoric, and Notre Dame was seen as a symbol of the threat posed by the Catholic Church. The Klan decided to have a week-long Klavern in South Bend. Clashes with the student body started on March 17, when students, aware of the anti-Catholic animosity, blocked the Klansmen from descending from their trains in the South Bend station and ripped the KKK clothes and regalia. On May 19 thousands of students massed downtown protesting the Klavern, and only the arrival of college president Fr. Matthew Walsh prevented any further clashes. The next day, football coach Knute Rockne spoke at a campus rally and implored the students to obey the college president and refrain from further violence. A few days later the Klavern broke up, but the hostility shown by the students was an omen and a contribution to the downfall of the KKK in Indiana.\",\n",
              "   'qas': [{'answers': [{'answer_start': 297,\n",
              "       'text': 'the Protestant establishment'}],\n",
              "     'id': '573388ce4776f41900660cc3',\n",
              "     'question': 'Catholic people identified with Notre Dame, what religious group did people feel Yale represented?'},\n",
              "    {'answers': [{'answer_start': 571, 'text': 'the Ku Klux Klan'}],\n",
              "     'id': '573388ce4776f41900660cc4',\n",
              "     'question': 'Notre Dame students had a showdown in 1924 with which anti-catholic group?'},\n",
              "    {'answers': [{'answer_start': 1193, 'text': 'Fr. Matthew Walsh'}],\n",
              "     'id': '573388ce4776f41900660cc7',\n",
              "     'question': 'Which college president of Notre Dame is credited with preventing more confrontations between students and the KKK?'},\n",
              "    {'answers': [{'answer_start': 819, 'text': 'a week-long Klavern'}],\n",
              "     'id': '573388ce4776f41900660cc5',\n",
              "     'question': 'What type of event did the Klan intend to have at Notre Dame in March of 1924?'},\n",
              "    {'answers': [{'answer_start': 842, 'text': 'South Bend'}],\n",
              "     'id': '573388ce4776f41900660cc6',\n",
              "     'question': 'Where did Notre Dame students and the KKK have their encounter?'}]},\n",
              "  {'context': 'Holy Cross Father John Francis O\\'Hara was elected vice-president in 1933 and president of Notre Dame in 1934. During his tenure at Notre Dame, he brought numerous refugee intellectuals to campus; he selected Frank H. Spearman, Jeremiah D. M. Ford, Irvin Abell, and Josephine Brownson for the Laetare Medal, instituted in 1883. O\\'Hara strongly believed that the Fighting Irish football team could be an effective means to \"acquaint the public with the ideals that dominate\" Notre Dame. He wrote, \"Notre Dame football is a spiritual service because it is played for the honor and glory of God and of his Blessed Mother. When St. Paul said: \\'Whether you eat or drink, or whatsoever else you do, do all for the glory of God,\\' he included football.\"',\n",
              "   'qas': [{'answers': [{'answer_start': 11,\n",
              "       'text': \"Father John Francis O'Hara\"}],\n",
              "     'id': '57338a51d058e614000b5cf0',\n",
              "     'question': 'Which person became vice-president of Notre Dame in 1933?'},\n",
              "    {'answers': [{'answer_start': 11, 'text': \"Father John Francis O'Hara\"}],\n",
              "     'id': '57338a51d058e614000b5cf1',\n",
              "     'question': 'Who was the president of Notre Dame in 1934?'},\n",
              "    {'answers': [{'answer_start': 292, 'text': 'Laetare Medal'}],\n",
              "     'id': '57338a51d058e614000b5cf2',\n",
              "     'question': 'Irvin Abell was given what award by Notre Dame?'},\n",
              "    {'answers': [{'answer_start': 321, 'text': '1883'}],\n",
              "     'id': '57338a51d058e614000b5cf3',\n",
              "     'question': 'Which year was the Laetare Medal first given out at Notre Dame?'},\n",
              "    {'answers': [{'answer_start': 587, 'text': 'God'}],\n",
              "     'id': '57338a51d058e614000b5cf4',\n",
              "     'question': \"For whos glory did Father O'Hara believed that the Notre Dame football team played?\"}]},\n",
              "  {'context': \"The Rev. John J. Cavanaugh, C.S.C. served as president from 1946 to 1952. Cavanaugh's legacy at Notre Dame in the post-war years was devoted to raising academic standards and reshaping the university administration to suit it to an enlarged educational mission and an expanded student body and stressing advanced studies and research at a time when Notre Dame quadrupled in student census, undergraduate enrollment increased by more than half, and graduate student enrollment grew fivefold. Cavanaugh also established the Lobund Institute for Animal Studies and Notre Dame's Medieval Institute. Cavanaugh also presided over the construction of the Nieuwland Science Hall, Fisher Hall, and the Morris Inn, as well as the Hall of Liberal Arts (now O'Shaughnessy Hall), made possible by a donation from I.A. O'Shaughnessy, at the time the largest ever made to an American Catholic university. Cavanaugh also established a system of advisory councils at the university, which continue today and are vital to the university's governance and development\",\n",
              "   'qas': [{'answers': [{'answer_start': 428, 'text': 'more than half'}],\n",
              "     'id': '5733926d4776f41900660d8e',\n",
              "     'question': 'Around the time that Rev. Cavanaugh became president of Notre Dame by how much did the undergrad student body of Notre Dame increase?'},\n",
              "    {'answers': [{'answer_start': 522,\n",
              "       'text': 'Lobund Institute for Animal Studies'}],\n",
              "     'id': '5733926d4776f41900660d8f',\n",
              "     'question': 'Which institute involving animal life did Cavanaugh create at Notre Dame?'},\n",
              "    {'answers': [{'answer_start': 720, 'text': 'Hall of Liberal Arts'}],\n",
              "     'id': '5733926d4776f41900660d91',\n",
              "     'question': \"What is O'Shaughnessy Hall of Notre Dame formerly known as?\"},\n",
              "    {'answers': [{'answer_start': 4,\n",
              "       'text': 'Rev. John J. Cavanaugh, C.S.C.'}],\n",
              "     'id': '5733926d4776f41900660d8d',\n",
              "     'question': 'Which president did Notre Dame have in 1947?'},\n",
              "    {'answers': [{'answer_start': 575, 'text': 'Medieval Institute'}],\n",
              "     'id': '5733926d4776f41900660d90',\n",
              "     'question': 'Outside of an institute studying animals, what other institute did Cavanugh create at Notre Dame?'}]},\n",
              "  {'context': 'The Rev. Theodore Hesburgh, C.S.C., (1917–2015) served as president for 35 years (1952–87) of dramatic transformations. In that time the annual operating budget rose by a factor of 18 from $9.7 million to $176.6 million, and the endowment by a factor of 40 from $9 million to $350 million, and research funding by a factor of 20 from $735,000 to $15 million. Enrollment nearly doubled from 4,979 to 9,600, faculty more than doubled 389 to 950, and degrees awarded annually doubled from 1,212 to 2,500.',\n",
              "   'qas': [{'answers': [{'answer_start': 37, 'text': '1917–2015'}],\n",
              "     'id': '573393184776f41900660da6',\n",
              "     'question': 'What was the lifespan of Theodore Hesburgh?'},\n",
              "    {'answers': [{'answer_start': 181, 'text': '18'}],\n",
              "     'id': '573393184776f41900660da8',\n",
              "     'question': 'In the time that Hesburgh was president of Notre Dame by what factor did the operating budget increase?'},\n",
              "    {'answers': [{'answer_start': 262, 'text': '$9 million'}],\n",
              "     'id': '573393184776f41900660da9',\n",
              "     'question': 'What was the size of the Notre Dame endowment when Theodore Hesburgh became president?'},\n",
              "    {'answers': [{'answer_start': 82, 'text': '1952–87'}],\n",
              "     'id': '573393184776f41900660da7',\n",
              "     'question': 'During what years was Theodor Hesburgh president of Notre Dame?'},\n",
              "    {'answers': [{'answer_start': 439, 'text': '950'}],\n",
              "     'id': '573393184776f41900660daa',\n",
              "     'question': 'How many faculty members were at Notre Dame when Hesburgh left the role of president?'}]},\n",
              "  {'context': 'Hesburgh is also credited with transforming the face of Notre Dame by making it a coeducational institution. In the mid-1960s Notre Dame and Saint Mary\\'s College developed a co-exchange program whereby several hundred students took classes not offered at their home institution, an arrangement that added undergraduate women to a campus that already had a few women in the graduate schools. After extensive debate, merging with St. Mary\\'s was rejected, primarily because of the differential in faculty qualifications and pay scales. \"In American college education,\" explained the Rev. Charles E. Sheedy, C.S.C., Notre Dame\\'s Dean of Arts and Letters, \"certain features formerly considered advantageous and enviable are now seen as anachronistic and out of place.... In this environment of diversity, the integration of the sexes is a normal and expected aspect, replacing separatism.\" Thomas Blantz, C.S.C., Notre Dame\\'s Vice President of Student Affairs, added that coeducation \"opened up a whole other pool of very bright students.\" Two of the male residence halls were converted for the newly admitted female students that first year, while two others were converted for the next school year. In 1971 Mary Ann Proctor became the first female undergraduate; she transferred from St. Mary\\'s College. In 1972 the first woman to graduate was Angela Sienko, who earned a bachelor\\'s degree in marketing.',\n",
              "   'qas': [{'answers': [{'answer_start': 82, 'text': 'coeducational'}],\n",
              "     'id': '573393e1d058e614000b5dc2',\n",
              "     'question': 'What type of educational institute is Hesburgh given credit for creating at Notre Dame?'},\n",
              "    {'answers': [{'answer_start': 625, 'text': 'Dean of Arts and Letters'}],\n",
              "     'id': '573393e1d058e614000b5dc4',\n",
              "     'question': 'Which role did Charles Sheedy have at Notre Dame?'},\n",
              "    {'answers': [{'answer_start': 921,\n",
              "       'text': 'Vice President of Student Affairs'}],\n",
              "     'id': '573393e1d058e614000b5dc5',\n",
              "     'question': 'What title did Thomas Blantz have at Notre Dame?'},\n",
              "    {'answers': [{'answer_start': 1199, 'text': '1971'}],\n",
              "     'id': '573393e1d058e614000b5dc6',\n",
              "     'question': 'In what year did Notre Dame have its earliest undergraduate that was female?'},\n",
              "    {'answers': [{'answer_start': 141, 'text': \"Saint Mary's College\"}],\n",
              "     'id': '573393e1d058e614000b5dc3',\n",
              "     'question': 'With what institute did Notre Dame agree to an exchange program in the 1960s?'}]},\n",
              "  {'context': \"In the 18 years under the presidency of Edward Malloy, C.S.C., (1987–2005), there was a rapid growth in the school's reputation, faculty, and resources. He increased the faculty by more than 500 professors; the academic quality of the student body has improved dramatically, with the average SAT score rising from 1240 to 1360; the number of minority students more than doubled; the endowment grew from $350 million to more than $3 billion; the annual operating budget rose from $177 million to more than $650 million; and annual research funding improved from $15 million to more than $70 million. Notre Dame's most recent[when?] capital campaign raised $1.1 billion, far exceeding its goal of $767 million, and is the largest in the history of Catholic higher education.\",\n",
              "   'qas': [{'answers': [{'answer_start': 64, 'text': '1987–2005'}],\n",
              "     'id': '573394c84776f41900660ddd',\n",
              "     'question': 'During what years was Edward Malloy president of Notre Dame?'},\n",
              "    {'answers': [{'answer_start': 314, 'text': '1240'}],\n",
              "     'id': '573394c84776f41900660ddf',\n",
              "     'question': 'What was the SAT score, on average, at Notre Dame when Edward Malloy became president?'},\n",
              "    {'answers': [{'answer_start': 403, 'text': '$350 million'}],\n",
              "     'id': '573394c84776f41900660de0',\n",
              "     'question': 'When Malloy became president of Notre Dame what was the size of the endowment?'},\n",
              "    {'answers': [{'answer_start': 576, 'text': 'more than $70 million'}],\n",
              "     'id': '573394c84776f41900660de1',\n",
              "     'question': 'When Malloy reached the end of his time as president how much annuals funding for research did Notre Dame have?'},\n",
              "    {'answers': [{'answer_start': 191, 'text': '500'}],\n",
              "     'id': '573394c84776f41900660dde',\n",
              "     'question': 'The amount of professors at Notre Dame increased by what amount under Malloy?'}]},\n",
              "  {'context': 'Since 2005, Notre Dame has been led by John I. Jenkins, C.S.C., the 17th president of the university. Jenkins took over the position from Malloy on July 1, 2005. In his inaugural address, Jenkins described his goals of making the university a leader in research that recognizes ethics and building the connection between faith and studies. During his tenure, Notre Dame has increased its endowment, enlarged its student body, and undergone many construction projects on campus, including Compton Family Ice Arena, a new architecture hall, additional residence halls, and the Campus Crossroads, a $400m enhancement and expansion of Notre Dame Stadium.',\n",
              "   'qas': [{'answers': [{'answer_start': 6, 'text': '2005'}],\n",
              "     'id': '5733974d4776f41900660e17',\n",
              "     'question': 'When did John Jenkins become the president of Notre Dame?'},\n",
              "    {'answers': [{'answer_start': 68, 'text': '17th'}],\n",
              "     'id': '5733974d4776f41900660e18',\n",
              "     'question': 'In terms of the amount of presidents Notre Dame has had, where is John Jenkins on the list?'},\n",
              "    {'answers': [{'answer_start': 138, 'text': 'Malloy'}],\n",
              "     'id': '5733974d4776f41900660e19',\n",
              "     'question': 'Who was the Notre Dame president that preceded John Jenkins?'},\n",
              "    {'answers': [{'answer_start': 488, 'text': 'Compton Family Ice Arena'}],\n",
              "     'id': '5733974d4776f41900660e1a',\n",
              "     'question': 'Which arena was constructed under Jenkins at Notre Dame?'},\n",
              "    {'answers': [{'answer_start': 596, 'text': '$400m'}],\n",
              "     'id': '5733974d4776f41900660e1b',\n",
              "     'question': 'How much money was spent on enhancing Notre Dame Stadium under John Jenkins?'}]},\n",
              "  {'context': \"Because of its Catholic identity, a number of religious buildings stand on campus. The Old College building has become one of two seminaries on campus run by the Congregation of Holy Cross. The current Basilica of the Sacred Heart is located on the spot of Fr. Sorin's original church, which became too small for the growing college. It is built in French Revival style and it is decorated by stained glass windows imported directly from France. The interior was painted by Luigi Gregori, an Italian painter invited by Fr. Sorin to be artist in residence. The Basilica also features a bell tower with a carillon. Inside the church there are also sculptures by Ivan Mestrovic. The Grotto of Our Lady of Lourdes, which was built in 1896, is a replica of the original in Lourdes, France. It is very popular among students and alumni as a place of prayer and meditation, and it is considered one of the most beloved spots on campus.\",\n",
              "   'qas': [{'answers': [{'answer_start': 162,\n",
              "       'text': 'Congregation of Holy Cross'}],\n",
              "     'id': '573398164776f41900660e21',\n",
              "     'question': 'Which congregation is in charge of the Old College at Notre Dame?'},\n",
              "    {'answers': [{'answer_start': 202,\n",
              "       'text': 'Basilica of the Sacred Heart'}],\n",
              "     'id': '573398164776f41900660e22',\n",
              "     'question': 'What structure is found on the location of the original church of Father Sorin at Notre Dame?'},\n",
              "    {'answers': [{'answer_start': 349, 'text': 'French Revival'}],\n",
              "     'id': '573398164776f41900660e23',\n",
              "     'question': 'In which architectural style is the Basilica of the Sacred Heart at Notre Dame made?'},\n",
              "    {'answers': [{'answer_start': 474, 'text': 'Luigi Gregori'}],\n",
              "     'id': '573398164776f41900660e24',\n",
              "     'question': 'Which individual painted the inside of the Basilica of the Sacred Heart at Notre Dame?'},\n",
              "    {'answers': [{'answer_start': 730, 'text': '1896'}],\n",
              "     'id': '573398164776f41900660e25',\n",
              "     'question': 'In what year was the Grotto of Our Lady of Lourdes at Notre Dame constructed?'}]},\n",
              "  {'context': 'A Science Hall was built in 1883 under the direction of Fr. Zahm, but in 1950 it was converted to a student union building and named LaFortune Center, after Joseph LaFortune, an oil executive from Tulsa, Oklahoma. Commonly known as \"LaFortune\" or \"LaFun,\" it is a 4-story building of 83,000 square feet that provides the Notre Dame community with a meeting place for social, recreational, cultural, and educational activities. LaFortune employs 35 part-time student staff and 29 full-time non-student staff and has an annual budget of $1.2 million. Many businesses, services, and divisions of The Office of Student Affairs are found within. The building also houses restaurants from national restaurant chains.',\n",
              "   'qas': [{'answers': [{'answer_start': 56, 'text': 'Fr. Zahm'}],\n",
              "     'id': '573398ebd058e614000b5e66',\n",
              "     'question': 'Which person oversaw the creation of a science hall at Notre Dame in 1883?'},\n",
              "    {'answers': [{'answer_start': 73, 'text': '1950'}],\n",
              "     'id': '573398ebd058e614000b5e67',\n",
              "     'question': 'In what year did the student union building at Notre Dame get renamed to LaFortune Center?'},\n",
              "    {'answers': [{'answer_start': 157, 'text': 'Joseph LaFortune'}],\n",
              "     'id': '573398ebd058e614000b5e68',\n",
              "     'question': 'After which individual was the LaFortune Center Notre Dame named?'},\n",
              "    {'answers': [{'answer_start': 284, 'text': '83,000 square feet'}],\n",
              "     'id': '573398ebd058e614000b5e69',\n",
              "     'question': 'How large in square feet is the LaFortune Center at Notre Dame?'},\n",
              "    {'answers': [{'answer_start': 535, 'text': '$1.2 million'}],\n",
              "     'id': '573398ebd058e614000b5e6a',\n",
              "     'question': \"What is the annual budget of Notre Dame's LaFortune Center?\"}]},\n",
              "  {'context': \"Since the construction of its oldest buildings, the university's physical plant has grown substantially. Over the years 29 residence halls have been built to accommodate students and each has been constructed with its own chapel. Many academic building were added together with a system of libraries, the most prominent of which is the Theodore Hesburgh Library, built in 1963 and today containing almost 4 million books. Since 2004, several buildings have been added, including the DeBartolo Performing Arts Center, the Guglielmino Complex, and the Jordan Hall of Science. Additionally, a new residence for men, Duncan Hall, was begun on March 8, 2007, and began accepting residents for the Fall 2008 semester. Ryan Hall was completed and began housing undergraduate women in the fall of 2009. A new engineering building, Stinson-Remick Hall, a new combination Center for Social Concerns/Institute for Church Life building, Geddes Hall, and a law school addition have recently been completed as well. Additionally the new hockey arena opened in the fall of 2011. The Stayer Center for Executive Education, which houses the Mendoza College of Business Executive Education Department opened in March 2013 just South of the Mendoza College of Business building. Because of its long athletic tradition, the university features also many building dedicated to sport. The most famous is Notre Dame Stadium, home of the Fighting Irish football team; it has been renovated several times and today it can hold more than 80 thousand people. Prominent venues include also the Edmund P. Joyce Center, with indoor basketball and volleyball courts, and the Compton Family Ice Arena, a two-rink facility dedicated to hockey. Also, there are many outdoor fields, as the Frank Eck Stadium for baseball.\",\n",
              "   'qas': [{'answers': [{'answer_start': 120, 'text': '29'}],\n",
              "     'id': '57339a5bd058e614000b5e91',\n",
              "     'question': 'How many halls are at Notre Dame that house students?'},\n",
              "    {'answers': [{'answer_start': 336, 'text': 'Theodore Hesburgh Library'}],\n",
              "     'id': '57339a5bd058e614000b5e92',\n",
              "     'question': 'Which library was built at Notre Dame in 1963?'},\n",
              "    {'answers': [{'answer_start': 398, 'text': 'almost 4 million'}],\n",
              "     'id': '57339a5bd058e614000b5e93',\n",
              "     'question': 'How many books are housed at the Theodore Hesburgh Library?'},\n",
              "    {'answers': [{'answer_start': 613, 'text': 'Duncan Hall'}],\n",
              "     'id': '57339a5bd058e614000b5e94',\n",
              "     'question': 'Construction for which hall started on March 8th 2007 at Notre Dame?'},\n",
              "    {'answers': [{'answer_start': 1755, 'text': 'Frank Eck Stadium'}],\n",
              "     'id': '57339a5bd058e614000b5e95',\n",
              "     'question': 'Which baseball stadium is found at Notre Dame?'}]},\n",
              "  {'context': 'The University of Notre Dame has made being a sustainability leader an integral part of its mission, creating the Office of Sustainability in 2008 to achieve a number of goals in the areas of power generation, design and construction, waste reduction, procurement, food services, transportation, and water.As of 2012[update] four building construction projects were pursuing LEED-Certified status and three were pursuing LEED Silver. Notre Dame\\'s dining services sources 40% of its food locally and offers sustainably caught seafood as well as many organic, fair-trade, and vegan options. On the Sustainable Endowments Institute\\'s College Sustainability Report Card 2010, University of Notre Dame received a \"B\" grade. The university also houses the Kroc Institute for International Peace Studies. Father Gustavo Gutierrez, the founder of Liberation Theology is a current faculty member.',\n",
              "   'qas': [{'answers': [{'answer_start': 142, 'text': '2008'}],\n",
              "     'id': '57339b36d058e614000b5ea3',\n",
              "     'question': 'In what year did Notre Dame create the Office of Sustainability?'},\n",
              "    {'answers': [{'answer_start': 471, 'text': '40%'}],\n",
              "     'id': '57339b36d058e614000b5ea4',\n",
              "     'question': 'What percentage of the food served at Notre Dame is locally grown?'},\n",
              "    {'answers': [{'answer_start': 596,\n",
              "       'text': 'Sustainable Endowments Institute'}],\n",
              "     'id': '57339b36d058e614000b5ea5',\n",
              "     'question': 'Notre Dame got a \"B\" for its sustainability practices from which entity?'},\n",
              "    {'answers': [{'answer_start': 750,\n",
              "       'text': 'Kroc Institute for International Peace Studies'}],\n",
              "     'id': '57339b36d058e614000b5ea6',\n",
              "     'question': 'Gustavo Gutierrez is faculty of which institute?'}]},\n",
              "  {'context': 'The university owns several centers around the world used for international studies and research, conferences abroad, and alumni support. The university has had a presence in London, England, since 1968. Since 1998, its London center has been based in the former United University Club at 1 Suffolk Street in Trafalgar Square. The center enables the Colleges of Arts & Letters, Business Administration, Science, Engineering and the Law School to develop their own programs in London, as well as hosting conferences and symposia. Other Global Gateways are located in Beijing, Chicago, Dublin, Jerusalem and Rome.',\n",
              "   'qas': [{'answers': [{'answer_start': 198, 'text': '1968'}],\n",
              "     'id': '57339c184776f41900660ea5',\n",
              "     'question': 'In what year did Notre Dame first have a facility in England?'},\n",
              "    {'answers': [{'answer_start': 289,\n",
              "       'text': '1 Suffolk Street in Trafalgar Square'}],\n",
              "     'id': '57339c184776f41900660ea6',\n",
              "     'question': 'At which location is the London Center operated by Notre Dame found?'},\n",
              "    {'answers': [{'answer_start': 535, 'text': 'Global Gateways'}],\n",
              "     'id': '57339c184776f41900660ea7',\n",
              "     'question': 'Notre Dame has a center in Beijing, what is it referred to as?'},\n",
              "    {'answers': [{'answer_start': 210, 'text': '1998'}],\n",
              "     'id': '57339c184776f41900660ea8',\n",
              "     'question': 'In what year did the Suffolk Street location start to house a Notre Dame facility?'}]},\n",
              "  {'context': \"The College of Arts and Letters was established as the university's first college in 1842 with the first degrees given in 1849. The university's first academic curriculum was modeled after the Jesuit Ratio Studiorum from Saint Louis University. Today the college, housed in O'Shaughnessy Hall, includes 20 departments in the areas of fine arts, humanities, and social sciences, and awards Bachelor of Arts (B.A.) degrees in 33 majors, making it the largest of the university's colleges. There are around 2,500 undergraduates and 750 graduates enrolled in the college.\",\n",
              "   'qas': [{'answers': [{'answer_start': 0,\n",
              "       'text': 'The College of Arts and Letters'}],\n",
              "     'id': '5733a3cbd058e614000b5f3f',\n",
              "     'question': \"What was Notre Dame's first college?\"},\n",
              "    {'answers': [{'answer_start': 85, 'text': '1842'}],\n",
              "     'id': '5733a3cbd058e614000b5f40',\n",
              "     'question': 'In what year was the The College of Arts and Letters at Notre Dame created?'},\n",
              "    {'answers': [{'answer_start': 122, 'text': '1849'}],\n",
              "     'id': '5733a3cbd058e614000b5f41',\n",
              "     'question': 'In what year did the College of Arts and Letters at Notre Dame grant its first degree?'},\n",
              "    {'answers': [{'answer_start': 221, 'text': 'Saint Louis University'}],\n",
              "     'id': '5733a3cbd058e614000b5f42',\n",
              "     'question': 'On which university did Notre Dame base its curriculum on?'},\n",
              "    {'answers': [{'answer_start': 424, 'text': '33'}],\n",
              "     'id': '5733a3cbd058e614000b5f43',\n",
              "     'question': 'How many BA majors does the College of Arts and Letters at Notre Dame offer?'}]},\n",
              "  {'context': \"The College of Science was established at the university in 1865 by president Father Patrick Dillon. Dillon's scientific courses were six years of work, including higher-level mathematics courses. Today the college, housed in the newly built Jordan Hall of Science, includes over 1,200 undergraduates in six departments of study – biology, chemistry, mathematics, physics, pre-professional studies, and applied and computational mathematics and statistics (ACMS) – each awarding Bachelor of Science (B.S.) degrees. According to university statistics, its science pre-professional program has one of the highest acceptance rates to medical school of any university in the United States.\",\n",
              "   'qas': [{'answers': [{'answer_start': 78, 'text': 'Father Patrick Dillon'}],\n",
              "     'id': '5733a4c54776f41900660f2d',\n",
              "     'question': 'Which president at Notre Dame created the College of Science?'},\n",
              "    {'answers': [{'answer_start': 60, 'text': '1865'}],\n",
              "     'id': '5733a4c54776f41900660f2e',\n",
              "     'question': 'In what year was the Notre Dame College of Science formed?'},\n",
              "    {'answers': [{'answer_start': 134, 'text': 'six years'}],\n",
              "     'id': '5733a4c54776f41900660f2f',\n",
              "     'question': 'How many years long was a scientific course under Patrick Dillon at Notre Dame?'},\n",
              "    {'answers': [{'answer_start': 242, 'text': 'Jordan Hall of Science'}],\n",
              "     'id': '5733a4c54776f41900660f30',\n",
              "     'question': 'Which hall at Notre Dame contains the current College of Science?'},\n",
              "    {'answers': [{'answer_start': 275, 'text': 'over 1,200'}],\n",
              "     'id': '5733a4c54776f41900660f31',\n",
              "     'question': 'How many undergrad students attend the College of Science at Notre Dame today?'}]},\n",
              "  {'context': 'The School of Architecture was established in 1899, although degrees in architecture were first awarded by the university in 1898. Today the school, housed in Bond Hall, offers a five-year undergraduate program leading to the Bachelor of Architecture degree. All undergraduate students study the third year of the program in Rome. The university is globally recognized for its Notre Dame School of Architecture, a faculty that teaches (pre-modernist) traditional and classical architecture and urban planning (e.g. following the principles of New Urbanism and New Classical Architecture). It also awards the renowned annual Driehaus Architecture Prize.',\n",
              "   'qas': [{'answers': [{'answer_start': 4, 'text': 'School of Architecture'}],\n",
              "     'id': '5733a55a4776f41900660f3a',\n",
              "     'question': 'In 1899 Notre Dame formed which college?'},\n",
              "    {'answers': [{'answer_start': 159, 'text': 'Bond Hall'}],\n",
              "     'id': '5733a55a4776f41900660f3b',\n",
              "     'question': 'In what building is the current School of Architecture housed at Notre Dame?'},\n",
              "    {'answers': [{'answer_start': 179, 'text': 'five-year'}],\n",
              "     'id': '5733a55a4776f41900660f3c',\n",
              "     'question': 'What length is the course of study at the Notre Dame School of Architecture?'},\n",
              "    {'answers': [{'answer_start': 325, 'text': 'Rome'}],\n",
              "     'id': '5733a55a4776f41900660f3d',\n",
              "     'question': 'In which location do students of the School of Architecture of Notre Dame spend their 3rd year?'},\n",
              "    {'answers': [{'answer_start': 624, 'text': 'Driehaus Architecture Prize'}],\n",
              "     'id': '5733a55a4776f41900660f3e',\n",
              "     'question': 'Which prestigious prize does the School of Architecture at Notre Dame give out?'}]},\n",
              "  {'context': \"The library system also includes branch libraries for Architecture, Chemistry & Physics, Engineering, Law, and Mathematics as well as information centers in the Mendoza College of Business, the Kellogg Institute for International Studies, the Joan B. Kroc Institute for International Peace Studies, and a slide library in O'Shaughnessy Hall. A theology library was also opened in fall of 2015. Located on the first floor of Stanford Hall, it is the first branch of the library system to be housed in a dorm room. The library system holds over three million volumes, was the single largest university library in the world upon its completion, and remains one of the 100 largest libraries in the country.\",\n",
              "   'qas': [{'answers': [{'answer_start': 388, 'text': '2015'}],\n",
              "     'id': '5733adb64776f41900661001',\n",
              "     'question': 'In what year did the opening of a theology library at Notre Dame occur?'},\n",
              "    {'answers': [{'answer_start': 405,\n",
              "       'text': 'the first floor of Stanford Hall'}],\n",
              "     'id': '5733adb64776f41900661002',\n",
              "     'question': 'Where is the theology library at Notre Dame?'},\n",
              "    {'answers': [{'answer_start': 538, 'text': 'over three million volumes'}],\n",
              "     'id': '5733adb64776f41900661003',\n",
              "     'question': 'How many books are held by the Notre Dame libraries?'},\n",
              "    {'answers': [{'answer_start': 654, 'text': 'one of the 100 largest'}],\n",
              "     'id': '5733adb64776f41900661004',\n",
              "     'question': \"Currently where does Notre Dame's library rank in the nation?\"}]},\n",
              "  {'context': \"The rise of Hitler and other dictators in the 1930s forced numerous Catholic intellectuals to flee Europe; president John O'Hara brought many to Notre Dame. From Germany came Anton-Hermann Chroust (1907–1982) in classics and law, and Waldemar Gurian a German Catholic intellectual of Jewish descent. Positivism dominated American intellectual life in the 1920s onward but in marked contrast, Gurian received a German Catholic education and wrote his doctoral dissertation under Max Scheler. Ivan Meštrović (1883–1962), a renowned sculptor, brought Croatian culture to campus, 1955–62. Yves Simon (1903–61), brought to ND in the 1940s the insights of French studies in the Aristotelian-Thomistic tradition of philosophy; his own teacher Jacques Maritain (1882–73) was a frequent visitor to campus.\",\n",
              "   'qas': [{'answers': [{'answer_start': 0,\n",
              "       'text': 'The rise of Hitler and other dictators'}],\n",
              "     'id': '5733b496d058e614000b60ce',\n",
              "     'question': 'What caused many intellectual Catholics to leave europe in the 1930s?'},\n",
              "    {'answers': [{'answer_start': 162, 'text': 'Germany'}],\n",
              "     'id': '5733b496d058e614000b60cf',\n",
              "     'question': 'From where did Anton-Hermann Chroust come to reach Notre Dame?'},\n",
              "    {'answers': [{'answer_start': 212, 'text': 'classics and law'}],\n",
              "     'id': '5733b496d058e614000b60d0',\n",
              "     'question': 'What field of study did Anton-Hermann Chroust specialize in?'},\n",
              "    {'answers': [{'answer_start': 478, 'text': 'Max Scheler'}],\n",
              "     'id': '5733b496d058e614000b60d1',\n",
              "     'question': 'Who did Waldemar Gurian receive his tutelage under while seeking his doctorate?'},\n",
              "    {'answers': [{'answer_start': 519, 'text': 'a renowned sculptor'}],\n",
              "     'id': '5733b496d058e614000b60d2',\n",
              "     'question': 'What was Ivan Meštrović known for being?'}]},\n",
              "  {'context': 'The University of Notre Dame du Lac (or simply Notre Dame /ˌnoʊtərˈdeɪm/ NOH-tər-DAYM) is a Catholic research university located adjacent to South Bend, Indiana, in the United States. In French, Notre Dame du Lac means \"Our Lady of the Lake\" and refers to the university\\'s patron saint, the Virgin Mary. The main campus covers 1,250 acres in a suburban setting and it contains a number of recognizable landmarks, such as the Golden Dome, the \"Word of Life\" mural (commonly known as Touchdown Jesus), and the Basilica.',\n",
              "   'qas': [{'answers': [{'answer_start': 4,\n",
              "       'text': 'University of Notre Dame du'}],\n",
              "     'id': '573382a14776f41900660c2d',\n",
              "     'question': 'The school known as Notre Dame is known by a more lengthy name, what is it?'},\n",
              "    {'answers': [{'answer_start': 92, 'text': 'Catholic research university'}],\n",
              "     'id': '573382a14776f41900660c2e',\n",
              "     'question': 'What type of institution is the Notre Dame?'},\n",
              "    {'answers': [{'answer_start': 220, 'text': 'Our Lady of the Lake'}],\n",
              "     'id': '573382a14776f41900660c2f',\n",
              "     'question': 'The French words Notre Dame du Lac translate to what in English?'},\n",
              "    {'answers': [{'answer_start': 287, 'text': 'the Virgin Mary'}],\n",
              "     'id': '573382a14776f41900660c30',\n",
              "     'question': 'Who is the patron saint of Notre Dame?'},\n",
              "    {'answers': [{'answer_start': 327, 'text': '1,250'}],\n",
              "     'id': '573382a14776f41900660c31',\n",
              "     'question': 'How large is Notre Dame in acres?'}]},\n",
              "  {'context': \"Notre Dame rose to national prominence in the early 1900s for its Fighting Irish football team, especially under the guidance of the legendary coach Knute Rockne. The university's athletic teams are members of the NCAA Division I and are known collectively as the Fighting Irish. The football team, an Independent, has accumulated eleven consensus national championships, seven Heisman Trophy winners, 62 members in the College Football Hall of Fame and 13 members in the Pro Football Hall of Fame and is considered one of the most famed and successful college football teams in history. Other ND teams, chiefly in the Atlantic Coast Conference, have accumulated 16 national championships. The Notre Dame Victory March is often regarded as the most famous and recognizable collegiate fight song.\",\n",
              "   'qas': [{'answers': [{'answer_start': 62,\n",
              "       'text': 'its Fighting Irish football team'}],\n",
              "     'id': '573383494776f41900660c41',\n",
              "     'question': 'What caused Notre Dame to become notable in the early 20th century?'},\n",
              "    {'answers': [{'answer_start': 149, 'text': 'Knute Rockne'}],\n",
              "     'id': '573383494776f41900660c42',\n",
              "     'question': 'Which 20th century Notre Dame football coach is most notable?'},\n",
              "    {'answers': [{'answer_start': 214, 'text': 'NCAA Division I'}],\n",
              "     'id': '573383494776f41900660c43',\n",
              "     'question': 'Which athletic association are the student athletes at Notre Dame a part of?'},\n",
              "    {'answers': [{'answer_start': 372, 'text': 'seven'}],\n",
              "     'id': '573383494776f41900660c44',\n",
              "     'question': 'How many students at Notre Dame received the Heisman Trophy?'},\n",
              "    {'answers': [{'answer_start': 454, 'text': '13'}],\n",
              "     'id': '573383494776f41900660c45',\n",
              "     'question': 'There were multiple students from Notre Dame who entered the Pro Football Hall of Fame, how many?'}]},\n",
              "  {'context': \"Besides its prominence in sports, Notre Dame is also a large, four-year, highly residential research University, and is consistently ranked among the top twenty universities in the United States  and as a major global university. The undergraduate component of the university is organized into four colleges (Arts and Letters, Science, Engineering, Business) and the Architecture School. The latter is known for teaching New Classical Architecture and for awarding the globally renowned annual Driehaus Architecture Prize. Notre Dame's graduate program has more than 50 master's, doctoral and professional degree programs offered by the five schools, with the addition of the Notre Dame Law School and a MD-PhD program offered in combination with IU medical School. It maintains a system of libraries, cultural venues, artistic and scientific museums, including Hesburgh Library and the Snite Museum of Art. Over 80% of the university's 8,000 undergraduates live on campus in one of 29 single-sex residence halls, each with its own traditions, legacies, events and intramural sports teams. The university counts approximately 120,000 alumni, considered among the strongest alumni networks among U.S. colleges.\",\n",
              "   'qas': [{'answers': [{'answer_start': 140, 'text': 'among the top twenty'}],\n",
              "     'id': '573383e94776f41900660c5a',\n",
              "     'question': 'Where among US universities does Notre Dame rank?'},\n",
              "    {'answers': [{'answer_start': 294, 'text': 'four'}],\n",
              "     'id': '573383e94776f41900660c5b',\n",
              "     'question': 'How many individual colleges are part of Notre Dame?'},\n",
              "    {'answers': [{'answer_start': 494, 'text': 'Driehaus Architecture Prize'}],\n",
              "     'id': '573383e94776f41900660c5c',\n",
              "     'question': 'Which prize does the Architecture School at Notre Dame give out?'},\n",
              "    {'answers': [{'answer_start': 557, 'text': 'more than 50'}],\n",
              "     'id': '573383e94776f41900660c5d',\n",
              "     'question': 'How many doctorate and masters programs are available at Notre Dame?'},\n",
              "    {'answers': [{'answer_start': 887, 'text': 'Snite Museum of Art'}],\n",
              "     'id': '573383e94776f41900660c5e',\n",
              "     'question': 'Which art museum does Notre Dame administer?'}]},\n",
              "  {'context': \"In 1842, the Bishop of Vincennes, Célestine Guynemer de la Hailandière, offered land to Father Edward Sorin of the Congregation of the Holy Cross, on the condition that he build a college in two years. Fr. Sorin arrived on the site with eight Holy Cross brothers from France and Ireland on November 26, 1842, and began the school using Father Stephen Badin's old log chapel. He soon erected additional buildings, including Old College, the first church, and the first main building. They immediately acquired two students and set about building additions to the campus.\",\n",
              "   'qas': [{'answers': [{'answer_start': 3, 'text': '1842'}],\n",
              "     'id': '5733849bd058e614000b5c56',\n",
              "     'question': 'In what year was Father Edward Sorin given two years to create a college?'},\n",
              "    {'answers': [{'answer_start': 34,\n",
              "       'text': 'Célestine Guynemer de la Hailandière'}],\n",
              "     'id': '5733849bd058e614000b5c57',\n",
              "     'question': 'Which individual offered land to Father Edward Sorin?'},\n",
              "    {'answers': [{'answer_start': 111,\n",
              "       'text': 'the Congregation of the Holy Cross'}],\n",
              "     'id': '5733849bd058e614000b5c58',\n",
              "     'question': 'Which church was Father Edward Sorin representing?'},\n",
              "    {'answers': [{'answer_start': 290, 'text': 'November 26, 1842'}],\n",
              "     'id': '5733849bd058e614000b5c59',\n",
              "     'question': 'On what date did brothers from Holy Cross arrive at the future location of Notre Dame?'},\n",
              "    {'answers': [{'answer_start': 336,\n",
              "       'text': \"Father Stephen Badin's old log chapel\"}],\n",
              "     'id': '5733849bd058e614000b5c5a',\n",
              "     'question': 'Which structure was the first used for the purposes of the college?'}]},\n",
              "  {'context': 'The first degrees from the college were awarded in 1849. The university was expanded with new buildings to accommodate more students and faculty. With each new president, new academic programs were offered and new buildings built to accommodate them. The original Main Building built by Sorin just after he arrived was replaced by a larger \"Main Building\" in 1865, which housed the university\\'s administration, classrooms, and dormitories. Beginning in 1873, a library collection was started by Father Lemonnier. By 1879 it had grown to ten thousand volumes that were housed in the Main Building.',\n",
              "   'qas': [{'answers': [{'answer_start': 51, 'text': '1849'}],\n",
              "     'id': '573385394776f41900660c7f',\n",
              "     'question': 'In what year did the initial degrees get handed out at Notre Dame?'},\n",
              "    {'answers': [{'answer_start': 359, 'text': '1865'}],\n",
              "     'id': '573385394776f41900660c80',\n",
              "     'question': 'In what year did the original Sorin built Main Building get replaced?'},\n",
              "    {'answers': [{'answer_start': 495, 'text': 'Father Lemonnier'}],\n",
              "     'id': '573385394776f41900660c81',\n",
              "     'question': 'Which individual began a library at Notre Dame?'},\n",
              "    {'answers': [{'answer_start': 516, 'text': '1879'}],\n",
              "     'id': '573385394776f41900660c82',\n",
              "     'question': 'In what year had the library at Notre Dame reach 10,000 books?'},\n",
              "    {'answers': [{'answer_start': 453, 'text': '1873'}],\n",
              "     'id': '573385394776f41900660c83',\n",
              "     'question': 'In what year was the library at Notre Dame started?'}]},\n",
              "  {'context': 'The television station, NDtv, grew from one show in 2002 to a full 24-hour channel with original programming by September 2006. WSND-FM serves the student body and larger South Bend community at 88.9 FM, offering students a chance to become involved in bringing classical music, fine arts and educational programming, and alternative rock to the airwaves. Another radio station, WVFI, began as a partner of WSND-FM. More recently, however, WVFI has been airing independently and is streamed on the Internet.',\n",
              "   'qas': [{'answers': [{'answer_start': 24, 'text': 'NDtv'}],\n",
              "     'id': '5733c0064776f41900661198',\n",
              "     'question': 'Which television station finds its home at Notre Dame?'},\n",
              "    {'answers': [{'answer_start': 40, 'text': 'one show'}],\n",
              "     'id': '5733c0064776f41900661199',\n",
              "     'question': 'How many programs did NDtv feature in 2002?'},\n",
              "    {'answers': [{'answer_start': 128, 'text': 'WSND-FM'}],\n",
              "     'id': '5733c0064776f4190066119a',\n",
              "     'question': 'Which radio station provides radio to the students of Notre Dame at 88.9 FM?'},\n",
              "    {'answers': [{'answer_start': 440, 'text': 'WVFI'}],\n",
              "     'id': '5733c0064776f4190066119b',\n",
              "     'question': 'Which internet radio station of Notre Dame is served as an internet stream?'}]},\n",
              "  {'context': 'The first phase of Eddy Street Commons, a $215 million development located adjacent to the University of Notre Dame campus and funded by the university, broke ground on June 3, 2008. The Eddy Street Commons drew union protests when workers hired by the City of South Bend to construct the public parking garage picketed the private work site after a contractor hired non-union workers. The developer, Kite Realty out of Indianapolis, has made agreements with major national chains rather than local businesses, a move that has led to criticism from alumni and students.',\n",
              "   'qas': [{'answers': [{'answer_start': 42, 'text': '$215 million'}],\n",
              "     'id': '5733c0e6d058e614000b61d7',\n",
              "     'question': 'How much is Eddy Street Commons at Notre Dame expected to cost?'},\n",
              "    {'answers': [{'answer_start': 169, 'text': 'June 3, 2008'}],\n",
              "     'id': '5733c0e6d058e614000b61d8',\n",
              "     'question': 'When was ground broke on the Eddy Street Commons Project of Notre Dame?'},\n",
              "    {'answers': [{'answer_start': 401, 'text': 'Kite Realty'}],\n",
              "     'id': '5733c0e6d058e614000b61d9',\n",
              "     'question': 'Who is the developer of Eddy Street Commons?'},\n",
              "    {'answers': [{'answer_start': 249, 'text': 'the City of South Bend'}],\n",
              "     'id': '5733c0e6d058e614000b61da',\n",
              "     'question': 'Which entity did Notre Dame hire to build a parking structure outside of Eddy Street Commons?'},\n",
              "    {'answers': [{'answer_start': 367, 'text': 'non-union workers'}],\n",
              "     'id': '5733c0e6d058e614000b61db',\n",
              "     'question': 'There were protested as a part of the construction at Eddy Street Commons, they came due tot he hiring of whom?'}]},\n",
              "  {'context': \"Notre Dame teams are known as the Fighting Irish. They compete as a member of the National Collegiate Athletic Association (NCAA) Division I, primarily competing in the Atlantic Coast Conference (ACC) for all sports since the 2013–14 school year. The Fighting Irish previously competed in the Horizon League from 1982-83 to 1985-86, and again from 1987-88 to 1994-95, and then in the Big East Conference through 2012–13. Men's sports include baseball, basketball, crew, cross country, fencing, football, golf, ice hockey, lacrosse, soccer, swimming & diving, tennis and track & field; while women's sports include basketball, cross country, fencing, golf, lacrosse, rowing, soccer, softball, swimming & diving, tennis, track & field and volleyball. The football team competes as an Football Bowl Subdivision (FBS) Independent since its inception in 1887. Both fencing teams compete in the Midwest Fencing Conference, and the men's ice hockey team competes in Hockey East.\",\n",
              "   'qas': [{'answers': [{'answer_start': 82,\n",
              "       'text': 'National Collegiate Athletic Association'}],\n",
              "     'id': '5733c1a94776f419006611a6',\n",
              "     'question': 'What does the acronym NCAA stand for?'},\n",
              "    {'answers': [{'answer_start': 293, 'text': 'Horizon League'}],\n",
              "     'id': '5733c1a94776f419006611a7',\n",
              "     'question': 'Which league did Notre Dame Fighting Irish teams participate in in 1982?'},\n",
              "    {'answers': [{'answer_start': 889, 'text': 'Midwest Fencing Conference'}],\n",
              "     'id': '5733c1a94776f419006611a8',\n",
              "     'question': 'What when conference do the Notre Dame fencing teams take part in?'},\n",
              "    {'answers': [{'answer_start': 959, 'text': 'Hockey East'}],\n",
              "     'id': '5733c1a94776f419006611a9',\n",
              "     'question': 'There is a conference that the male hockey team of Notre Dame competes in, what is it?'},\n",
              "    {'answers': [{'answer_start': 384, 'text': 'Big East Conference'}],\n",
              "     'id': '5733c1a94776f419006611aa',\n",
              "     'question': 'In what conference did the Fighting Irish take part in in 2012?'}]},\n",
              "  {'context': \"Notre Dame's conference affiliations for all of its sports except football and fencing changed in July 2013 as a result of major conference realignment, and its fencing affiliation will change in July 2014. The Irish left the Big East for the ACC during a prolonged period of instability in the Big East; while they maintain their football independence, they have committed to play five games per season against ACC opponents. In ice hockey, the Irish were forced to find a new conference home after the Big Ten Conference's decision to add the sport in 2013–14 led to a cascade of conference moves that culminated in the dissolution of the school's former hockey home, the Central Collegiate Hockey Association, after the 2012–13 season. Notre Dame moved its hockey team to Hockey East. After Notre Dame joined the ACC, the conference announced it would add fencing as a sponsored sport beginning in the 2014–15 school year. There are many theories behind the adoption of the athletics moniker but it is known that the Fighting Irish name was used in the early 1920s with respect to the football team and was popularized by alumnus Francis Wallace in his New York Daily News columns. The official colors of Notre Dame are Navy Blue and Gold Rush which are worn in competition by its athletic teams. In addition, the color green is often worn because of the Fighting Irish nickname. The Notre Dame Leprechaun is the mascot of the athletic teams. Created by Theodore W. Drake in 1964, the leprechaun was first used on the football pocket schedule and later on the football program covers. The leprechaun was featured on the cover of Time in November 1964 and gained national exposure.\",\n",
              "   'qas': [{'answers': [{'answer_start': 239, 'text': 'the ACC'}],\n",
              "     'id': '5733c29c4776f419006611b8',\n",
              "     'question': 'To what conference did the Fighting Irish go after the Big East?'},\n",
              "    {'answers': [{'answer_start': 382, 'text': 'five'}],\n",
              "     'id': '5733c29c4776f419006611b9',\n",
              "     'question': 'How many teams in each season do the Fighting Irish commit to play against ACC opponents?'},\n",
              "    {'answers': [{'answer_start': 674,\n",
              "       'text': 'Central Collegiate Hockey Association'}],\n",
              "     'id': '5733c29c4776f419006611ba',\n",
              "     'question': 'Where did the Fighting Irish hockey team compete prior to a move to Hockey East, in terms of conference?'},\n",
              "    {'answers': [{'answer_start': 1223, 'text': 'Navy Blue and Gold Rush'}],\n",
              "     'id': '5733c29c4776f419006611bb',\n",
              "     'question': 'What colors are the official ones used by Notre Dame in sport competition?'},\n",
              "    {'answers': [{'answer_start': 1398, 'text': 'Leprechaun'}],\n",
              "     'id': '5733c29c4776f419006611bc',\n",
              "     'question': 'What type of mascot do the Notre Dame sport teams have?'}]},\n",
              "  {'context': 'On July 1, 2014, the University of Notre Dame and Under Armour reached an agreement in which Under Armour will provide uniforms, apparel,equipment, and monetary compensation to Notre Dame for 10 years. This contract, worth almost $100 million, is the most lucrative in the history of the NCAA. The university marching band plays at home games for most of the sports. The band, which began in 1846 and has a claim as the oldest university band in continuous existence in the United States, was honored by the National Music Council as a \"Landmark of American Music\" during the United States Bicentennial. The band regularly plays the school\\'s fight song the Notre Dame Victory March, which was named as the most played and most famous fight song by Northern Illinois Professor William Studwell. According to College Fight Songs: An Annotated Anthology published in 1998, the \"Notre Dame Victory March\" ranks as the greatest fight song of all time.',\n",
              "   'qas': [{'answers': [{'answer_start': 50, 'text': 'Under Armour'}],\n",
              "     'id': '5733c3184776f419006611c2',\n",
              "     'question': 'Who currently provides uniforms to Notre Dame sport teams?'},\n",
              "    {'answers': [{'answer_start': 223, 'text': 'almost $100 million'}],\n",
              "     'id': '5733c3184776f419006611c3',\n",
              "     'question': 'What is the value of the contract between Under Armour and Notre Dame?'},\n",
              "    {'answers': [{'answer_start': 392, 'text': '1846'}],\n",
              "     'id': '5733c3184776f419006611c4',\n",
              "     'question': 'When did the Notre Dame marching band form?'},\n",
              "    {'answers': [{'answer_start': 420,\n",
              "       'text': 'oldest university band in continuous existence in the United States'}],\n",
              "     'id': '5733c3184776f419006611c5',\n",
              "     'question': 'What is notable about the Notre Dame marching band?'},\n",
              "    {'answers': [{'answer_start': 657, 'text': 'Notre Dame Victory March'}],\n",
              "     'id': '5733c3184776f419006611c6',\n",
              "     'question': 'What is the Notre Dame fight song?'}]},\n",
              "  {'context': 'The Notre Dame football team has a long history, first beginning when the Michigan Wolverines football team brought football to Notre Dame in 1887 and played against a group of students. In the long history since then, 13 Fighting Irish teams have won consensus national championships (although the university only claims 11), along with another nine teams being named national champion by at least one source. Additionally, the program has the most members in the College Football Hall of Fame, is tied with Ohio State University with the most Heisman Trophies won, and have the highest winning percentage in NCAA history. With the long history, Notre Dame has accumulated many rivals, and its annual game against USC for the Jeweled Shillelagh has been named by some as one of the most important in college football and is often called the greatest intersectional rivalry in college football in the country.',\n",
              "   'qas': [{'answers': [{'answer_start': 74,\n",
              "       'text': 'Michigan Wolverines football team'}],\n",
              "     'id': '5733c4494776f419006611da',\n",
              "     'question': \"Which team did Notre Dame's football team find inspiration from?\"},\n",
              "    {'answers': [{'answer_start': 142, 'text': '1887'}],\n",
              "     'id': '5733c4494776f419006611db',\n",
              "     'question': 'In what year did Notre Dame football begin?'},\n",
              "    {'answers': [{'answer_start': 509, 'text': 'Ohio State University'}],\n",
              "     'id': '5733c4494776f419006611dc',\n",
              "     'question': 'What university is Notre Dame tied with in terms of most Heisman Trophy winners?'},\n",
              "    {'answers': [{'answer_start': 715, 'text': 'USC'}],\n",
              "     'id': '5733c4494776f419006611dd',\n",
              "     'question': 'Against which team does Notre Dame compete for the Jeweled Shillelagh?'},\n",
              "    {'answers': [{'answer_start': 441, 'text': 'the most'}],\n",
              "     'id': '5733c4494776f419006611de',\n",
              "     'question': 'In terms of Notre Dame students in the College Football Hall of Fame the amount of students named is what ?'}]},\n",
              "  {'context': 'George Gipp was the school\\'s legendary football player during 1916–20. He played semiprofessional baseball and smoked, drank, and gambled when not playing sports. He was also humble, generous to the needy, and a man of integrity. It was in 1928 that famed coach Knute Rockne used his final conversation with the dying Gipp to inspire the Notre Dame team to beat the Army team and \"win one for the Gipper.\" The 1940 film, Knute Rockne, All American, starred Pat O\\'Brien as Knute Rockne and Ronald Reagan as Gipp. Today the team competes in Notre Dame Stadium, an 80,795-seat stadium on campus. The current head coach is Brian Kelly, hired from the University of Cincinnati on December 11, 2009. Kelly\\'s record in midway through his sixth season at Notre Dame is 52–21. In 2012, Kelly\\'s Fighting Irish squad went undefeated and played in the BCS National Championship Game. Kelly succeeded Charlie Weis, who was fired in November 2009 after five seasons. Although Weis led his team to two Bowl Championship Series bowl games, his overall record was 35–27, mediocre by Notre Dame standards, and the 2007 team had the most losses in school history. The football team generates enough revenue to operate independently while $22.1 million is retained from the team\\'s profits for academic use. Forbes named the team as the most valuable in college football, worth a total of $101 million in 2007.',\n",
              "   'qas': [{'answers': [{'answer_start': 0, 'text': 'George Gipp'}],\n",
              "     'id': '5733c743d058e614000b622d',\n",
              "     'question': 'What notable football player played at Notre Dame from 1916 to 1920?'},\n",
              "    {'answers': [{'answer_start': 362, 'text': 'the Army team'}],\n",
              "     'id': '5733c743d058e614000b622e',\n",
              "     'question': 'Against which opponent did Knute Rockne tell his team to \"win one for the Gipper?\"'},\n",
              "    {'answers': [{'answer_start': 457, 'text': \"Pat O'Brien\"}],\n",
              "     'id': '5733c743d058e614000b622f',\n",
              "     'question': 'Which person portrayed Knute Rockne in the 1940 movie \"Knute Rockne?\"'},\n",
              "    {'answers': [{'answer_start': 506, 'text': 'Gipp'}],\n",
              "     'id': '5733c743d058e614000b6230',\n",
              "     'question': 'Ronald Reagan played the role of whom in 1940\\'s \"Knute Rockne?\"'},\n",
              "    {'answers': [{'answer_start': 562, 'text': '80,795'}],\n",
              "     'id': '5733c743d058e614000b6231',\n",
              "     'question': 'How many seats are in Notre Dame Stadium?'}]},\n",
              "  {'context': \"Football gameday traditions During home games, activities occur all around campus and different dorms decorate their halls with a traditional item (e.g. Zahm House's two-story banner). Traditional activities begin at the stroke of midnight with the Drummers' Circle. This tradition involves the drum line of the Band of the Fighting Irish and ushers in the rest of the festivities that will continue the rest of the gameday Saturday. Later that day, the trumpet section will play the Notre Dame Victory March and the Notre Dame Alma Mater under the dome. The band entire will play a concert at the steps of Bond Hall, from where they will march into Notre Dame Stadium, leading fans and students alike across campus to the game.\",\n",
              "   'qas': [{'answers': [{'answer_start': 166, 'text': 'two-story banner'}],\n",
              "     'id': '5733ca05d058e614000b6263',\n",
              "     'question': 'What is displayed at Zahm House for football home games at Notre Dame?'},\n",
              "    {'answers': [{'answer_start': 245, 'text': \"the Drummers' Circle\"}],\n",
              "     'id': '5733ca05d058e614000b6264',\n",
              "     'question': 'What occurs at midnight preceding a football home game at Notre Dame?'},\n",
              "    {'answers': [{'answer_start': 594, 'text': 'the steps of Bond Hall'}],\n",
              "     'id': '5733ca05d058e614000b6265',\n",
              "     'question': 'From where does the Band of the Fighting Irish lead a march to the Notre Dame Stadium for football home games?'},\n",
              "    {'answers': [{'answer_start': 480,\n",
              "       'text': 'the Notre Dame Victory March and the Notre Dame Alma Mater'}],\n",
              "     'id': '5733ca05d058e614000b6266',\n",
              "     'question': 'What songs does the trumpet section of the Band of the Fighting Irish play preceding home football games?'},\n",
              "    {'answers': [{'answer_start': 424, 'text': 'Saturday'}],\n",
              "     'id': '5733ca05d058e614000b6267',\n",
              "     'question': 'On what day do Notre Dame home football games occur?'}]},\n",
              "  {'context': \"The men's basketball team has over 1,600 wins, one of only 12 schools who have reached that mark, and have appeared in 28 NCAA tournaments. Former player Austin Carr holds the record for most points scored in a single game of the tournament with 61. Although the team has never won the NCAA Tournament, they were named by the Helms Athletic Foundation as national champions twice. The team has orchestrated a number of upsets of number one ranked teams, the most notable of which was ending UCLA's record 88-game winning streak in 1974. The team has beaten an additional eight number-one teams, and those nine wins rank second, to UCLA's 10, all-time in wins against the top team. The team plays in newly renovated Purcell Pavilion (within the Edmund P. Joyce Center), which reopened for the beginning of the 2009–2010 season. The team is coached by Mike Brey, who, as of the 2014–15 season, his fifteenth at Notre Dame, has achieved a 332-165 record. In 2009 they were invited to the NIT, where they advanced to the semifinals but were beaten by Penn State who went on and beat Baylor in the championship. The 2010–11 team concluded its regular season ranked number seven in the country, with a record of 25–5, Brey's fifth straight 20-win season, and a second-place finish in the Big East. During the 2014-15 season, the team went 32-6 and won the ACC conference tournament, later advancing to the Elite 8, where the Fighting Irish lost on a missed buzzer-beater against then undefeated Kentucky. Led by NBA draft picks Jerian Grant and Pat Connaughton, the Fighting Irish beat the eventual national champion Duke Blue Devils twice during the season. The 32 wins were the most by the Fighting Irish team since 1908-09.\",\n",
              "   'qas': [{'answers': [{'answer_start': 30, 'text': 'over 1,600'}],\n",
              "     'id': '5733caf74776f4190066124c',\n",
              "     'question': \"How many wins does the Notre Dame men's basketball team have?\"},\n",
              "    {'answers': [{'answer_start': 59, 'text': '12'}],\n",
              "     'id': '5733caf74776f4190066124d',\n",
              "     'question': \"How many schools have a similar men's basketball record to Notre Dame in terms of wins?\"},\n",
              "    {'answers': [{'answer_start': 119, 'text': '28'}],\n",
              "     'id': '5733caf74776f4190066124e',\n",
              "     'question': \"How many NCAA tournaments did the Notre Dame men's basketball team take part in?\"},\n",
              "    {'answers': [{'answer_start': 154, 'text': 'Austin Carr'}],\n",
              "     'id': '5733caf74776f4190066124f',\n",
              "     'question': \"Which Notre Dame men's basketball player has the record for more points in one game?\"},\n",
              "    {'answers': [{'answer_start': 850, 'text': 'Mike Brey'}],\n",
              "     'id': '5733caf74776f41900661250',\n",
              "     'question': \"Who was the Notre Dame men's basketball coach in 2014?\"}]},\n",
              "  {'context': 'The \"Notre Dame Victory March\" is the fight song for the University of Notre Dame. It was written by two brothers who were Notre Dame graduates. The Rev. Michael J. Shea, a 1904 graduate, wrote the music, and his brother, John F. Shea, who earned degrees in 1906 and 1908, wrote the original lyrics. The lyrics were revised in the 1920s; it first appeared under the copyright of the University of Notre Dame in 1928. The chorus is, \"Cheer cheer for old Notre Dame, wake up the echos cheering her name. Send a volley cheer on high, shake down the thunder from the sky! What though the odds be great or small, old Notre Dame will win over all. While her loyal sons are marching, onward to victory!\"',\n",
              "   'qas': [{'answers': [{'answer_start': 222, 'text': 'John F. Shea'}],\n",
              "     'id': '5733cbdad058e614000b628d',\n",
              "     'question': 'Who wrote the original lyrics to the Notre Dame Victory March?'},\n",
              "    {'answers': [{'answer_start': 173, 'text': '1904'}],\n",
              "     'id': '5733cbdad058e614000b628e',\n",
              "     'question': 'In what year did Michael J. Shea graduate from Notre Dame?'},\n",
              "    {'answers': [{'answer_start': 149, 'text': 'Rev. Michael J. Shea'}],\n",
              "     'id': '5733cbdad058e614000b628f',\n",
              "     'question': 'Who is responsible for writing the music for \"Notre Dame Victory March?\"'},\n",
              "    {'answers': [{'answer_start': 411, 'text': '1928'}],\n",
              "     'id': '5733cbdad058e614000b6290',\n",
              "     'question': 'In what year did \"Notre Dame Victory March\" get copyrighted?'},\n",
              "    {'answers': [{'answer_start': 677, 'text': 'onward to victory'}],\n",
              "     'id': '5733cbdad058e614000b6291',\n",
              "     'question': 'To where are the loyal sons in \"Notre Dame Fight Song\" marching?'}]},\n",
              "  {'context': 'In the film Knute Rockne, All American, Knute Rockne (played by Pat O\\'Brien) delivers the famous \"Win one for the Gipper\" speech, at which point the background music swells with the \"Notre Dame Victory March\". George Gipp was played by Ronald Reagan, whose nickname \"The Gipper\" was derived from this role. This scene was parodied in the movie Airplane! with the same background music, only this time honoring George Zipp, one of Ted Striker\\'s former comrades. The song also was prominent in the movie Rudy, with Sean Astin as Daniel \"Rudy\" Ruettiger, who harbored dreams of playing football at the University of Notre Dame despite significant obstacles.',\n",
              "   'qas': [{'answers': [{'answer_start': 267, 'text': 'The Gipper'}],\n",
              "     'id': '5733ccbe4776f41900661270',\n",
              "     'question': 'Ronald Reagan had a nickname, what was it?'},\n",
              "    {'answers': [{'answer_start': 344, 'text': 'Airplane!'}],\n",
              "     'id': '5733ccbe4776f41900661271',\n",
              "     'question': 'In what film did a parody of the \"Win one for the Gipper\" speech appear?'},\n",
              "    {'answers': [{'answer_start': 513, 'text': 'Sean Astin'}],\n",
              "     'id': '5733ccbe4776f41900661272',\n",
              "     'question': 'Who starred as Daniel Ruettiger in the film Rudy?'},\n",
              "    {'answers': [{'answer_start': 410, 'text': 'George Zipp'}],\n",
              "     'id': '5733ccbe4776f41900661273',\n",
              "     'question': 'Which person was a former comrade to Ted Striker in the film Airplane!?'},\n",
              "    {'answers': [{'answer_start': 40, 'text': 'Knute Rockne'}],\n",
              "     'id': '5733ccbe4776f41900661274',\n",
              "     'question': \"Pat O'Brien portrayed which person in the film Knute Rockne?\"}]},\n",
              "  {'context': \"Notre Dame alumni work in various fields. Alumni working in political fields include state governors, members of the United States Congress, and former United States Secretary of State Condoleezza Rice. A notable alumnus of the College of Science is Medicine Nobel Prize winner Eric F. Wieschaus. A number of university heads are alumni, including Notre Dame's current president, the Rev. John Jenkins. Additionally, many alumni are in the media, including talk show hosts Regis Philbin and Phil Donahue, and television and radio personalities such as Mike Golic and Hannah Storm. With the university having high profile sports teams itself, a number of alumni went on to become involved in athletics outside the university, including professional baseball, basketball, football, and ice hockey players, such as Joe Theismann, Joe Montana, Tim Brown, Ross Browner, Rocket Ismail, Ruth Riley, Jeff Samardzija, Jerome Bettis, Brett Lebda, Olympic gold medalist Mariel Zagunis, professional boxer Mike Lee, former football coaches such as Charlie Weis, Frank Leahy and Knute Rockne, and Basketball Hall of Famers Austin Carr and Adrian Dantley. Other notable alumni include prominent businessman Edward J. DeBartolo, Jr. and astronaut Jim Wetherbee.\",\n",
              "   'qas': [{'answers': [{'answer_start': 185, 'text': 'Condoleezza Rice'}],\n",
              "     'id': '5733cd504776f4190066128e',\n",
              "     'question': 'Which Secretary of State attended Notre Dame?'},\n",
              "    {'answers': [{'answer_start': 278, 'text': 'Eric F. Wieschaus'}],\n",
              "     'id': '5733cd504776f4190066128f',\n",
              "     'question': 'Which Notre Dame alum from the College of Science won a Nobel Prize?'},\n",
              "    {'answers': [{'answer_start': 384, 'text': 'Rev. John Jenkins'}],\n",
              "     'id': '5733cd504776f41900661290',\n",
              "     'question': 'Who is the current president of Notre Dame?'},\n",
              "    {'answers': [{'answer_start': 937, 'text': 'Olympic gold'}],\n",
              "     'id': '5733cd504776f41900661291',\n",
              "     'question': 'Mariel Zagunis is notable for winning what?'},\n",
              "    {'answers': [{'answer_start': 1232, 'text': 'Jim Wetherbee'}],\n",
              "     'id': '5733cd504776f41900661292',\n",
              "     'question': 'Which notable astronaut is known to have attended Notre Dame?'}]}],\n",
              " 'title': 'University_of_Notre_Dame'}"
            ]
          },
          "metadata": {
            "tags": []
          },
          "execution_count": 5
        }
      ]
    },
    {
      "cell_type": "markdown",
      "metadata": {
        "id": "xfT6k9nBfox3"
      },
      "source": [
        "The needs of the assignment requires for the dataset to be framed in such a way that each title has associated a single context and a single question/answer as well.<br>\n",
        "This implies a replication of the titles (since one title has more contexts) and context (since one context can hold more than one question/answer)."
      ]
    },
    {
      "cell_type": "code",
      "metadata": {
        "id": "y1ghXKcZfsVO"
      },
      "source": [
        "def generate_dataset(dataset, test = False):\n",
        "  for data in dataset[\"train\"]:\n",
        "    title = data.get(\"title\", \"\").strip()\n",
        "    for paragraph in data[\"paragraphs\"]:\n",
        "      context = paragraph[\"context\"].strip()\n",
        "      for qa in paragraph[\"qas\"]:\n",
        "          # Handling questions\n",
        "          question = qa[\"question\"].strip()\n",
        "          id_ = qa[\"id\"]\n",
        "          # Answers won't be present in the testing (compute_answers.py)\n",
        "          if not test:\n",
        "              # Handling answers\n",
        "              for answer in qa[\"answers\"]:\n",
        "                answer_start = [answer[\"answer_start\"]]\n",
        "              for answer in qa[\"answers\"]:\n",
        "                answer_text = [answer[\"text\"].strip()]\n",
        "\n",
        "              yield id_, {\n",
        "                \"title\": title,\n",
        "                \"context\": context,\n",
        "                \"question\": question,\n",
        "                \"id\": id_,\n",
        "                \"answers\": {\n",
        "                    \"answer_start\": answer_start,\n",
        "                    \"text\": answer_text,\n",
        "                },\n",
        "              }\n",
        "          else:\n",
        "              yield id_, {\n",
        "              \"title\": title,\n",
        "              \"context\": context,\n",
        "              \"question\": question,\n",
        "              \"id\": id_,\n",
        "            }"
      ],
      "execution_count": null,
      "outputs": []
    },
    {
      "cell_type": "markdown",
      "metadata": {
        "id": "9F2Lxj-OfwZQ"
      },
      "source": [
        "The `generate_dataset` is then used to create a `DataFrame` that will contain the whole dataset framed as described above."
      ]
    },
    {
      "cell_type": "code",
      "metadata": {
        "id": "4viS4t7Nfz5t"
      },
      "source": [
        "import pandas as pd\n",
        "\n",
        "# Create a pandas dataframe that contains all the data\n",
        "df = pd.DataFrame(\n",
        "    [value[1] for value in generate_dataset(ds_original)]\n",
        ")"
      ],
      "execution_count": null,
      "outputs": []
    },
    {
      "cell_type": "markdown",
      "metadata": {
        "id": "O3WwQ6P6FEhI"
      },
      "source": [
        "The result is:"
      ]
    },
    {
      "cell_type": "code",
      "metadata": {
        "id": "XxWOSUrzF61N"
      },
      "source": [
        "from IPython.display import display, HTML\n",
        "\n",
        "def display_dataframe(df):\n",
        "    display(HTML(df.to_html()))"
      ],
      "execution_count": null,
      "outputs": []
    },
    {
      "cell_type": "code",
      "metadata": {
        "colab": {
          "base_uri": "https://localhost:8080/",
          "height": 640
        },
        "id": "KGM5XiRxf1wF",
        "outputId": "1e15f30c-d4ba-4e1d-b3e7-f3341e7ad586"
      },
      "source": [
        "display_dataframe(df.head())"
      ],
      "execution_count": null,
      "outputs": [
        {
          "output_type": "display_data",
          "data": {
            "text/html": [
              "<table border=\"1\" class=\"dataframe\">\n",
              "  <thead>\n",
              "    <tr style=\"text-align: right;\">\n",
              "      <th></th>\n",
              "      <th>title</th>\n",
              "      <th>context</th>\n",
              "      <th>question</th>\n",
              "      <th>id</th>\n",
              "      <th>answers</th>\n",
              "    </tr>\n",
              "  </thead>\n",
              "  <tbody>\n",
              "    <tr>\n",
              "      <th>0</th>\n",
              "      <td>University_of_Notre_Dame</td>\n",
              "      <td>Architecturally, the school has a Catholic character. Atop the Main Building's gold dome is a golden statue of the Virgin Mary. Immediately in front of the Main Building and facing it, is a copper statue of Christ with arms upraised with the legend \"Venite Ad Me Omnes\". Next to the Main Building is the Basilica of the Sacred Heart. Immediately behind the basilica is the Grotto, a Marian place of prayer and reflection. It is a replica of the grotto at Lourdes, France where the Virgin Mary reputedly appeared to Saint Bernadette Soubirous in 1858. At the end of the main drive (and in a direct line that connects through 3 statues and the Gold Dome), is a simple, modern stone statue of Mary.</td>\n",
              "      <td>To whom did the Virgin Mary allegedly appear in 1858 in Lourdes France?</td>\n",
              "      <td>5733be284776f41900661182</td>\n",
              "      <td>{'answer_start': [515], 'text': ['Saint Bernadette Soubirous']}</td>\n",
              "    </tr>\n",
              "    <tr>\n",
              "      <th>1</th>\n",
              "      <td>University_of_Notre_Dame</td>\n",
              "      <td>Architecturally, the school has a Catholic character. Atop the Main Building's gold dome is a golden statue of the Virgin Mary. Immediately in front of the Main Building and facing it, is a copper statue of Christ with arms upraised with the legend \"Venite Ad Me Omnes\". Next to the Main Building is the Basilica of the Sacred Heart. Immediately behind the basilica is the Grotto, a Marian place of prayer and reflection. It is a replica of the grotto at Lourdes, France where the Virgin Mary reputedly appeared to Saint Bernadette Soubirous in 1858. At the end of the main drive (and in a direct line that connects through 3 statues and the Gold Dome), is a simple, modern stone statue of Mary.</td>\n",
              "      <td>What is in front of the Notre Dame Main Building?</td>\n",
              "      <td>5733be284776f4190066117f</td>\n",
              "      <td>{'answer_start': [188], 'text': ['a copper statue of Christ']}</td>\n",
              "    </tr>\n",
              "    <tr>\n",
              "      <th>2</th>\n",
              "      <td>University_of_Notre_Dame</td>\n",
              "      <td>Architecturally, the school has a Catholic character. Atop the Main Building's gold dome is a golden statue of the Virgin Mary. Immediately in front of the Main Building and facing it, is a copper statue of Christ with arms upraised with the legend \"Venite Ad Me Omnes\". Next to the Main Building is the Basilica of the Sacred Heart. Immediately behind the basilica is the Grotto, a Marian place of prayer and reflection. It is a replica of the grotto at Lourdes, France where the Virgin Mary reputedly appeared to Saint Bernadette Soubirous in 1858. At the end of the main drive (and in a direct line that connects through 3 statues and the Gold Dome), is a simple, modern stone statue of Mary.</td>\n",
              "      <td>The Basilica of the Sacred heart at Notre Dame is beside to which structure?</td>\n",
              "      <td>5733be284776f41900661180</td>\n",
              "      <td>{'answer_start': [279], 'text': ['the Main Building']}</td>\n",
              "    </tr>\n",
              "    <tr>\n",
              "      <th>3</th>\n",
              "      <td>University_of_Notre_Dame</td>\n",
              "      <td>Architecturally, the school has a Catholic character. Atop the Main Building's gold dome is a golden statue of the Virgin Mary. Immediately in front of the Main Building and facing it, is a copper statue of Christ with arms upraised with the legend \"Venite Ad Me Omnes\". Next to the Main Building is the Basilica of the Sacred Heart. Immediately behind the basilica is the Grotto, a Marian place of prayer and reflection. It is a replica of the grotto at Lourdes, France where the Virgin Mary reputedly appeared to Saint Bernadette Soubirous in 1858. At the end of the main drive (and in a direct line that connects through 3 statues and the Gold Dome), is a simple, modern stone statue of Mary.</td>\n",
              "      <td>What is the Grotto at Notre Dame?</td>\n",
              "      <td>5733be284776f41900661181</td>\n",
              "      <td>{'answer_start': [381], 'text': ['a Marian place of prayer and reflection']}</td>\n",
              "    </tr>\n",
              "    <tr>\n",
              "      <th>4</th>\n",
              "      <td>University_of_Notre_Dame</td>\n",
              "      <td>Architecturally, the school has a Catholic character. Atop the Main Building's gold dome is a golden statue of the Virgin Mary. Immediately in front of the Main Building and facing it, is a copper statue of Christ with arms upraised with the legend \"Venite Ad Me Omnes\". Next to the Main Building is the Basilica of the Sacred Heart. Immediately behind the basilica is the Grotto, a Marian place of prayer and reflection. It is a replica of the grotto at Lourdes, France where the Virgin Mary reputedly appeared to Saint Bernadette Soubirous in 1858. At the end of the main drive (and in a direct line that connects through 3 statues and the Gold Dome), is a simple, modern stone statue of Mary.</td>\n",
              "      <td>What sits on top of the Main Building at Notre Dame?</td>\n",
              "      <td>5733be284776f4190066117e</td>\n",
              "      <td>{'answer_start': [92], 'text': ['a golden statue of the Virgin Mary']}</td>\n",
              "    </tr>\n",
              "  </tbody>\n",
              "</table>"
            ],
            "text/plain": [
              "<IPython.core.display.HTML object>"
            ]
          },
          "metadata": {
            "tags": []
          }
        }
      ]
    },
    {
      "cell_type": "markdown",
      "metadata": {
        "id": "EDcoGAonf4z-"
      },
      "source": [
        "Number of newly generated rows:"
      ]
    },
    {
      "cell_type": "code",
      "metadata": {
        "colab": {
          "base_uri": "https://localhost:8080/"
        },
        "id": "SZL4hWWpf5NO",
        "outputId": "752a6d23-c437-42f5-d62d-66228085c796"
      },
      "source": [
        "n_answers = df['answers'].count()\n",
        "print(\"Total samples:\\n{}\".format(n_answers))"
      ],
      "execution_count": null,
      "outputs": [
        {
          "output_type": "stream",
          "text": [
            "Total samples:\n",
            "87599\n"
          ],
          "name": "stdout"
        }
      ]
    },
    {
      "cell_type": "markdown",
      "metadata": {
        "id": "aZLKvK3Of92t"
      },
      "source": [
        "### Dataset Split\n",
        "The dataset has to be splitted into training set and validation set."
      ]
    },
    {
      "cell_type": "code",
      "metadata": {
        "id": "rRlxx39qf-QO"
      },
      "source": [
        "from datasets import Dataset, DatasetDict\n",
        "\n",
        "def split_train_validation(df, train_size):\n",
        "    \"\"\"\n",
        "    Returns a DatasetDict with the train and validation splits.\n",
        "\n",
        "    Parameters\n",
        "    ----------\n",
        "    df: Pandas.Dataframe\n",
        "        Dataframe to split.\n",
        "    train_size : int or float\n",
        "        A number that specifies the size of the train split.\n",
        "        If it is less or equal than 1, represents a percentage, else\n",
        "        the train's number of samples \n",
        "    \n",
        "    Returns\n",
        "    -------\n",
        "    DatasetDict(**dataset) : datasets.dataset_dict\n",
        "        Dictionary containing as keys the train and validation split and \n",
        "        as values a dataset.\n",
        "\n",
        "    \"\"\"\n",
        "\n",
        "    dataset = {}\n",
        "    # Number of samples in df\n",
        "    n_answers = df['answers'].count()\n",
        "    if train_size <= 1 : s_train = n_answers * train_size \n",
        "    else: s_train= train_size\n",
        "    # Count of answers by title, output is sorted asc\n",
        "    df_bytitle = df.groupby(by='title')['answers'].count()\n",
        "    # Cumulative sum over the DataFrame in order to select the train/validation titles\n",
        "    # according to the train size\n",
        "    train_title = df_bytitle[df_bytitle.sort_values().cumsum() < s_train]\n",
        "    # Splitting the two dataframes\n",
        "    df_train = df[df.title.isin(train_title.index.tolist())].reset_index(drop=True)\n",
        "    df_validation = df[~df.title.isin(train_title.index.tolist())].reset_index(drop=True)\n",
        "    # Building the two HuggingFace's datasets using train and validation dataframes\n",
        "    dataset[\"train\"]= Dataset.from_pandas(df_train)\n",
        "    dataset[\"validation\"]= Dataset.from_pandas(df_validation)\n",
        "\n",
        "    return DatasetDict(**dataset)"
      ],
      "execution_count": null,
      "outputs": []
    },
    {
      "cell_type": "markdown",
      "metadata": {
        "id": "gm_d-0z3H2eQ"
      },
      "source": [
        "Call `split_train_validation` in order to split in training and validation set the previously created `DataFrame`."
      ]
    },
    {
      "cell_type": "code",
      "metadata": {
        "id": "uU0Ep5gMHyCx"
      },
      "source": [
        "datasets = split_train_validation(df, 0.9)"
      ],
      "execution_count": null,
      "outputs": []
    },
    {
      "cell_type": "markdown",
      "metadata": {
        "id": "PZYxuHwXINhY"
      },
      "source": [
        "The result is:"
      ]
    },
    {
      "cell_type": "code",
      "metadata": {
        "colab": {
          "base_uri": "https://localhost:8080/"
        },
        "id": "AeCvAIdsgC9n",
        "outputId": "98ec26c5-278a-4d19-fc2b-80788215a740"
      },
      "source": [
        "datasets"
      ],
      "execution_count": null,
      "outputs": [
        {
          "output_type": "execute_result",
          "data": {
            "text/plain": [
              "DatasetDict({\n",
              "    train: Dataset({\n",
              "        features: ['title', 'context', 'question', 'id', 'answers'],\n",
              "        num_rows: 78428\n",
              "    })\n",
              "    validation: Dataset({\n",
              "        features: ['title', 'context', 'question', 'id', 'answers'],\n",
              "        num_rows: 9171\n",
              "    })\n",
              "})"
            ]
          },
          "metadata": {
            "tags": []
          },
          "execution_count": 13
        }
      ]
    },
    {
      "cell_type": "markdown",
      "metadata": {
        "id": "AoMXlCNxqtUe"
      },
      "source": [
        "## Preprocessing the Data"
      ]
    },
    {
      "cell_type": "markdown",
      "metadata": {
        "id": "xlYO12NynLN1"
      },
      "source": [
        "### Choosing the Model\n",
        "As stated in the beginning what will be used is a transformer that has been pretrained on a generic task. Hence, in order to finetune it, it is important to faithfully **repeat the preprocessing steps used during the pre-training phase**. As such it's needed to define the model that it's going to be used straight from the preprocessing phase.<br>\n",
        "Since in this context it's required to answer the questions not by generating new text but by extracting substring from a paragraph, the ideal type of transformer to be used is the **encoder** kind.\n",
        "<figure class=\"image\">\n",
        "<img src=\"https://drive.google.com/uc?export=view&id=1A9BFo4m5zuVNceYccmS_thUiUhwQfJmm\">\n",
        "<figcaption>Typical structure of an encoder-based transformer.</figcaption>\n",
        "</figure>\n",
        "\n",
        "From this family of transformers it has been decided to use DistilBERT."
      ]
    },
    {
      "cell_type": "code",
      "metadata": {
        "id": "OLQcDn1InLVc"
      },
      "source": [
        "model_checkpoint = \"distilbert-base-uncased\""
      ],
      "execution_count": null,
      "outputs": []
    },
    {
      "cell_type": "markdown",
      "metadata": {
        "id": "HnwsX6qEs1Wy"
      },
      "source": [
        "### Loading the Tokenizer\n",
        "The preprocessing it's handled by HuggingFace's `Tokenizer` class.<br>\n",
        "This class is able to handle the preprocessing of the dataset in conformity with the specification of each pre-trained model present in HuggingFace's model hub. In particular they hold the vocabulary built in the pre-training phase and the tokenization methodology used: it generally is word-based, character-based or subword-based. DistilBERT uses the same as BERT, namely, end-to-end tokenization: punctuation splitting and wordpiece (subword segmentation).<br>\n",
        "The method `AutoTokenizer.from_pretrained` will download the appropriate tokenizer."
      ]
    },
    {
      "cell_type": "code",
      "metadata": {
        "id": "RRynSTVUunPf",
        "colab": {
          "base_uri": "https://localhost:8080/",
          "height": 218,
          "referenced_widgets": [
            "6f58df8bd6e44259b3b633070505d0d6",
            "a3319974819b421b956673c64e3c8cb4",
            "9232184d52534d299ff36755e361d4b0",
            "94b7be00b596428b9c797e7d84327207",
            "635a03a05dbe4d0197cf14dfc8da611f",
            "952885197758414fbcadc2127997e702",
            "a8072cc1e0304c12b562e825265ae013",
            "81e7e9f2370140f590aa54d944da3129",
            "00a9cc27012b40aaab93cbc4fea10064",
            "d6af9c55d57d422cbe043507199de1e3",
            "66acab67cc3a4ebab0cddc74907166c3",
            "90611222ea8d43f2b3316f09b1d0c1ac",
            "973b14a269414ad9857b84ce971e9268",
            "6fe38cc7540b4d47912851d75ad4fb7e",
            "2ae2cfb0f91e4e11b43a98dda5c87683",
            "2e3d802f8b2a481c82081761efc78ae5",
            "36ecf9659ed34c2b8ce08c840c6534e6",
            "86e0f8b4f4054577b32b6d40b432e0f8",
            "a68f744e4dfa4f319b523e9f7be4ff6a",
            "a674554987344b2c9a3d3cf726780a50",
            "21f7ac04f2f44e148f00d02525f27457",
            "5af03b2fbe0e4f7fa1be5437cb7267cc",
            "981eccf3ec934617a733bc7066091779",
            "39da568a871c47428019a545390bc7be",
            "505370b9625f4f278370cde9e724b94a",
            "16453e934dae49dd88888ab17a6076b1",
            "54b7e52170054f09bae12db187447557",
            "4e96ddac0bd344afa226debd26af5a0f",
            "3153d0c7f74841c092afaed4588d4f18",
            "9923a74bebd74932b2a0d86eef4f0674",
            "260daba0fc9c4e038e359f4c0156a6fb",
            "7ebee63e1de44c3fbf9b79669aa65918"
          ]
        },
        "outputId": "95916fe6-635a-4ffb-8e1e-e08834b46571"
      },
      "source": [
        "from transformers import AutoTokenizer\n",
        "    \n",
        "tokenizer = AutoTokenizer.from_pretrained(model_checkpoint)"
      ],
      "execution_count": null,
      "outputs": [
        {
          "output_type": "display_data",
          "data": {
            "application/vnd.jupyter.widget-view+json": {
              "model_id": "6f58df8bd6e44259b3b633070505d0d6",
              "version_minor": 0,
              "version_major": 2
            },
            "text/plain": [
              "HBox(children=(FloatProgress(value=0.0, description='Downloading', max=28.0, style=ProgressStyle(description_w…"
            ]
          },
          "metadata": {
            "tags": []
          }
        },
        {
          "output_type": "stream",
          "text": [
            "\n"
          ],
          "name": "stdout"
        },
        {
          "output_type": "display_data",
          "data": {
            "application/vnd.jupyter.widget-view+json": {
              "model_id": "00a9cc27012b40aaab93cbc4fea10064",
              "version_minor": 0,
              "version_major": 2
            },
            "text/plain": [
              "HBox(children=(FloatProgress(value=0.0, description='Downloading', max=442.0, style=ProgressStyle(description_…"
            ]
          },
          "metadata": {
            "tags": []
          }
        },
        {
          "output_type": "stream",
          "text": [
            "\n"
          ],
          "name": "stdout"
        },
        {
          "output_type": "display_data",
          "data": {
            "application/vnd.jupyter.widget-view+json": {
              "model_id": "36ecf9659ed34c2b8ce08c840c6534e6",
              "version_minor": 0,
              "version_major": 2
            },
            "text/plain": [
              "HBox(children=(FloatProgress(value=0.0, description='Downloading', max=231508.0, style=ProgressStyle(descripti…"
            ]
          },
          "metadata": {
            "tags": []
          }
        },
        {
          "output_type": "stream",
          "text": [
            "\n"
          ],
          "name": "stdout"
        },
        {
          "output_type": "display_data",
          "data": {
            "application/vnd.jupyter.widget-view+json": {
              "model_id": "505370b9625f4f278370cde9e724b94a",
              "version_minor": 0,
              "version_major": 2
            },
            "text/plain": [
              "HBox(children=(FloatProgress(value=0.0, description='Downloading', max=466062.0, style=ProgressStyle(descripti…"
            ]
          },
          "metadata": {
            "tags": []
          }
        },
        {
          "output_type": "stream",
          "text": [
            "\n"
          ],
          "name": "stdout"
        }
      ]
    },
    {
      "cell_type": "markdown",
      "metadata": {
        "id": "vPC0sJ8QvhOR"
      },
      "source": [
        "### Handling Long Sequences\n",
        "The transformer models have a maximum number of tokens they are able to process with this quantity varying depending on the architecture.<br>\n",
        "A solution usually adopted in case of sequences longer than the limited amount (other than choosing a model that can handle longer sequences) is to **truncate** the sentence.<br>\n",
        "While this approach may be effective for some tasks in this case it's **not a valid solution** since there would be the risk of truncating out from the context the answer to the question.<br>\n",
        "In order to overcome this limitation what will be done is **sliding** the input sentence over the model with a certain **stride** allowing a certain degree of **overlap**. The overlap is necessary as to avoid the truncation of a sentence in a point where an answer lies."
      ]
    },
    {
      "cell_type": "code",
      "metadata": {
        "id": "mWeTzxB6vhhQ"
      },
      "source": [
        "max_length = 384 # Max length of the input sequence\n",
        "stride = 128 # Overlap of the context"
      ],
      "execution_count": null,
      "outputs": []
    },
    {
      "cell_type": "markdown",
      "metadata": {
        "id": "Mve8QeMd9t-x"
      },
      "source": [
        "HuggingFace's tokenizer allow to perform this kind of operation by passing to the tokenizer the argument `return_overflowing_tokens=True` and by specifying the stride through the argument `stride`."
      ]
    },
    {
      "cell_type": "code",
      "metadata": {
        "id": "23EfgGdO9uNi"
      },
      "source": [
        "def tokenize(tokenizer, max_length, stride, row):\n",
        "    pad_on_right = tokenizer.padding_side == \"right\"\n",
        "    \n",
        "    return tokenizer(\n",
        "        row[\"question\" if pad_on_right else \"context\"],\n",
        "        row[\"context\" if pad_on_right else \"question\"],\n",
        "        max_length=max_length,\n",
        "        truncation=\"only_second\" if pad_on_right else \"only_first\",\n",
        "        return_overflowing_tokens=True,\n",
        "        return_offsets_mapping=True,\n",
        "        stride=stride,\n",
        "        padding=\"max_length\"\n",
        "    )"
      ],
      "execution_count": null,
      "outputs": []
    },
    {
      "cell_type": "markdown",
      "metadata": {
        "id": "MzDW1C_9HQ3m"
      },
      "source": [
        "The division of a context in numerous truncated context create some issues regarding the detection of the answer inside the context since a pair of question-context may generate multiple pairs question-truncated context. This implies that using `answers[\"answer_start\"]` is not sufficient anymore. As such, an ulterior preprocessing steps needs to be integrated in the preprocessing pipeline: the detection of the answers in the truncated contexts."
      ]
    },
    {
      "cell_type": "code",
      "metadata": {
        "id": "hYB4rEMfTvhr"
      },
      "source": [
        "import collections\n",
        "\n",
        "# This structure is used as an aid to the following functions since they will have to deal with a lot of start and end indexes.\n",
        "Position = collections.namedtuple(\"Position\", [\"start\",\"end\"])"
      ],
      "execution_count": null,
      "outputs": []
    },
    {
      "cell_type": "markdown",
      "metadata": {
        "id": "PhhAPZzZ98u0"
      },
      "source": [
        "The first step is to retrieve the answer position in the original context."
      ]
    },
    {
      "cell_type": "code",
      "metadata": {
        "id": "_zAqb4zK9fY-"
      },
      "source": [
        "def get_answer_position_in_context(answers):\n",
        "    # Index of the answer starting character inside the context.\n",
        "    start_char = answers[\"answer_start\"][0]\n",
        "    # Index of the answer ending character inside the context.\n",
        "    end_char = start_char + len(answers[\"text\"][0])\n",
        "    \n",
        "    return Position(start=start_char, end=end_char)"
      ],
      "execution_count": null,
      "outputs": []
    },
    {
      "cell_type": "markdown",
      "metadata": {
        "id": "SJ85iTrw8BRi"
      },
      "source": [
        "Since the tokenized input sequence encodes both the question and the context it is necessary to indentify which part of the sequence match the context.<br>\n",
        "In order to complete this task the method `sequence_ids()` come into aid.<br>\n",
        "In particular `sequence_ids()` tags the input tokens as `0` if they belong to the quesiton and `1` if they belong to the context (the reverse is instead true in the case the model pad the sequence to the left); `None` is for special tokens."
      ]
    },
    {
      "cell_type": "code",
      "metadata": {
        "id": "mGkqUPF-leHc"
      },
      "source": [
        "def get_context_position_in_tokenized_input(tokenized_row, i, pad_on_right):\n",
        "    # List that holds for each index (up to the lenght of the tokenized input sequence)\n",
        "    # 1 if its corresponding token is a context's token, 0 if it's a question's token\n",
        "    # (the contrair if pad_on_right is true). Null for the special tokens.\n",
        "    sequence_ids = tokenized_row.sequence_ids(i)\n",
        "\n",
        "    # Start context's token's index inside the input sequence.\n",
        "    token_start_index = sequence_ids.index(1 if pad_on_right else 0)\n",
        "\n",
        "    # End context's token's index inside the input sequence.\n",
        "    token_end_index = len(sequence_ids)-1 - list(reversed(sequence_ids)).index(1 if pad_on_right else 0)\n",
        "\n",
        "    return Position(start=token_start_index, end=token_end_index)"
      ],
      "execution_count": null,
      "outputs": []
    },
    {
      "cell_type": "markdown",
      "metadata": {
        "id": "8F21z7xw-mWl"
      },
      "source": [
        "In order to properly tag the position of an answer in a truncated context the answer itself needs to be fully included inside the truncated context, since partial answers may not be fully explicative, nor have grammatical consistence, ecc...<br>\n",
        "Having the start and end answer's indexes inside the original context and the position of the truncated context inside the tokenized input sequence (which is composed by the question and the context), what's left it to identify the position of the answer in the tokenized and truncated context.<br>\n",
        "This is done through the aid of the tokenized sequence attribute `offset_mapping` (obtained using the argument `return_offsets_mapping=True` to call the tokenizer) which indicates for each tokenized word its starting and ending index in the original sequence."
      ]
    },
    {
      "cell_type": "code",
      "metadata": {
        "id": "HDNZHAe5z7Lq"
      },
      "source": [
        "def get_answer_position_in_tokenized_input(offsets, char_pos, token_pos, cls_index):\n",
        "    # Check if the answer fully included in the context.\n",
        "    if offsets[token_pos.start][0] <= char_pos.start and offsets[token_pos.end][1] >= char_pos.end:\n",
        "        # Starting token's index of the answer with respect to the input sequence.\n",
        "        start_position = token_pos.start + next(i for i,v in enumerate([offset[0] for offset in offsets[token_pos.start:]]) if v > char_pos.start or i==token_pos.end+1) - 1\n",
        "        # Ending token's index of the answer with respect to the input sequence.\n",
        "        end_position = next(i for i,v in reversed(list(enumerate([offset[1] for offset in offsets[:token_pos.end+1]]))) if v < char_pos.end or i==token_pos.start-1) + 1\n",
        "\n",
        "        return Position(start=start_position, end=end_position)\n",
        "    else:\n",
        "        return Position(start=cls_index, end=cls_index)"
      ],
      "execution_count": null,
      "outputs": []
    },
    {
      "cell_type": "markdown",
      "metadata": {
        "id": "Q-Sd6bhNDsGi"
      },
      "source": [
        "From the composition of the previously defined functions follow the creation of the preprocessing function."
      ]
    },
    {
      "cell_type": "code",
      "metadata": {
        "id": "mzWXasdVPHcN"
      },
      "source": [
        "def preprocess_train(tokenizer, max_length, stride):\n",
        "    pad_on_right = tokenizer.padding_side == \"right\"\n",
        "\n",
        "    def preprocess_train_impl(rows):\n",
        "        tokenized_rows = tokenize(tokenizer, max_length, stride, rows)\n",
        "        # overflow_to_sample_mapping keeps the corrispondence between a feature and the row it was generated by.\n",
        "        sample_mapping = tokenized_rows.pop(\"overflow_to_sample_mapping\")\n",
        "        # offset_mapping hold for each input token it's position in the textual counterpart\n",
        "        # (be it the question or the context).\n",
        "        offset_mapping = tokenized_rows.pop(\"offset_mapping\")\n",
        "\n",
        "        tokenized_rows[\"start_positions\"] = []\n",
        "        tokenized_rows[\"end_positions\"] = []\n",
        "        for i, offsets in enumerate(offset_mapping):\n",
        "            input_ids = tokenized_rows[\"input_ids\"][i]\n",
        "\n",
        "            # cls is a special token. It will be used to label \"impossible answers\".\n",
        "            cls_index = input_ids.index(tokenizer.cls_token_id)\n",
        "\n",
        "            # One row can generate several truncated context, this is the index of the row containing this portion of context.\n",
        "            sample_index = sample_mapping[i]\n",
        "            answers = rows[\"answers\"][sample_index]\n",
        "            # If no answers are given, set the cls_index as answer.\n",
        "            if len(answers[\"answer_start\"]) == 0:\n",
        "                pos = Position(cls_index,cls_index)\n",
        "            else:\n",
        "                char_pos = get_answer_position_in_context(answers)\n",
        "                token_pos = get_context_position_in_tokenized_input(tokenized_rows, i, pad_on_right)\n",
        "                pos = get_answer_position_in_tokenized_input(offsets, char_pos, token_pos, cls_index)\n",
        "\n",
        "            tokenized_rows[\"start_positions\"].append(pos.start)\n",
        "            tokenized_rows[\"end_positions\"].append(pos.end)\n",
        "\n",
        "        return tokenized_rows\n",
        "    return preprocess_train_impl"
      ],
      "execution_count": null,
      "outputs": []
    },
    {
      "cell_type": "markdown",
      "metadata": {
        "id": "fmH-L0qz4ArZ"
      },
      "source": [
        "### Calling the Preprocessing Method\n",
        "The `map` method of the DatasetDict apply a given function to each row of the dataset (to each dataset's split)."
      ]
    },
    {
      "cell_type": "code",
      "metadata": {
        "id": "mcfg0irU1kfh",
        "colab": {
          "base_uri": "https://localhost:8080/",
          "height": 118,
          "referenced_widgets": [
            "6058297d30ed4229b0eed75004679413",
            "e006310f04d9432d93bfac96e7f2d47a",
            "b7cf1f9167a948038f95414873693bbc",
            "798d2518e266411cb18bb40bf4af32cf",
            "c638773c64ea4cddb8d1c62d0e2d38b0",
            "db70ee02a85e47e8b72864089d5c38e4",
            "f9d81dbdd1cf43eaa60752be5afbc246",
            "f400f8055048476599fc66bf40302885",
            "a9879d9dd2fa49c5a4c9943ebe605936",
            "1335fdbc4a3b42019460ae18d6b18e0f",
            "c38826ac0b89499cb53516d2b4b89db3",
            "02ce93341b3e4054b2cc95f4eb56e288",
            "05edccb286d9490aa341a560c776f7c9",
            "551debd5713f47e3b3da820aad937344",
            "94ce78ecda7444cab29c4c8e1d0a1958",
            "d4c3a07b084848a99207f7b843937165"
          ]
        },
        "outputId": "d3277346-763c-4b9c-c4dc-b41dc9282c71"
      },
      "source": [
        "tokenized_datasets = datasets.map(preprocess_train(tokenizer, max_length, stride),\n",
        "                                  batched=True,\n",
        "                                  remove_columns=datasets[\"train\"].column_names)"
      ],
      "execution_count": null,
      "outputs": [
        {
          "output_type": "display_data",
          "data": {
            "application/vnd.jupyter.widget-view+json": {
              "model_id": "6058297d30ed4229b0eed75004679413",
              "version_minor": 0,
              "version_major": 2
            },
            "text/plain": [
              "HBox(children=(FloatProgress(value=0.0, max=79.0), HTML(value='')))"
            ]
          },
          "metadata": {
            "tags": []
          }
        },
        {
          "output_type": "stream",
          "text": [
            "\n"
          ],
          "name": "stdout"
        },
        {
          "output_type": "display_data",
          "data": {
            "application/vnd.jupyter.widget-view+json": {
              "model_id": "a9879d9dd2fa49c5a4c9943ebe605936",
              "version_minor": 0,
              "version_major": 2
            },
            "text/plain": [
              "HBox(children=(FloatProgress(value=0.0, max=10.0), HTML(value='')))"
            ]
          },
          "metadata": {
            "tags": []
          }
        },
        {
          "output_type": "stream",
          "text": [
            "\n"
          ],
          "name": "stdout"
        }
      ]
    },
    {
      "cell_type": "markdown",
      "metadata": {
        "id": "tdKl46O3BVyG"
      },
      "source": [
        "The result is:"
      ]
    },
    {
      "cell_type": "code",
      "metadata": {
        "colab": {
          "base_uri": "https://localhost:8080/"
        },
        "id": "g6KBbYINMG6V",
        "outputId": "318a55ac-e151-4ac1-ff23-d35631bd04ea"
      },
      "source": [
        "tokenized_datasets"
      ],
      "execution_count": null,
      "outputs": [
        {
          "output_type": "execute_result",
          "data": {
            "text/plain": [
              "DatasetDict({\n",
              "    train: Dataset({\n",
              "        features: ['attention_mask', 'end_positions', 'input_ids', 'start_positions'],\n",
              "        num_rows: 79245\n",
              "    })\n",
              "    validation: Dataset({\n",
              "        features: ['attention_mask', 'end_positions', 'input_ids', 'start_positions'],\n",
              "        num_rows: 9279\n",
              "    })\n",
              "})"
            ]
          },
          "metadata": {
            "tags": []
          },
          "execution_count": 24
        }
      ]
    },
    {
      "cell_type": "markdown",
      "metadata": {
        "id": "PrDFoPUl4OQo"
      },
      "source": [
        "## Training"
      ]
    },
    {
      "cell_type": "markdown",
      "metadata": {
        "id": "OslW_84lOqmD"
      },
      "source": [
        "**NOTE**: the sections about the actual training procedure have been commented and substituted with the downloading of a pretrained model.\n",
        "If you wish to train the model form scratch in the code cell below uncomment:\n",
        "```\n",
        "#model = AutoModelForQuestionAnswering.from_pretrained(model_checkpoint)\n",
        "```\n",
        "and comment:\n",
        "```\n",
        "!gdown --id \"1kr60FKl-0vEjggaspkxKJzILZr2dhCtk\"\n",
        "\n",
        "with zipfile.ZipFile('squad_trained.zip', 'r') as zip_ref:\n",
        "    zip_ref.extractall('./')\n",
        "\n",
        "model = AutoModelForQuestionAnswering.from_pretrained(\"squad_trained\")\n",
        "```\n",
        "Moreover the two code cells under the section \"Finetuning\" need to be uncommented as well."
      ]
    },
    {
      "cell_type": "markdown",
      "metadata": {
        "id": "ioA69WiRAEs3"
      },
      "source": [
        "As previously mentioned it's going to be used a pretrained model and then finetuned on the task at hand. In particular DistilBERT, just like BERT, is trained to be used mainly on masked language modeling and next sentence prediction tasks.<br>\n",
        "Since the model has already been defined during the preprocessing phase, it's now possible to direcly download it for HuggingFace Model Hub using the `from_pretrained` method.<br>\n",
        "`AutoModel` is the class that instantiate the correct architecture based on the model downloaded from the hub. `AutoModelForQuestionAnswering` in addition attaches to the pretrained backbone the head needed to perform this kind of task (which is not pretrained)."
      ]
    },
    {
      "cell_type": "code",
      "metadata": {
        "id": "k2ii2N9Q4OsA",
        "colab": {
          "base_uri": "https://localhost:8080/"
        },
        "outputId": "a9b5e2d6-0484-4ff8-b5d5-fdd0eab89210"
      },
      "source": [
        "from transformers import AutoModelForQuestionAnswering, TrainingArguments, Trainer\n",
        "import zipfile\n",
        "\n",
        "#model = AutoModelForQuestionAnswering.from_pretrained(model_checkpoint)\n",
        "\n",
        "!gdown --id \"1ThyHyaFwci_SXLB6jrBnm6aacN74_YCd\"\n",
        "\n",
        "with zipfile.ZipFile('squad_trained.zip', 'r') as zip_ref:\n",
        "    zip_ref.extractall('./')\n",
        "\n",
        "model = AutoModelForQuestionAnswering.from_pretrained(\"squad_trained\")"
      ],
      "execution_count": null,
      "outputs": [
        {
          "output_type": "stream",
          "text": [
            "Downloading...\n",
            "From: https://drive.google.com/uc?id=1ThyHyaFwci_SXLB6jrBnm6aacN74_YCd\n",
            "To: /content/squad_trained.zip\n",
            "245MB [00:04, 56.6MB/s]\n"
          ],
          "name": "stdout"
        }
      ]
    },
    {
      "cell_type": "markdown",
      "metadata": {
        "id": "Tef-gzjT_oZD"
      },
      "source": [
        "### Trainer Class Definition\n",
        "The pretraining of the model will be handled by the class `Trainer`.<br>\n",
        "Still, some things needs to be defined before being able to use the `Trainer` class.<br>\n",
        "The first thing is the `TrainingArguments` which specify the saving folder, batch's size, learning rate, ecc..."
      ]
    },
    {
      "cell_type": "code",
      "metadata": {
        "id": "BdgyNIMS_pym"
      },
      "source": [
        "batch_size = 16\n",
        "\n",
        "args = TrainingArguments(\n",
        "    \"squad\",\n",
        "    evaluation_strategy = \"epoch\",\n",
        "    learning_rate=2e-5,\n",
        "    per_device_train_batch_size=batch_size,\n",
        "    per_device_eval_batch_size=batch_size,\n",
        "    num_train_epochs=3,\n",
        "    weight_decay=0.01\n",
        ")"
      ],
      "execution_count": null,
      "outputs": []
    },
    {
      "cell_type": "markdown",
      "metadata": {
        "id": "PWF97-nTBl2Y"
      },
      "source": [
        "The second and last thing to define is the data collator, which is used to batch together sequences having different length."
      ]
    },
    {
      "cell_type": "code",
      "metadata": {
        "id": "zK9MnXUcBl-I"
      },
      "source": [
        "from transformers import default_data_collator\n",
        "\n",
        "data_collator = default_data_collator"
      ],
      "execution_count": null,
      "outputs": []
    },
    {
      "cell_type": "markdown",
      "metadata": {
        "id": "XKKkMLMZBsW6"
      },
      "source": [
        "Now it's finally possible to define the Trainer class."
      ]
    },
    {
      "cell_type": "code",
      "metadata": {
        "id": "PfvadfecBse4"
      },
      "source": [
        "trainer = Trainer(\n",
        "    model,\n",
        "    args,\n",
        "    train_dataset=tokenized_datasets[\"train\"],\n",
        "    eval_dataset=tokenized_datasets[\"validation\"],\n",
        "    data_collator=data_collator,\n",
        "    tokenizer=tokenizer,\n",
        ")"
      ],
      "execution_count": null,
      "outputs": []
    },
    {
      "cell_type": "markdown",
      "metadata": {
        "id": "u8YseZZRDSg-"
      },
      "source": [
        "### Finetuning\n",
        "The method `train` of the `Trainer` class is used to trigger the finetuning process."
      ]
    },
    {
      "cell_type": "code",
      "metadata": {
        "id": "rMBOO6unDSpv"
      },
      "source": [
        "#trainer.train()"
      ],
      "execution_count": null,
      "outputs": []
    },
    {
      "cell_type": "markdown",
      "metadata": {
        "id": "q1b3mNugDXVt"
      },
      "source": [
        "Saving the model."
      ]
    },
    {
      "cell_type": "code",
      "metadata": {
        "id": "87wJvShLD0S0"
      },
      "source": [
        "#trainer.save_model(\"squad-trained\")"
      ],
      "execution_count": null,
      "outputs": []
    },
    {
      "cell_type": "markdown",
      "metadata": {
        "id": "TKbjls1H_3Bb"
      },
      "source": [
        "## Evaluation"
      ]
    },
    {
      "cell_type": "markdown",
      "metadata": {
        "id": "Yje7VIsGdL1h"
      },
      "source": [
        "The evaluation phase it's not straightforward and requires some additional steps in order to perform it.<br>\n",
        "In particular the output of the model are the loss and two scores indicating the likelihood of a token being the start and end of the answer.<br>\n",
        "Simply taking the argmax of both will not do since it may create unfeasible situations: start position greater than end position and/or start position at question (remember that the input senquence is composed by the union of the tokenized answer and tokenized context)."
      ]
    },
    {
      "cell_type": "markdown",
      "metadata": {
        "id": "5ps7QPVJBbwk"
      },
      "source": [
        "### Preprocessing the Evaluation Data\n",
        "Before evaluating the model some processing steps are required: all the data necessary to avoid the aforementioned problems needs to be added to the dataset.<br>\n",
        "The problem of the answer being located inside the question is addressed by adding the starting token of the context inside the unified input sequence.<br>\n",
        "Thanks to the column `overflow_to_sample_mapping` it's also possible to have a reference between the features and the corresponding row."
      ]
    },
    {
      "cell_type": "code",
      "metadata": {
        "id": "emzjHCCefuHp"
      },
      "source": [
        "def preprocess_eval(tokenizer, max_length, stride):\n",
        "    pad_on_right = tokenizer.padding_side == \"right\"\n",
        "    def preprocess_eval_impl(rows):\n",
        "        # Tokenize the rows\n",
        "        tokenized_rows = tokenize(tokenizer, max_length, stride, rows)\n",
        "\n",
        "        # overflow_to_sample_mapping keeps the corrispondence between a feature and the row it was generated by.\n",
        "        sample_mapping = tokenized_rows.pop(\"overflow_to_sample_mapping\")\n",
        "\n",
        "        # For each feature save the row that generated it.\n",
        "        tokenized_rows[\"row_id\"] = [rows[\"id\"][sample_index] for sample_index in sample_mapping]\n",
        "\n",
        "        # Save the start and end context's token's position inside the tokenized input sequence (composed by question plus context)\n",
        "        context_pos = [get_context_position_in_tokenized_input(tokenized_rows,i,pad_on_right) for i in range(len(tokenized_rows[\"input_ids\"]))]\n",
        "        tokenized_rows[\"context_start\"], tokenized_rows[\"context_end\"] = [index.start for index in context_pos], [index.end for index in context_pos]\n",
        "\n",
        "        return tokenized_rows\n",
        "    return preprocess_eval_impl"
      ],
      "execution_count": null,
      "outputs": []
    },
    {
      "cell_type": "code",
      "metadata": {
        "id": "kDzKvLioai3t",
        "colab": {
          "base_uri": "https://localhost:8080/",
          "height": 67,
          "referenced_widgets": [
            "7012e8f56eab4998aafaed6586011289",
            "0394fa4a6390496bb1b8dcafdd32dcfc",
            "94a006c92c72410eb9f686169210bd99",
            "2159144669ff458ca1ed6fd32e14b79a",
            "87fab2a4c739448ca60493407f393fa4",
            "035a07092da54e559701b291a9aca498",
            "709d324ff3c14da7984fb2d4200c9642",
            "466b3d946554468ba2f65403f748a0a1"
          ]
        },
        "outputId": "27e60536-f330-4f8c-a437-00d1275dea0f"
      },
      "source": [
        "validation_features = datasets[\"validation\"].map(\n",
        "    preprocess_eval(tokenizer, max_length, stride),\n",
        "    batched=True,\n",
        "    remove_columns=datasets[\"validation\"].column_names\n",
        ")"
      ],
      "execution_count": null,
      "outputs": [
        {
          "output_type": "display_data",
          "data": {
            "application/vnd.jupyter.widget-view+json": {
              "model_id": "7012e8f56eab4998aafaed6586011289",
              "version_minor": 0,
              "version_major": 2
            },
            "text/plain": [
              "HBox(children=(FloatProgress(value=0.0, max=10.0), HTML(value='')))"
            ]
          },
          "metadata": {
            "tags": []
          }
        },
        {
          "output_type": "stream",
          "text": [
            "\n"
          ],
          "name": "stdout"
        }
      ]
    },
    {
      "cell_type": "markdown",
      "metadata": {
        "id": "KSLM4S4EE1m0"
      },
      "source": [
        "The validation's features generated from the preprocessing are used to compute the predictions."
      ]
    },
    {
      "cell_type": "code",
      "metadata": {
        "id": "nGROD-hgai-K",
        "colab": {
          "base_uri": "https://localhost:8080/",
          "height": 131
        },
        "outputId": "4595a3e8-06a4-406d-cf80-ee13f5521e65"
      },
      "source": [
        "raw_valid_predictions = trainer.predict(validation_features)"
      ],
      "execution_count": null,
      "outputs": [
        {
          "output_type": "stream",
          "text": [
            "The following columns in the test set  don't have a corresponding argument in `DistilBertForQuestionAnswering.forward` and have been ignored: row_id, context_end, offset_mapping, context_start.\n",
            "***** Running Prediction *****\n",
            "  Num examples = 9279\n",
            "  Batch size = 16\n"
          ],
          "name": "stderr"
        },
        {
          "output_type": "display_data",
          "data": {
            "text/html": [
              "\n",
              "    <div>\n",
              "      \n",
              "      <progress value='580' max='580' style='width:300px; height:20px; vertical-align: middle;'></progress>\n",
              "      [580/580 01:50]\n",
              "    </div>\n",
              "    "
            ],
            "text/plain": [
              "<IPython.core.display.HTML object>"
            ]
          },
          "metadata": {
            "tags": []
          }
        }
      ]
    },
    {
      "cell_type": "markdown",
      "metadata": {
        "id": "4vdD2o1Wi6im"
      },
      "source": [
        "Since the `Trainer` class hides the columns not used during the prediction they have to be set back."
      ]
    },
    {
      "cell_type": "code",
      "metadata": {
        "id": "N5MG8gsgan4z"
      },
      "source": [
        "validation_features.set_format(type=validation_features.format[\"type\"], columns=list(validation_features.features.keys()))"
      ],
      "execution_count": null,
      "outputs": []
    },
    {
      "cell_type": "markdown",
      "metadata": {
        "id": "6vrs0OpbeAlQ"
      },
      "source": [
        "### Posprocessing the Evaluation Data\n",
        "The aim of the posprocessing is: given the raw prediction (composed by the likelihoods of each input token to be the starting and ending token of the answer) the function retrieve the portion of the context's text corresponding to the predicted answer."
      ]
    },
    {
      "cell_type": "markdown",
      "metadata": {
        "id": "Xj8Lr5oWhceb"
      },
      "source": [
        "`get_best_feasible_position` function select the best possible pairs of starting and ending tokens for each answer.<br>\n",
        "The problem is easily shapeable as a linear optimization problem.<br>\n",
        "The function has been originally implemented by using `z3` library, but it has been sucessively discarded because of performance issues.<br>\n",
        "The used implementation can be found after `z3`'s."
      ]
    },
    {
      "cell_type": "code",
      "metadata": {
        "id": "ZAWhstR6T3hH"
      },
      "source": [
        "#!pip install z3-solver"
      ],
      "execution_count": null,
      "outputs": []
    },
    {
      "cell_type": "code",
      "metadata": {
        "id": "9KEXlzwnBb4c",
        "colab": {
          "base_uri": "https://localhost:8080/",
          "height": 128
        },
        "outputId": "df3462ca-13bb-4e9e-93bc-5b27c0372b34"
      },
      "source": [
        "\"\"\"\n",
        "from z3 import *\n",
        "\n",
        "Score = collections.namedtuple(\"Score\", [\"index\",\"score\"])\n",
        "\n",
        "def get_best_feasible_position(context_start, context_end, start_logits, end_logits):\n",
        "    start_index = Int(\"start_index\")\n",
        "    end_index = Int(\"end_index\")\n",
        "    st_log = Array('st_log', IntSort(), RealSort())\n",
        "    e_log = Array('e_log', IntSort(), RealSort())\n",
        "    for i,sl in enumerate(start_logits):\n",
        "        st_log = Store(st_log, i, sl)\n",
        "    for i,el in enumerate(end_logits):\n",
        "        e_log = Store(e_log, i, el)\n",
        "\n",
        "    constraint = And(start_index < end_index,\n",
        "                     start_index >= context_start,\n",
        "                     end_index <= context_end)\n",
        "    opt = Optimize()\n",
        "    opt.add(constraint)\n",
        "    opt.maximize(st_log[start_index]+e_log[end_index])\n",
        "    if opt.check() == sat:\n",
        "        model = opt.model()\n",
        "        return Score(index=Position(start=model.evaluate(start_index).as_long(),\n",
        "                                    end=model.evaluate(end_index).as_long()),\n",
        "                     score=st_log[start_index]+e_log[end_index])\n",
        "    else:\n",
        "        raise StopIteration\n",
        "\"\"\""
      ],
      "execution_count": null,
      "outputs": [
        {
          "output_type": "execute_result",
          "data": {
            "application/vnd.google.colaboratory.intrinsic+json": {
              "type": "string"
            },
            "text/plain": [
              "'\\nfrom z3 import *\\n\\nScore = collections.namedtuple(\"Score\", [\"index\",\"score\"])\\n\\ndef get_best_feasible_position(context_start, context_end, start_logits, end_logits):\\n    start_index = Int(\"start_index\")\\n    end_index = Int(\"end_index\")\\n    st_log = Array(\\'st_log\\', IntSort(), RealSort())\\n    e_log = Array(\\'e_log\\', IntSort(), RealSort())\\n    for i,sl in enumerate(start_logits):\\n        st_log = Store(st_log, i, sl)\\n    for i,el in enumerate(end_logits):\\n        e_log = Store(e_log, i, el)\\n\\n    constraint = And(start_index < end_index,\\n                     start_index >= context_start,\\n                     end_index <= context_end)\\n    opt = Optimize()\\n    opt.add(constraint)\\n    opt.maximize(st_log[start_index]+e_log[end_index])\\n    if opt.check() == sat:\\n        model = opt.model()\\n        return Score(index=Position(start=model.evaluate(start_index).as_long(),\\n                                    end=model.evaluate(end_index).as_long()),\\n                     score=st_log[start_index]+e_log[end_index])\\n    else:\\n        raise StopIteration\\n'"
            ]
          },
          "metadata": {
            "tags": []
          },
          "execution_count": 36
        }
      ]
    },
    {
      "cell_type": "markdown",
      "metadata": {
        "id": "7ZYjqPTa5j7r"
      },
      "source": [
        "The new `get_best_feasible_position` implementation evaluates only a portion of the logits, namely the ones with highest values. The pair of logits selected is the one that holds the highest score computed by their summation and that respects the consistency constraints:<br>\n",
        "- The index of the starting logit must be less or equal of the one of the ending logit.\n",
        "- The starting logit's index must be greater or equal than the starting token's index of the context.\n",
        "- The ending logit's index must be less or equal than the ending token's index of the context.\n",
        "\n",
        "Unsing only a portion of the logits was necessary because computing evey single score have $n^2$ complexity and the postprocessing would subsequently be too slow. Reducing the number of logits doesn't change the time complexity of $n^2$ but, being $n$ smaller (around 90% smaller than the original), the procedure becomes more bearable."
      ]
    },
    {
      "cell_type": "code",
      "metadata": {
        "id": "s8SpYX5Jx-SQ"
      },
      "source": [
        "Score = collections.namedtuple(\"Score\", [\"index\",\"score\"])\n",
        "\n",
        "def get_best_feasible_position(start_logits, end_logits, context_start, context_end, n_logits=0.15):\n",
        "    #Sort logits in ascending order\n",
        "    sorted_start_logit = sorted(enumerate(start_logits), key=lambda x: x[1], reverse=True)[:int(len(start_logits)*n_logits)]\n",
        "    sorted_end_logit = sorted(enumerate(end_logits), key=lambda x: x[1], reverse=True)[:int(len(end_logits)*n_logits)]\n",
        "\n",
        "    # Associate the positions of each pair of start and end tokens to their score and sort them in descending order of score\n",
        "    sorted_scores = collections.OrderedDict(\n",
        "                            sorted({Position(start=i, end=j):sl+el for i,sl in sorted_start_logit for j,el in sorted_end_logit}.items(),\n",
        "                                    key=lambda x: x[1],\n",
        "                                    reverse=True)\n",
        "                    )\n",
        "    \n",
        "    # Return the position of the pair of higher score that respects the consistency constraints\n",
        "    return next(Score(index=pos, score=score) for pos,score in sorted_scores.items() \\\n",
        "                if pos.start <= pos.end and pos.start >= context_start and pos.end <= context_end)"
      ],
      "execution_count": null,
      "outputs": []
    },
    {
      "cell_type": "markdown",
      "metadata": {
        "id": "xG0uY-rFZbo7"
      },
      "source": [
        "`map_feature_to_row` uses the `row_id` that has been added during the preprocessing step in order to create a corrispondence between a feature and the row it belong to."
      ]
    },
    {
      "cell_type": "code",
      "metadata": {
        "id": "W7feP_k3Y2uk"
      },
      "source": [
        "def map_feature_to_row(dataset, features):\n",
        "    # Associate rows' id with an index\n",
        "    row_id_to_index = {k: i for i, k in enumerate(dataset[\"id\"])}\n",
        "    features_per_row = collections.defaultdict(list)\n",
        "    # Create a corrispondence beween the previously computed rows' index with\n",
        "    # the index of the features that belong to the said rows\n",
        "    for i, feature in enumerate(features):\n",
        "        features_per_row[row_id_to_index[feature[\"row_id\"]]].append(i)\n",
        "\n",
        "    return features_per_row"
      ],
      "execution_count": null,
      "outputs": []
    },
    {
      "cell_type": "markdown",
      "metadata": {
        "id": "bnVmuTjJ80HU"
      },
      "source": [
        "The `postprocess_eval` function use the two function defined above and for each raw prediction returns a portion of context's text that best match it taking into account:\n",
        "- The logits values outputted by the model.\n",
        "- The consistency constraints mentioned above."
      ]
    },
    {
      "cell_type": "code",
      "metadata": {
        "id": "0XJPQRabESG-"
      },
      "source": [
        "from tqdm.notebook import tqdm\n",
        "\n",
        "def postprocess_eval(dataset, features, raw_predictions, verbose=True):\n",
        "    all_start_logits, all_end_logits = raw_predictions\n",
        "\n",
        "    # Map the dataset's rows to their corresponding features.\n",
        "    features_per_row = map_feature_to_row(dataset, features)\n",
        "\n",
        "    predictions = collections.OrderedDict()\n",
        "\n",
        "    if verbose:\n",
        "        print(f\"Post-processing {len(dataset)} dataset predictions split into {len(features)} features.\")\n",
        "\n",
        "    for row_index, row in enumerate(tqdm(dataset)):\n",
        "        valid_answers = []\n",
        "\n",
        "        # Indices of the features associated to the current row.\n",
        "        feature_indices = features_per_row[row_index]\n",
        "        \n",
        "        context = row[\"context\"]\n",
        "        # Loop on the features associated to the current row.\n",
        "        for feature_index in feature_indices:\n",
        "            context_start = features[feature_index][\"context_start\"]\n",
        "            context_end = features[feature_index][\"context_end\"]\n",
        "\n",
        "            offsets = features[feature_index][\"offset_mapping\"]\n",
        "\n",
        "            # Computation of the answer from the raw preditions.\n",
        "            start_logits = all_start_logits[feature_index]\n",
        "            end_logits = all_end_logits[feature_index]\n",
        "            try:\n",
        "                valid_answers.append(get_best_feasible_position(start_logits, end_logits, context_start, context_end))\n",
        "            except StopIteration:\n",
        "                continue\n",
        "\n",
        "        # For each row use as answer the best candidate generated by the row's features\n",
        "        if len(valid_answers) > 0:\n",
        "            answer_pos = sorted(valid_answers, key=lambda x: x.score, reverse=True)[0].index\n",
        "            answer = context[offsets[answer_pos.start][0]: offsets[answer_pos.end][1]]\n",
        "        # In case no candidates are found return an empty string\n",
        "        else:\n",
        "            print(\"Not found any consistent answer's start and/or end\")\n",
        "            answer = \"\"\n",
        "\n",
        "        predictions[row[\"id\"]] = answer\n",
        "\n",
        "    return predictions"
      ],
      "execution_count": null,
      "outputs": []
    },
    {
      "cell_type": "markdown",
      "metadata": {
        "id": "Jxv749lv9fnL"
      },
      "source": [
        "Calling the post-processing function over the validation set."
      ]
    },
    {
      "cell_type": "code",
      "metadata": {
        "colab": {
          "base_uri": "https://localhost:8080/",
          "height": 86,
          "referenced_widgets": [
            "1e8abf12a9cb435cb984996b5e4da860",
            "83fca7ad224043eb85b6528f3ead781a",
            "0c1819654d0449059b99d260610d2ab1",
            "c43dfd0500f34fe49d6a901cca590bdd",
            "8543954a218f4a97a93d908e8db5416d",
            "dc4bfe75570a45fdb0be4203a6f5b28e",
            "83a1a2ed328b4a8da075d872e6e6d3b8",
            "5d6a2f1eefed4b3695e7cddc3261f946"
          ]
        },
        "id": "c8PDjnDyIN6g",
        "outputId": "641d8167-fb29-4ee6-e3ef-8d21340af91b"
      },
      "source": [
        "validation_predictions = postprocess_eval(datasets[\"validation\"],\n",
        "                                          validation_features,\n",
        "                                          raw_valid_predictions.predictions)"
      ],
      "execution_count": null,
      "outputs": [
        {
          "output_type": "stream",
          "text": [
            "Post-processing 9171 dataset predictions split into 9279 features.\n"
          ],
          "name": "stdout"
        },
        {
          "output_type": "display_data",
          "data": {
            "application/vnd.jupyter.widget-view+json": {
              "model_id": "1e8abf12a9cb435cb984996b5e4da860",
              "version_minor": 0,
              "version_major": 2
            },
            "text/plain": [
              "HBox(children=(FloatProgress(value=0.0, max=9171.0), HTML(value='')))"
            ]
          },
          "metadata": {
            "tags": []
          }
        },
        {
          "output_type": "stream",
          "text": [
            "\n"
          ],
          "name": "stdout"
        }
      ]
    },
    {
      "cell_type": "markdown",
      "metadata": {
        "id": "Y9UzIIOfREFY"
      },
      "source": [
        "### Compute Metrics\n",
        "The metrics that are those provided from HuggingFace for the squad dataset: exact match and f1 score."
      ]
    },
    {
      "cell_type": "code",
      "metadata": {
        "id": "gqKBBbHNE1kB",
        "colab": {
          "base_uri": "https://localhost:8080/",
          "height": 118,
          "referenced_widgets": [
            "d8bc211fc0694549bf2f7cc1d6a04786",
            "453d495b7c6b43ec8540b9e63e331ea4",
            "75c20676e2cb4f1a8cfd01188f0f0b18",
            "00c520391e8a4020b037896d87d73aa0",
            "0bb305228ef74ab982f3896d6e876647",
            "dacf2d7755ed4c14a2d982edd8e96ff7",
            "742edbaf0d5e434d88b937fa33a743a5",
            "3fe935ac0b8c446bb13bb959eb423c40",
            "b7ef7bf542344b9eb28ebac8a6f6f616",
            "f83a2cc04b7e46059c389a8f4cfa3dca",
            "de3f514006764a7db68c8d6c85563f93",
            "d64ebedc92b841f1a80cb964e2cb574a",
            "b19e2bea38a840ada86c0764f2315412",
            "eda24f55ec9f4554aa2aaf7e777c44e5",
            "57f704dab63d44549ae2fbcf3dbb2352",
            "c736872aa31c46119db020a82b01f6fb"
          ]
        },
        "outputId": "ab92cc30-d3d6-405f-994c-4d3b117611f7"
      },
      "source": [
        "from datasets import load_metric\n",
        "\n",
        "metric = load_metric(\"squad\")"
      ],
      "execution_count": null,
      "outputs": [
        {
          "output_type": "display_data",
          "data": {
            "application/vnd.jupyter.widget-view+json": {
              "model_id": "d8bc211fc0694549bf2f7cc1d6a04786",
              "version_minor": 0,
              "version_major": 2
            },
            "text/plain": [
              "HBox(children=(FloatProgress(value=0.0, description='Downloading', max=1726.0, style=ProgressStyle(description…"
            ]
          },
          "metadata": {
            "tags": []
          }
        },
        {
          "output_type": "stream",
          "text": [
            "\n"
          ],
          "name": "stdout"
        },
        {
          "output_type": "display_data",
          "data": {
            "application/vnd.jupyter.widget-view+json": {
              "model_id": "b7ef7bf542344b9eb28ebac8a6f6f616",
              "version_minor": 0,
              "version_major": 2
            },
            "text/plain": [
              "HBox(children=(FloatProgress(value=0.0, description='Downloading', max=1119.0, style=ProgressStyle(description…"
            ]
          },
          "metadata": {
            "tags": []
          }
        },
        {
          "output_type": "stream",
          "text": [
            "\n"
          ],
          "name": "stdout"
        }
      ]
    },
    {
      "cell_type": "code",
      "metadata": {
        "colab": {
          "base_uri": "https://localhost:8080/"
        },
        "id": "jyjnhsqNHc3c",
        "outputId": "942e1489-8464-41e5-d244-20ab43469cb5"
      },
      "source": [
        "formatted_predictions = [{\"id\": k, \"prediction_text\": v} for k, v in validation_predictions.items()]\n",
        "references = [{\"id\": r[\"id\"], \"answers\": r[\"answers\"]} for r in datasets[\"validation\"]]\n",
        "\n",
        "metric.compute(predictions=formatted_predictions, references=references)"
      ],
      "execution_count": null,
      "outputs": [
        {
          "output_type": "execute_result",
          "data": {
            "text/plain": [
              "{'exact_match': 69.42536255588267, 'f1': 80.70188027992519}"
            ]
          },
          "metadata": {
            "tags": []
          },
          "execution_count": 42
        }
      ]
    },
    {
      "cell_type": "markdown",
      "metadata": {
        "id": "QC9loKY4nhk5"
      },
      "source": [
        "### Inspect Errors\n",
        "In order to analyze what kind of errors the model made, the mistaken predictions should first be retrieved.<br>\n",
        "With \"mistaken predictions\" are intended those predictions that do not exactly match with the ground truth."
      ]
    },
    {
      "cell_type": "code",
      "metadata": {
        "id": "4iCdGC2Onhxm"
      },
      "source": [
        "import re\n",
        "import string\n",
        "\n",
        "def normalize_answer(s):\n",
        "    \"\"\"Lower text and remove punctuation, articles and extra whitespace.\"\"\"\n",
        "    def remove_articles(text):\n",
        "        regex = re.compile(r'\\b(a|an|the)\\b', re.UNICODE)\n",
        "        return re.sub(regex, ' ', text)\n",
        "    def white_space_fix(text):\n",
        "        return ' '.join(text.split())\n",
        "    def remove_punc(text):\n",
        "        exclude = set(string.punctuation)\n",
        "        return ''.join(ch for ch in text if ch not in exclude)\n",
        "    def lower(text):\n",
        "        return text.lower()\n",
        "    return white_space_fix(remove_articles(remove_punc(lower(s))))"
      ],
      "execution_count": null,
      "outputs": []
    },
    {
      "cell_type": "code",
      "metadata": {
        "id": "7_CTKh3uTLlP"
      },
      "source": [
        "errors = pd.DataFrame([{\"question\":row[\"question\"], \"context\":row[\"context\"], \"ground_truth\":row[\"answers\"][\"text\"][0], \"prediction\":validation_predictions[row[\"id\"]]}\n",
        "                       for row in datasets[\"validation\"] \\\n",
        "                       if normalize_answer(row[\"answers\"][\"text\"][0]) != normalize_answer(validation_predictions[row[\"id\"]])])"
      ],
      "execution_count": null,
      "outputs": []
    },
    {
      "cell_type": "markdown",
      "metadata": {
        "id": "iyXa4iaSpMX_"
      },
      "source": [
        "Total number of mistaken predictions."
      ]
    },
    {
      "cell_type": "code",
      "metadata": {
        "colab": {
          "base_uri": "https://localhost:8080/"
        },
        "id": "CG9gAmrco7WN",
        "outputId": "87e2a5b3-cbc3-4765-b938-998f6555352b"
      },
      "source": [
        "print(\"Wrong answers: {}/{}\".format(len(errors),len(datasets[\"validation\"])))"
      ],
      "execution_count": null,
      "outputs": [
        {
          "output_type": "stream",
          "text": [
            "Wrong answers: 2804/9171\n"
          ],
          "name": "stdout"
        }
      ]
    },
    {
      "cell_type": "markdown",
      "metadata": {
        "id": "qc00K-Bup4Jk"
      },
      "source": [
        "In order to check what kind of mistakes the model made, some of the errors will be displayed.<br>\n",
        "First 30 errors:"
      ]
    },
    {
      "cell_type": "code",
      "metadata": {
        "colab": {
          "base_uri": "https://localhost:8080/",
          "height": 1000
        },
        "id": "EC3Qwijep3TF",
        "outputId": "397bfa76-f47e-42ae-c4ac-b8ea83335269"
      },
      "source": [
        "# display_dataframe is defined in the Datast Creation paragraph\n",
        "display_dataframe(errors.head(30))"
      ],
      "execution_count": null,
      "outputs": [
        {
          "output_type": "display_data",
          "data": {
            "text/html": [
              "<table border=\"1\" class=\"dataframe\">\n",
              "  <thead>\n",
              "    <tr style=\"text-align: right;\">\n",
              "      <th></th>\n",
              "      <th>question</th>\n",
              "      <th>context</th>\n",
              "      <th>ground_truth</th>\n",
              "      <th>prediction</th>\n",
              "    </tr>\n",
              "  </thead>\n",
              "  <tbody>\n",
              "    <tr>\n",
              "      <th>0</th>\n",
              "      <td>When did Beyonce start becoming popular?</td>\n",
              "      <td>Beyoncé Giselle Knowles-Carter (/biːˈjɒnseɪ/ bee-YON-say) (born September 4, 1981) is an American singer, songwriter, record producer and actress. Born and raised in Houston, Texas, she performed in various singing and dancing competitions as a child, and rose to fame in the late 1990s as lead singer of R&amp;B girl-group Destiny's Child. Managed by her father, Mathew Knowles, the group became one of the world's best-selling girl groups of all time. Their hiatus saw the release of Beyoncé's debut album, Dangerously in Love (2003), which established her as a solo artist worldwide, earned five Grammy Awards and featured the Billboard Hot 100 number-one singles \"Crazy in Love\" and \"Baby Boy\".</td>\n",
              "      <td>in the late 1990s</td>\n",
              "      <td>1990s</td>\n",
              "    </tr>\n",
              "    <tr>\n",
              "      <th>1</th>\n",
              "      <td>When did Beyonce leave Destiny's Child and become a solo singer?</td>\n",
              "      <td>Beyoncé Giselle Knowles-Carter (/biːˈjɒnseɪ/ bee-YON-say) (born September 4, 1981) is an American singer, songwriter, record producer and actress. Born and raised in Houston, Texas, she performed in various singing and dancing competitions as a child, and rose to fame in the late 1990s as lead singer of R&amp;B girl-group Destiny's Child. Managed by her father, Mathew Knowles, the group became one of the world's best-selling girl groups of all time. Their hiatus saw the release of Beyoncé's debut album, Dangerously in Love (2003), which established her as a solo artist worldwide, earned five Grammy Awards and featured the Billboard Hot 100 number-one singles \"Crazy in Love\" and \"Baby Boy\".</td>\n",
              "      <td>2003</td>\n",
              "      <td>1990s</td>\n",
              "    </tr>\n",
              "    <tr>\n",
              "      <th>2</th>\n",
              "      <td>In which decade did Beyonce become famous?</td>\n",
              "      <td>Beyoncé Giselle Knowles-Carter (/biːˈjɒnseɪ/ bee-YON-say) (born September 4, 1981) is an American singer, songwriter, record producer and actress. Born and raised in Houston, Texas, she performed in various singing and dancing competitions as a child, and rose to fame in the late 1990s as lead singer of R&amp;B girl-group Destiny's Child. Managed by her father, Mathew Knowles, the group became one of the world's best-selling girl groups of all time. Their hiatus saw the release of Beyoncé's debut album, Dangerously in Love (2003), which established her as a solo artist worldwide, earned five Grammy Awards and featured the Billboard Hot 100 number-one singles \"Crazy in Love\" and \"Baby Boy\".</td>\n",
              "      <td>late 1990s</td>\n",
              "      <td>1990s</td>\n",
              "    </tr>\n",
              "    <tr>\n",
              "      <th>3</th>\n",
              "      <td>In what city did Beyonce grow up?</td>\n",
              "      <td>Beyoncé Giselle Knowles-Carter (/biːˈjɒnseɪ/ bee-YON-say) (born September 4, 1981) is an American singer, songwriter, record producer and actress. Born and raised in Houston, Texas, she performed in various singing and dancing competitions as a child, and rose to fame in the late 1990s as lead singer of R&amp;B girl-group Destiny's Child. Managed by her father, Mathew Knowles, the group became one of the world's best-selling girl groups of all time. Their hiatus saw the release of Beyoncé's debut album, Dangerously in Love (2003), which established her as a solo artist worldwide, earned five Grammy Awards and featured the Billboard Hot 100 number-one singles \"Crazy in Love\" and \"Baby Boy\".</td>\n",
              "      <td>Houston</td>\n",
              "      <td>Houston, Texas</td>\n",
              "    </tr>\n",
              "    <tr>\n",
              "      <th>4</th>\n",
              "      <td>What is Beyonce's full name?</td>\n",
              "      <td>Beyoncé Giselle Knowles-Carter (/biːˈjɒnseɪ/ bee-YON-say) (born September 4, 1981) is an American singer, songwriter, record producer and actress. Born and raised in Houston, Texas, she performed in various singing and dancing competitions as a child, and rose to fame in the late 1990s as lead singer of R&amp;B girl-group Destiny's Child. Managed by her father, Mathew Knowles, the group became one of the world's best-selling girl groups of all time. Their hiatus saw the release of Beyoncé's debut album, Dangerously in Love (2003), which established her as a solo artist worldwide, earned five Grammy Awards and featured the Billboard Hot 100 number-one singles \"Crazy in Love\" and \"Baby Boy\".</td>\n",
              "      <td>Beyoncé Giselle Knowles-Carter</td>\n",
              "      <td>Giselle Knowles-Carter</td>\n",
              "    </tr>\n",
              "    <tr>\n",
              "      <th>5</th>\n",
              "      <td>Which album was darker in tone from her previous work?</td>\n",
              "      <td>Following the disbandment of Destiny's Child in June 2005, she released her second solo album, B'Day (2006), which contained hits \"Déjà Vu\", \"Irreplaceable\", and \"Beautiful Liar\". Beyoncé also ventured into acting, with a Golden Globe-nominated performance in Dreamgirls (2006), and starring roles in The Pink Panther (2006) and Obsessed (2009). Her marriage to rapper Jay Z and portrayal of Etta James in Cadillac Records (2008) influenced her third album, I Am... Sasha Fierce (2008), which saw the birth of her alter-ego Sasha Fierce and earned a record-setting six Grammy Awards in 2010, including Song of the Year for \"Single Ladies (Put a Ring on It)\". Beyoncé took a hiatus from music in 2010 and took over management of her career; her fourth album 4 (2011) was subsequently mellower in tone, exploring 1970s funk, 1980s pop, and 1990s soul. Her critically acclaimed fifth studio album, Beyoncé (2013), was distinguished from previous releases by its experimental production and exploration of darker themes.</td>\n",
              "      <td>Beyoncé</td>\n",
              "      <td>4 (2011) was subsequently mellower in tone, exploring 1970s funk, 1980s pop, and 1990s soul. Her critically acclaimed fifth studio album, Beyoncé</td>\n",
              "    </tr>\n",
              "    <tr>\n",
              "      <th>6</th>\n",
              "      <td>After what movie portraying Etta James, did Beyonce create Sasha Fierce?</td>\n",
              "      <td>Following the disbandment of Destiny's Child in June 2005, she released her second solo album, B'Day (2006), which contained hits \"Déjà Vu\", \"Irreplaceable\", and \"Beautiful Liar\". Beyoncé also ventured into acting, with a Golden Globe-nominated performance in Dreamgirls (2006), and starring roles in The Pink Panther (2006) and Obsessed (2009). Her marriage to rapper Jay Z and portrayal of Etta James in Cadillac Records (2008) influenced her third album, I Am... Sasha Fierce (2008), which saw the birth of her alter-ego Sasha Fierce and earned a record-setting six Grammy Awards in 2010, including Song of the Year for \"Single Ladies (Put a Ring on It)\". Beyoncé took a hiatus from music in 2010 and took over management of her career; her fourth album 4 (2011) was subsequently mellower in tone, exploring 1970s funk, 1980s pop, and 1990s soul. Her critically acclaimed fifth studio album, Beyoncé (2013), was distinguished from previous releases by its experimental production and exploration of darker themes.</td>\n",
              "      <td>Cadillac Records</td>\n",
              "      <td>Destiny's Child</td>\n",
              "    </tr>\n",
              "    <tr>\n",
              "      <th>7</th>\n",
              "      <td>What was Beyoncé's first acting job, in 2006?</td>\n",
              "      <td>Following the disbandment of Destiny's Child in June 2005, she released her second solo album, B'Day (2006), which contained hits \"Déjà Vu\", \"Irreplaceable\", and \"Beautiful Liar\". Beyoncé also ventured into acting, with a Golden Globe-nominated performance in Dreamgirls (2006), and starring roles in The Pink Panther (2006) and Obsessed (2009). Her marriage to rapper Jay Z and portrayal of Etta James in Cadillac Records (2008) influenced her third album, I Am... Sasha Fierce (2008), which saw the birth of her alter-ego Sasha Fierce and earned a record-setting six Grammy Awards in 2010, including Song of the Year for \"Single Ladies (Put a Ring on It)\". Beyoncé took a hiatus from music in 2010 and took over management of her career; her fourth album 4 (2011) was subsequently mellower in tone, exploring 1970s funk, 1980s pop, and 1990s soul. Her critically acclaimed fifth studio album, Beyoncé (2013), was distinguished from previous releases by its experimental production and exploration of darker themes.</td>\n",
              "      <td>Dreamgirls</td>\n",
              "      <td>Golden Globe-nominated performance in Dreamgirls</td>\n",
              "    </tr>\n",
              "    <tr>\n",
              "      <th>8</th>\n",
              "      <td>Which magazine declared her the most dominant woman musician?</td>\n",
              "      <td>A self-described \"modern-day feminist\", Beyoncé creates songs that are often characterized by themes of love, relationships, and monogamy, as well as female sexuality and empowerment. On stage, her dynamic, highly choreographed performances have led to critics hailing her as one of the best entertainers in contemporary popular music. Throughout a career spanning 19 years, she has sold over 118 million records as a solo artist, and a further 60 million with Destiny's Child, making her one of the best-selling music artists of all time. She has won 20 Grammy Awards and is the most nominated woman in the award's history. The Recording Industry Association of America recognized her as the Top Certified Artist in America during the 2000s decade. In 2009, Billboard named her the Top Radio Songs Artist of the Decade, the Top Female Artist of the 2000s and their Artist of the Millennium in 2011. Time listed her among the 100 most influential people in the world in 2013 and 2014. Forbes magazine also listed her as the most powerful female musician of 2015.</td>\n",
              "      <td>Forbes</td>\n",
              "      <td>Forbes magazine</td>\n",
              "    </tr>\n",
              "    <tr>\n",
              "      <th>9</th>\n",
              "      <td>What magazine rated Beyonce as the most powerful female musician in 2015?</td>\n",
              "      <td>A self-described \"modern-day feminist\", Beyoncé creates songs that are often characterized by themes of love, relationships, and monogamy, as well as female sexuality and empowerment. On stage, her dynamic, highly choreographed performances have led to critics hailing her as one of the best entertainers in contemporary popular music. Throughout a career spanning 19 years, she has sold over 118 million records as a solo artist, and a further 60 million with Destiny's Child, making her one of the best-selling music artists of all time. She has won 20 Grammy Awards and is the most nominated woman in the award's history. The Recording Industry Association of America recognized her as the Top Certified Artist in America during the 2000s decade. In 2009, Billboard named her the Top Radio Songs Artist of the Decade, the Top Female Artist of the 2000s and their Artist of the Millennium in 2011. Time listed her among the 100 most influential people in the world in 2013 and 2014. Forbes magazine also listed her as the most powerful female musician of 2015.</td>\n",
              "      <td>Forbes</td>\n",
              "      <td>Forbes magazine</td>\n",
              "    </tr>\n",
              "    <tr>\n",
              "      <th>10</th>\n",
              "      <td>How many records has Beyonce sold in her 19 year career?</td>\n",
              "      <td>A self-described \"modern-day feminist\", Beyoncé creates songs that are often characterized by themes of love, relationships, and monogamy, as well as female sexuality and empowerment. On stage, her dynamic, highly choreographed performances have led to critics hailing her as one of the best entertainers in contemporary popular music. Throughout a career spanning 19 years, she has sold over 118 million records as a solo artist, and a further 60 million with Destiny's Child, making her one of the best-selling music artists of all time. She has won 20 Grammy Awards and is the most nominated woman in the award's history. The Recording Industry Association of America recognized her as the Top Certified Artist in America during the 2000s decade. In 2009, Billboard named her the Top Radio Songs Artist of the Decade, the Top Female Artist of the 2000s and their Artist of the Millennium in 2011. Time listed her among the 100 most influential people in the world in 2013 and 2014. Forbes magazine also listed her as the most powerful female musician of 2015.</td>\n",
              "      <td>118 million</td>\n",
              "      <td>over 118 million</td>\n",
              "    </tr>\n",
              "    <tr>\n",
              "      <th>11</th>\n",
              "      <td>After leaving Destiny's Child, how many records did Beyoncé release under her own name?</td>\n",
              "      <td>A self-described \"modern-day feminist\", Beyoncé creates songs that are often characterized by themes of love, relationships, and monogamy, as well as female sexuality and empowerment. On stage, her dynamic, highly choreographed performances have led to critics hailing her as one of the best entertainers in contemporary popular music. Throughout a career spanning 19 years, she has sold over 118 million records as a solo artist, and a further 60 million with Destiny's Child, making her one of the best-selling music artists of all time. She has won 20 Grammy Awards and is the most nominated woman in the award's history. The Recording Industry Association of America recognized her as the Top Certified Artist in America during the 2000s decade. In 2009, Billboard named her the Top Radio Songs Artist of the Decade, the Top Female Artist of the 2000s and their Artist of the Millennium in 2011. Time listed her among the 100 most influential people in the world in 2013 and 2014. Forbes magazine also listed her as the most powerful female musician of 2015.</td>\n",
              "      <td>118 million</td>\n",
              "      <td>60 million</td>\n",
              "    </tr>\n",
              "    <tr>\n",
              "      <th>12</th>\n",
              "      <td>What magazine named Beyoncé as the most powerful female musician for 2015?</td>\n",
              "      <td>A self-described \"modern-day feminist\", Beyoncé creates songs that are often characterized by themes of love, relationships, and monogamy, as well as female sexuality and empowerment. On stage, her dynamic, highly choreographed performances have led to critics hailing her as one of the best entertainers in contemporary popular music. Throughout a career spanning 19 years, she has sold over 118 million records as a solo artist, and a further 60 million with Destiny's Child, making her one of the best-selling music artists of all time. She has won 20 Grammy Awards and is the most nominated woman in the award's history. The Recording Industry Association of America recognized her as the Top Certified Artist in America during the 2000s decade. In 2009, Billboard named her the Top Radio Songs Artist of the Decade, the Top Female Artist of the 2000s and their Artist of the Millennium in 2011. Time listed her among the 100 most influential people in the world in 2013 and 2014. Forbes magazine also listed her as the most powerful female musician of 2015.</td>\n",
              "      <td>Forbes</td>\n",
              "      <td>Forbes magazine</td>\n",
              "    </tr>\n",
              "    <tr>\n",
              "      <th>13</th>\n",
              "      <td>What race was Beyonce's father?</td>\n",
              "      <td>Beyoncé Giselle Knowles was born in Houston, Texas, to Celestine Ann \"Tina\" Knowles (née Beyincé), a hairdresser and salon owner, and Mathew Knowles, a Xerox sales manager. Beyoncé's name is a tribute to her mother's maiden name. Beyoncé's younger sister Solange is also a singer and a former member of Destiny's Child. Mathew is African-American, while Tina is of Louisiana Creole descent (with African, Native American, French, Cajun, and distant Irish and Spanish ancestry). Through her mother, Beyoncé is a descendant of Acadian leader Joseph Broussard. She was raised in a Methodist household.</td>\n",
              "      <td>African-American</td>\n",
              "      <td>Louisiana Creole</td>\n",
              "    </tr>\n",
              "    <tr>\n",
              "      <th>14</th>\n",
              "      <td>Beyonce's mother worked in what industry?</td>\n",
              "      <td>Beyoncé Giselle Knowles was born in Houston, Texas, to Celestine Ann \"Tina\" Knowles (née Beyincé), a hairdresser and salon owner, and Mathew Knowles, a Xerox sales manager. Beyoncé's name is a tribute to her mother's maiden name. Beyoncé's younger sister Solange is also a singer and a former member of Destiny's Child. Mathew is African-American, while Tina is of Louisiana Creole descent (with African, Native American, French, Cajun, and distant Irish and Spanish ancestry). Through her mother, Beyoncé is a descendant of Acadian leader Joseph Broussard. She was raised in a Methodist household.</td>\n",
              "      <td>hairdresser and salon owner</td>\n",
              "      <td>hairdresser and salon owner, and Mathew Knowles, a Xerox</td>\n",
              "    </tr>\n",
              "    <tr>\n",
              "      <th>15</th>\n",
              "      <td>What did Beyoncé's mother own when Beyoncé was a child?</td>\n",
              "      <td>Beyoncé Giselle Knowles was born in Houston, Texas, to Celestine Ann \"Tina\" Knowles (née Beyincé), a hairdresser and salon owner, and Mathew Knowles, a Xerox sales manager. Beyoncé's name is a tribute to her mother's maiden name. Beyoncé's younger sister Solange is also a singer and a former member of Destiny's Child. Mathew is African-American, while Tina is of Louisiana Creole descent (with African, Native American, French, Cajun, and distant Irish and Spanish ancestry). Through her mother, Beyoncé is a descendant of Acadian leader Joseph Broussard. She was raised in a Methodist household.</td>\n",
              "      <td>salon</td>\n",
              "      <td>Destiny's Child</td>\n",
              "    </tr>\n",
              "    <tr>\n",
              "      <th>16</th>\n",
              "      <td>What town did Beyonce go to school in?</td>\n",
              "      <td>Beyoncé attended St. Mary's Elementary School in Fredericksburg, Texas, where she enrolled in dance classes. Her singing talent was discovered when dance instructor Darlette Johnson began humming a song and she finished it, able to hit the high-pitched notes. Beyoncé's interest in music and performing continued after winning a school talent show at age seven, singing John Lennon's \"Imagine\" to beat 15/16-year-olds. In fall of 1990, Beyoncé enrolled in Parker Elementary School, a music magnet school in Houston, where she would perform with the school's choir. She also attended the High School for the Performing and Visual Arts and later Alief Elsik High School. Beyoncé was also a member of the choir at St. John's United Methodist Church as a soloist for two years.</td>\n",
              "      <td>Fredericksburg</td>\n",
              "      <td>Fredericksburg, Texas</td>\n",
              "    </tr>\n",
              "    <tr>\n",
              "      <th>17</th>\n",
              "      <td>Beyonce moved to which town after she left her first elementary school?</td>\n",
              "      <td>Beyoncé attended St. Mary's Elementary School in Fredericksburg, Texas, where she enrolled in dance classes. Her singing talent was discovered when dance instructor Darlette Johnson began humming a song and she finished it, able to hit the high-pitched notes. Beyoncé's interest in music and performing continued after winning a school talent show at age seven, singing John Lennon's \"Imagine\" to beat 15/16-year-olds. In fall of 1990, Beyoncé enrolled in Parker Elementary School, a music magnet school in Houston, where she would perform with the school's choir. She also attended the High School for the Performing and Visual Arts and later Alief Elsik High School. Beyoncé was also a member of the choir at St. John's United Methodist Church as a soloist for two years.</td>\n",
              "      <td>Houston</td>\n",
              "      <td>Fredericksburg</td>\n",
              "    </tr>\n",
              "    <tr>\n",
              "      <th>18</th>\n",
              "      <td>Which of her teachers discovered Beyonce's musical talent?</td>\n",
              "      <td>Beyoncé attended St. Mary's Elementary School in Fredericksburg, Texas, where she enrolled in dance classes. Her singing talent was discovered when dance instructor Darlette Johnson began humming a song and she finished it, able to hit the high-pitched notes. Beyoncé's interest in music and performing continued after winning a school talent show at age seven, singing John Lennon's \"Imagine\" to beat 15/16-year-olds. In fall of 1990, Beyoncé enrolled in Parker Elementary School, a music magnet school in Houston, where she would perform with the school's choir. She also attended the High School for the Performing and Visual Arts and later Alief Elsik High School. Beyoncé was also a member of the choir at St. John's United Methodist Church as a soloist for two years.</td>\n",
              "      <td>dance instructor Darlette Johnson</td>\n",
              "      <td>Darlette Johnson</td>\n",
              "    </tr>\n",
              "    <tr>\n",
              "      <th>19</th>\n",
              "      <td>What type of school was Parker Elementary School?</td>\n",
              "      <td>Beyoncé attended St. Mary's Elementary School in Fredericksburg, Texas, where she enrolled in dance classes. Her singing talent was discovered when dance instructor Darlette Johnson began humming a song and she finished it, able to hit the high-pitched notes. Beyoncé's interest in music and performing continued after winning a school talent show at age seven, singing John Lennon's \"Imagine\" to beat 15/16-year-olds. In fall of 1990, Beyoncé enrolled in Parker Elementary School, a music magnet school in Houston, where she would perform with the school's choir. She also attended the High School for the Performing and Visual Arts and later Alief Elsik High School. Beyoncé was also a member of the choir at St. John's United Methodist Church as a soloist for two years.</td>\n",
              "      <td>music magnet school</td>\n",
              "      <td>music magnet</td>\n",
              "    </tr>\n",
              "    <tr>\n",
              "      <th>20</th>\n",
              "      <td>Which song did Beyonce sing to win a competition at age 7?</td>\n",
              "      <td>Beyoncé attended St. Mary's Elementary School in Fredericksburg, Texas, where she enrolled in dance classes. Her singing talent was discovered when dance instructor Darlette Johnson began humming a song and she finished it, able to hit the high-pitched notes. Beyoncé's interest in music and performing continued after winning a school talent show at age seven, singing John Lennon's \"Imagine\" to beat 15/16-year-olds. In fall of 1990, Beyoncé enrolled in Parker Elementary School, a music magnet school in Houston, where she would perform with the school's choir. She also attended the High School for the Performing and Visual Arts and later Alief Elsik High School. Beyoncé was also a member of the choir at St. John's United Methodist Church as a soloist for two years.</td>\n",
              "      <td>Imagine</td>\n",
              "      <td>John Lennon's \"Imagine\"</td>\n",
              "    </tr>\n",
              "    <tr>\n",
              "      <th>21</th>\n",
              "      <td>What city was Beyoncé's elementary school located in?</td>\n",
              "      <td>Beyoncé attended St. Mary's Elementary School in Fredericksburg, Texas, where she enrolled in dance classes. Her singing talent was discovered when dance instructor Darlette Johnson began humming a song and she finished it, able to hit the high-pitched notes. Beyoncé's interest in music and performing continued after winning a school talent show at age seven, singing John Lennon's \"Imagine\" to beat 15/16-year-olds. In fall of 1990, Beyoncé enrolled in Parker Elementary School, a music magnet school in Houston, where she would perform with the school's choir. She also attended the High School for the Performing and Visual Arts and later Alief Elsik High School. Beyoncé was also a member of the choir at St. John's United Methodist Church as a soloist for two years.</td>\n",
              "      <td>Fredericksburg</td>\n",
              "      <td>Fredericksburg, Texas</td>\n",
              "    </tr>\n",
              "    <tr>\n",
              "      <th>22</th>\n",
              "      <td>What large record company recorded Beyonce's group's first album?</td>\n",
              "      <td>At age eight, Beyoncé and childhood friend Kelly Rowland met LaTavia Roberson while in an audition for an all-girl entertainment group. They were placed into a group with three other girls as Girl's Tyme, and rapped and danced on the talent show circuit in Houston. After seeing the group, R&amp;B producer Arne Frager brought them to his Northern California studio and placed them in Star Search, the largest talent show on national TV at the time. Girl's Tyme failed to win, and Beyoncé later said the song they performed was not good. In 1995 Beyoncé's father resigned from his job to manage the group. The move reduced Beyoncé's family's income by half, and her parents were forced to move into separated apartments. Mathew cut the original line-up to four and the group continued performing as an opening act for other established R&amp;B girl groups. The girls auditioned before record labels and were finally signed to Elektra Records, moving to Atlanta Records briefly to work on their first recording, only to be cut by the company. This put further strain on the family, and Beyoncé's parents separated. On October 5, 1995, Dwayne Wiggins's Grass Roots Entertainment signed the group. In 1996, the girls began recording their debut album under an agreement with Sony Music, the Knowles family reunited, and shortly after, the group got a contract with Columbia Records.</td>\n",
              "      <td>Sony Music</td>\n",
              "      <td>Elektra Records</td>\n",
              "    </tr>\n",
              "    <tr>\n",
              "      <th>23</th>\n",
              "      <td>At what age did Beyonce meet LaTavia Robertson?</td>\n",
              "      <td>At age eight, Beyoncé and childhood friend Kelly Rowland met LaTavia Roberson while in an audition for an all-girl entertainment group. They were placed into a group with three other girls as Girl's Tyme, and rapped and danced on the talent show circuit in Houston. After seeing the group, R&amp;B producer Arne Frager brought them to his Northern California studio and placed them in Star Search, the largest talent show on national TV at the time. Girl's Tyme failed to win, and Beyoncé later said the song they performed was not good. In 1995 Beyoncé's father resigned from his job to manage the group. The move reduced Beyoncé's family's income by half, and her parents were forced to move into separated apartments. Mathew cut the original line-up to four and the group continued performing as an opening act for other established R&amp;B girl groups. The girls auditioned before record labels and were finally signed to Elektra Records, moving to Atlanta Records briefly to work on their first recording, only to be cut by the company. This put further strain on the family, and Beyoncé's parents separated. On October 5, 1995, Dwayne Wiggins's Grass Roots Entertainment signed the group. In 1996, the girls began recording their debut album under an agreement with Sony Music, the Knowles family reunited, and shortly after, the group got a contract with Columbia Records.</td>\n",
              "      <td>age eight</td>\n",
              "      <td>eight</td>\n",
              "    </tr>\n",
              "    <tr>\n",
              "      <th>24</th>\n",
              "      <td>What event occured after she was publicly criticized?</td>\n",
              "      <td>LeToya Luckett and Roberson became unhappy with Mathew's managing of the band and eventually were replaced by Farrah Franklin and Michelle Williams. Beyoncé experienced depression following the split with Luckett and Roberson after being publicly blamed by the media, critics, and blogs for its cause. Her long-standing boyfriend left her at this time. The depression was so severe it lasted for a couple of years, during which she occasionally kept herself in her bedroom for days and refused to eat anything. Beyoncé stated that she struggled to speak about her depression because Destiny's Child had just won their first Grammy Award and she feared no one would take her seriously. Beyoncé would later speak of her mother as the person who helped her fight it. Franklin was dismissed, leaving just Beyoncé, Rowland, and Williams.</td>\n",
              "      <td>boyfriend left her</td>\n",
              "      <td>depression</td>\n",
              "    </tr>\n",
              "    <tr>\n",
              "      <th>25</th>\n",
              "      <td>Who supported Beyonce through her depression?</td>\n",
              "      <td>LeToya Luckett and Roberson became unhappy with Mathew's managing of the band and eventually were replaced by Farrah Franklin and Michelle Williams. Beyoncé experienced depression following the split with Luckett and Roberson after being publicly blamed by the media, critics, and blogs for its cause. Her long-standing boyfriend left her at this time. The depression was so severe it lasted for a couple of years, during which she occasionally kept herself in her bedroom for days and refused to eat anything. Beyoncé stated that she struggled to speak about her depression because Destiny's Child had just won their first Grammy Award and she feared no one would take her seriously. Beyoncé would later speak of her mother as the person who helped her fight it. Franklin was dismissed, leaving just Beyoncé, Rowland, and Williams.</td>\n",
              "      <td>her mother</td>\n",
              "      <td>LeToya Luckett</td>\n",
              "    </tr>\n",
              "    <tr>\n",
              "      <th>26</th>\n",
              "      <td>What event caused Beyonce's depression?</td>\n",
              "      <td>LeToya Luckett and Roberson became unhappy with Mathew's managing of the band and eventually were replaced by Farrah Franklin and Michelle Williams. Beyoncé experienced depression following the split with Luckett and Roberson after being publicly blamed by the media, critics, and blogs for its cause. Her long-standing boyfriend left her at this time. The depression was so severe it lasted for a couple of years, during which she occasionally kept herself in her bedroom for days and refused to eat anything. Beyoncé stated that she struggled to speak about her depression because Destiny's Child had just won their first Grammy Award and she feared no one would take her seriously. Beyoncé would later speak of her mother as the person who helped her fight it. Franklin was dismissed, leaving just Beyoncé, Rowland, and Williams.</td>\n",
              "      <td>split with Luckett and Rober</td>\n",
              "      <td>the split</td>\n",
              "    </tr>\n",
              "    <tr>\n",
              "      <th>27</th>\n",
              "      <td>Who was blamed for Luckett and Roberson leaving Destiny's Child?</td>\n",
              "      <td>LeToya Luckett and Roberson became unhappy with Mathew's managing of the band and eventually were replaced by Farrah Franklin and Michelle Williams. Beyoncé experienced depression following the split with Luckett and Roberson after being publicly blamed by the media, critics, and blogs for its cause. Her long-standing boyfriend left her at this time. The depression was so severe it lasted for a couple of years, during which she occasionally kept herself in her bedroom for days and refused to eat anything. Beyoncé stated that she struggled to speak about her depression because Destiny's Child had just won their first Grammy Award and she feared no one would take her seriously. Beyoncé would later speak of her mother as the person who helped her fight it. Franklin was dismissed, leaving just Beyoncé, Rowland, and Williams.</td>\n",
              "      <td>Beyoncé</td>\n",
              "      <td>Farrah Franklin and Michelle Williams. Beyoncé</td>\n",
              "    </tr>\n",
              "    <tr>\n",
              "      <th>28</th>\n",
              "      <td>Who helped Beyoncé overcome her depression during the years following the Destiny's Child split?</td>\n",
              "      <td>LeToya Luckett and Roberson became unhappy with Mathew's managing of the band and eventually were replaced by Farrah Franklin and Michelle Williams. Beyoncé experienced depression following the split with Luckett and Roberson after being publicly blamed by the media, critics, and blogs for its cause. Her long-standing boyfriend left her at this time. The depression was so severe it lasted for a couple of years, during which she occasionally kept herself in her bedroom for days and refused to eat anything. Beyoncé stated that she struggled to speak about her depression because Destiny's Child had just won their first Grammy Award and she feared no one would take her seriously. Beyoncé would later speak of her mother as the person who helped her fight it. Franklin was dismissed, leaving just Beyoncé, Rowland, and Williams.</td>\n",
              "      <td>her mother</td>\n",
              "      <td>LeToya Luckett and Roberson became unhappy with Mathew's managing of the band and eventually were replaced by Farrah Franklin and Michelle Williams. Beyoncé experienced depression following the split with Luckett and Roberson after being publicly blamed by the media, critics, and blogs for its cause. Her long-standing boyfriend left her at this time. The depression was so severe it lasted for a couple of years, during which she occasionally kept herself in her bedroom for days and refused to eat anything. Beyoncé stated that she struggled to speak about her depression because Destiny's Child had just won their first Grammy Award and she feared no one would take her seriously. Beyoncé would later speak of her mother</td>\n",
              "    </tr>\n",
              "    <tr>\n",
              "      <th>29</th>\n",
              "      <td>Which newest member was removed from Destiny's Child?</td>\n",
              "      <td>LeToya Luckett and Roberson became unhappy with Mathew's managing of the band and eventually were replaced by Farrah Franklin and Michelle Williams. Beyoncé experienced depression following the split with Luckett and Roberson after being publicly blamed by the media, critics, and blogs for its cause. Her long-standing boyfriend left her at this time. The depression was so severe it lasted for a couple of years, during which she occasionally kept herself in her bedroom for days and refused to eat anything. Beyoncé stated that she struggled to speak about her depression because Destiny's Child had just won their first Grammy Award and she feared no one would take her seriously. Beyoncé would later speak of her mother as the person who helped her fight it. Franklin was dismissed, leaving just Beyoncé, Rowland, and Williams.</td>\n",
              "      <td>Farrah Franklin</td>\n",
              "      <td>Farrah Franklin and Michelle Williams</td>\n",
              "    </tr>\n",
              "  </tbody>\n",
              "</table>"
            ],
            "text/plain": [
              "<IPython.core.display.HTML object>"
            ]
          },
          "metadata": {
            "tags": []
          }
        }
      ]
    },
    {
      "cell_type": "markdown",
      "metadata": {
        "id": "BiXSfyW0-Ysv"
      },
      "source": [
        "Random 30 errors:"
      ]
    },
    {
      "cell_type": "code",
      "metadata": {
        "colab": {
          "base_uri": "https://localhost:8080/",
          "height": 1000
        },
        "id": "xcMKJwaE3zhZ",
        "outputId": "a2e7d7e3-6b8e-4f5b-fb47-9be340fd295e"
      },
      "source": [
        "display_dataframe(errors.sample(frac=1).reset_index(drop=True).head(30))"
      ],
      "execution_count": null,
      "outputs": [
        {
          "output_type": "display_data",
          "data": {
            "text/html": [
              "<table border=\"1\" class=\"dataframe\">\n",
              "  <thead>\n",
              "    <tr style=\"text-align: right;\">\n",
              "      <th></th>\n",
              "      <th>question</th>\n",
              "      <th>context</th>\n",
              "      <th>ground_truth</th>\n",
              "      <th>prediction</th>\n",
              "    </tr>\n",
              "  </thead>\n",
              "  <tbody>\n",
              "    <tr>\n",
              "      <th>0</th>\n",
              "      <td>The Buddhism practiced in Tibet, the Himalayan regions and Mongolia are often referred to as?</td>\n",
              "      <td>Native Mahayana Buddhism is practiced today in China, Japan, Korea, Singapore, parts of Russia and most of Vietnam (also commonly referred to as \"Eastern Buddhism\"). The Buddhism practiced in Tibet, the Himalayan regions, and Mongolia is also Mahayana in origin, but is discussed below under the heading of Vajrayana (also commonly referred to as \"Northern Buddhism\"). There are a variety of strands in Eastern Buddhism, of which \"the Pure Land school of Mahayana is the most widely practised today.\". In most of this area however, they are fused into a single unified form of Buddhism. In Japan in particular, they form separate denominations with the five major ones being: Nichiren, peculiar to Japan; Pure Land; Shingon, a form of Vajrayana; Tendai, and Zen. In Korea, nearly all Buddhists belong to the Chogye school, which is officially Son (Zen), but with substantial elements from other traditions.</td>\n",
              "      <td>Northern Buddhism</td>\n",
              "      <td>Mahayana</td>\n",
              "    </tr>\n",
              "    <tr>\n",
              "      <th>1</th>\n",
              "      <td>What is the term for insight knowledge?</td>\n",
              "      <td>In Buddhist practice, it is said that while samatha meditation can calm the mind, only vipassanā meditation can reveal how the mind was disturbed to start with, which is what leads to insight knowledge (jñāna; Pāli ñāṇa) and understanding (prajñā Pāli paññā), and thus can lead to nirvāṇa (Pāli nibbāna). When one is in jhana, all defilements are suppressed temporarily. Only understanding (prajñā or vipassana) eradicates the defilements completely. Jhanas are also states that Arahants abide in order to rest.</td>\n",
              "      <td>jñāna</td>\n",
              "      <td>jñāna; Pāli ñāṇa</td>\n",
              "    </tr>\n",
              "    <tr>\n",
              "      <th>2</th>\n",
              "      <td>During the High Middle Ages, what percentage of the European population consisted of rural peasants?</td>\n",
              "      <td>The High Middle Ages was a period of tremendous expansion of population. The estimated population of Europe grew from 35 to 80 million between 1000 and 1347, although the exact causes remain unclear: improved agricultural techniques, the decline of slaveholding, a more clement climate and the lack of invasion have all been suggested. As much as 90 per cent of the European population remained rural peasants. Many were no longer settled in isolated farms but had gathered into small communities, usually known as manors or villages. These peasants were often subject to noble overlords and owed them rents and other services, in a system known as manorialism. There remained a few free peasants throughout this period and beyond, with more of them in the regions of Southern Europe than in the north. The practice of assarting, or bringing new lands into production by offering incentives to the peasants who settled them, also contributed to the expansion of population.</td>\n",
              "      <td>90</td>\n",
              "      <td>90 per cent</td>\n",
              "    </tr>\n",
              "    <tr>\n",
              "      <th>3</th>\n",
              "      <td>What was the name of the revolutionary group led by Gaddafi?</td>\n",
              "      <td>Having removed the monarchical government, Gaddafi proclaimed the foundation of the Libyan Arab Republic. Addressing the populace by radio, he proclaimed an end to the \"reactionary and corrupt\" regime, \"the stench of which has sickened and horrified us all.\" Due to the coup's bloodless nature, it was initially labelled the \"White Revolution\", although was later renamed the \"One September Revolution\" after the date on which it occurred. Gaddafi insisted that the Free Officers' coup represented a revolution, marking the start of widespread change in the socio-economic and political nature of Libya. He proclaimed that the revolution meant \"freedom, socialism, and unity\", and over the coming years implemented measures to achieve this.</td>\n",
              "      <td>Free Officers</td>\n",
              "      <td>Free Officers' coup</td>\n",
              "    </tr>\n",
              "    <tr>\n",
              "      <th>4</th>\n",
              "      <td>The importance of what military arm increased during the Carolingian era?</td>\n",
              "      <td>The importance of infantry and light cavalry began to decline during the early Carolingian period, with a growing dominance of elite heavy cavalry. The use of militia-type levies of the free population declined over the Carolingian period. Although much of the Carolingian armies were mounted, a large proportion during the early period appear to have been mounted infantry, rather than true cavalry. One exception was Anglo-Saxon England, where the armies were still composed of regional levies, known as the fyrd, which were led by the local elites. In military technology, one of the main changes was the return of the crossbow, which had been known in Roman times and reappeared as a military weapon during the last part of the Early Middle Ages. Another change was the introduction of the stirrup, which increased the effectiveness of cavalry as shock troops. A technological advance that had implications beyond the military was the horseshoe, which allowed horses to be used in rocky terrain.</td>\n",
              "      <td>heavy cavalry</td>\n",
              "      <td>infantry and light cavalry</td>\n",
              "    </tr>\n",
              "    <tr>\n",
              "      <th>5</th>\n",
              "      <td>What is the popular name of New York's advertising industry?</td>\n",
              "      <td>As of 2013, the global advertising agencies of Omnicom Group and Interpublic Group, both based in Manhattan, had combined annual revenues of approximately US$21 billion, reflecting New York City's role as the top global center for the advertising industry, which is metonymously referred to as \"Madison Avenue\". The city's fashion industry provides approximately 180,000 employees with $11 billion in annual wages.</td>\n",
              "      <td>Madison Avenue</td>\n",
              "      <td>Omnicom Group</td>\n",
              "    </tr>\n",
              "    <tr>\n",
              "      <th>6</th>\n",
              "      <td>The parent company of Tidal became under the ownership of whom in 2015?</td>\n",
              "      <td>On March 30, 2015, it was announced that Beyoncé is a co-owner, with various other music artists, in the music streaming service Tidal. The service specialises in lossless audio and high definition music videos. Beyoncé's husband Jay Z acquired the parent company of Tidal, Aspiro, in the first quarter of 2015. Including Beyoncé and Jay-Z, sixteen artist stakeholders (such as Kanye West, Rihanna, Madonna, Chris Martin, Nicki Minaj and more) co-own Tidal, with the majority owning a 3% equity stake. The idea of having an all artist owned streaming service was created by those involved to adapt to the increased demand for streaming within the current music industry, and to rival other streaming services such as Spotify, which have been criticised for their low payout of royalties. \"The challenge is to get everyone to respect music again, to recognize its value\", stated Jay-Z on the release of Tidal.</td>\n",
              "      <td>Jay Z</td>\n",
              "      <td>Aspiro</td>\n",
              "    </tr>\n",
              "    <tr>\n",
              "      <th>7</th>\n",
              "      <td>What is the Manueline style?</td>\n",
              "      <td>Traditional architecture is distinctive and include the Manueline, also known as Portuguese late Gothic, a sumptuous, composite Portuguese style of architectural ornamentation of the first decades of the 16th century. A 20th-century interpretation of traditional architecture, Soft Portuguese style, appears extensively in major cities, especially Lisbon. Modern Portugal has given the world renowned architects like Eduardo Souto de Moura, Álvaro Siza Vieira (both Pritzker Prize winners) and Gonçalo Byrne. In Portugal Tomás Taveira is also noteworthy, particularly for stadium design.</td>\n",
              "      <td>a sumptuous, composite Portuguese style of architectural ornamentation of the first decades of the 16th century</td>\n",
              "      <td>Portuguese late Gothic</td>\n",
              "    </tr>\n",
              "    <tr>\n",
              "      <th>8</th>\n",
              "      <td>The 21st century is refereed to as what?</td>\n",
              "      <td>In the Contemporary era, there were various socio-technological trends. Regarding the 21st century and the late modern world, the Information age and computers were forefront in use, not completely ubiquitous but often present in daily life. The development of Eastern powers was of note, with China and India becoming more powerful. In the Eurasian theater, the European Union and Russian Federation were two forces recently developed. A concern for Western world, if not the whole world, was the late modern form of terrorism and the warfare that has resulted from the contemporary terrorist acts.</td>\n",
              "      <td>the Information age</td>\n",
              "      <td>the late modern world</td>\n",
              "    </tr>\n",
              "    <tr>\n",
              "      <th>9</th>\n",
              "      <td>Name one of the tribes Native Americans formed in the Americas?</td>\n",
              "      <td>In Asia, various Chinese dynasties and Japanese shogunates controlled the Asian sphere. In Japan, the Edo period from 1600 to 1868 is also referred to as the early modern period. And in Korea, from the rising of Joseon Dynasty to the enthronement of King Gojong is referred to as the early modern period. In the Americas, Native Americans had built a large and varied civilization, including the Aztec Empire and alliance, the Inca civilization, the Mayan Empire and cities, and the Chibcha Confederation. In the west, the European kingdoms and movements were in a movement of reformation and expansion. Russia reached the Pacific coast in 1647 and consolidated its control over the Russian Far East in the 19th century.</td>\n",
              "      <td>Aztec Empire</td>\n",
              "      <td>Chibcha Confederation</td>\n",
              "    </tr>\n",
              "    <tr>\n",
              "      <th>10</th>\n",
              "      <td>What leader accused Nasser of trying to overthrow him?</td>\n",
              "      <td>Relations between Nasser and King Hussein deteriorated in April when Hussein implicated Nasser in two coup attempts against him—although Nasser's involvement was never established—and dissolved al-Nabulsi's cabinet. Nasser subsequently slammed Hussein on Cairo radio as being \"a tool of the imperialists\". Relations with King Saud also became antagonistic as the latter began to fear that Nasser's increasing popularity in Saudi Arabia was a genuine threat to the royal family's survival. Despite opposition from the governments of Jordan, Saudi Arabia, Iraq, and Lebanon, Nasser maintained his prestige among their citizens and those of other Arab countries.</td>\n",
              "      <td>King Hussein</td>\n",
              "      <td>Hussein</td>\n",
              "    </tr>\n",
              "    <tr>\n",
              "      <th>11</th>\n",
              "      <td>What caused the Maratha Empire to split in 1761?</td>\n",
              "      <td>On the Indian subcontinent, the Mughal Empire ruled most of India in the early 18th century. The \"classic period\" ended with the death and defeat of Emperor Aurangzeb in 1707 by the rising Hindu Maratha Empire, although the dynasty continued for another 150 years. During this period, the Empire was marked by a highly centralized administration connecting the different regions. All the significant monuments of the Mughals, their most visible legacy, date to this period which was characterised by the expansion of Persian cultural influence in the Indian subcontinent, with brilliant literary, artistic, and architectural results. The Maratha Empire was located in the south west of present-day India and expanded greatly under the rule of the Peshwas, the prime ministers of the Maratha empire. In 1761, the Maratha army lost the Third Battle of Panipat which halted imperial expansion and the empire was then divided into a confederacy of Maratha states.</td>\n",
              "      <td>the Maratha army lost the Third Battle of Panipat</td>\n",
              "      <td>Third Battle of Panipat</td>\n",
              "    </tr>\n",
              "    <tr>\n",
              "      <th>12</th>\n",
              "      <td>When was Queen Victoria's funeral held?</td>\n",
              "      <td>In 1897, Victoria had written instructions for her funeral, which was to be military as befitting a soldier's daughter and the head of the army, and white instead of black. On 25 January, Edward VII, the Kaiser and Prince Arthur, Duke of Connaught, helped lift her body into the coffin. She was dressed in a white dress and her wedding veil. An array of mementos commemorating her extended family, friends and servants were laid in the coffin with her, at her request, by her doctor and dressers. One of Albert's dressing gowns was placed by her side, with a plaster cast of his hand, while a lock of John Brown's hair, along with a picture of him, was placed in her left hand concealed from the view of the family by a carefully positioned bunch of flowers. Items of jewellery placed on Victoria included the wedding ring of John Brown's mother, given to her by Brown in 1883. Her funeral was held on Saturday, 2 February, in St George's Chapel, Windsor Castle, and after two days of lying-in-state, she was interred beside Prince Albert in Frogmore Mausoleum at Windsor Great Park. As she was laid to rest at the mausoleum, it began to snow.</td>\n",
              "      <td>2 February</td>\n",
              "      <td>Saturday, 2 February</td>\n",
              "    </tr>\n",
              "    <tr>\n",
              "      <th>13</th>\n",
              "      <td>When wasmost of the energy released during the initial eruption?</td>\n",
              "      <td>According to a study by the China Earthquake Administration (CEA), the earthquake occurred along the Longmenshan fault, a thrust structure along the border of the Indo-Australian Plate and Eurasian Plate. Seismic activities concentrated on its mid-fracture (known as Yingxiu-Beichuan fracture). The rupture lasted close to 120 sec, with the majority of energy released in the first 80 sec. Starting from Wenchuan, the rupture propagated at an average speed of 3.1 kilometers per second 49° toward north east, rupturing a total of about 300 km. Maximum displacement amounted to 9 meters. The focus was deeper than 10 km.</td>\n",
              "      <td>first 80 sec.</td>\n",
              "      <td>80 sec</td>\n",
              "    </tr>\n",
              "    <tr>\n",
              "      <th>14</th>\n",
              "      <td>How long was the fault where the quake occurred?</td>\n",
              "      <td>In a United States Geological Survey (USGS) study, preliminary rupture models of the earthquake indicated displacement of up to 9 meters along a fault approximately 240 km long by 20 km deep. The earthquake generated deformations of the surface greater than 3 meters and increased the stress (and probability of occurrence of future events) at the northeastern and southwestern ends of the fault. On May 20, USGS seismologist Tom Parsons warned that there is \"high risk\" of a major M&gt;7 aftershock over the next weeks or months.</td>\n",
              "      <td>240 km long</td>\n",
              "      <td>240 km long by 20 km deep</td>\n",
              "    </tr>\n",
              "    <tr>\n",
              "      <th>15</th>\n",
              "      <td>What do scholars recognize about the life of the Buddha?</td>\n",
              "      <td>This narrative draws on the Nidānakathā of the Jataka tales of the Theravada, which is ascribed to Buddhaghoṣa in the 5th century CE. Earlier biographies such as the Buddhacarita, the Lokottaravādin Mahāvastu, and the Sarvāstivādin Lalitavistara Sūtra, give different accounts. Scholars are hesitant to make unqualified claims about the historical facts of the Buddha's life. Most accept that he lived, taught and founded a monastic order, but do not consistently accept all of the details contained in his biographies.</td>\n",
              "      <td>Most accept that he lived, taught and founded a monastic order</td>\n",
              "      <td>historical facts</td>\n",
              "    </tr>\n",
              "    <tr>\n",
              "      <th>16</th>\n",
              "      <td>What did Gaddafi seize during the coup?</td>\n",
              "      <td>In mid-1969, Idris travelled abroad to spend the summer in Turkey and Greece. Gaddafi's Free Officers recognized this as their chance to overthrow the monarchy, initiating \"Operation Jerusalem\". On 1 September, they occupied airports, police depots, radio stations and government offices in Tripoli and Benghazi. Gaddafi took control of the Berka barracks in Benghazi, while Omar Meheisha occupied Tripoli barracks and Jalloud seized the city's anti-aircraft batteries. Khweldi Hameidi was sent to arrest crown prince Sayyid Hasan ar-Rida al-Mahdi as-Sanussi, and force him to relinquish his claim to the throne. They met no serious resistance, and wielded little violence against the monarchists.</td>\n",
              "      <td>Gaddafi took control of the Berka barracks in Benghazi,</td>\n",
              "      <td>anti-aircraft batteries</td>\n",
              "    </tr>\n",
              "    <tr>\n",
              "      <th>17</th>\n",
              "      <td>At what location did the hearse carrying Napoleon's remains begin its procession?</td>\n",
              "      <td>In 1840, Louis Philippe I obtained permission from the British to return Napoleon's remains to France. On 15 December 1840, a state funeral was held. The hearse proceeded from the Arc de Triomphe down the Champs-Élysées, across the Place de la Concorde to the Esplanade des Invalides and then to the cupola in St Jérôme's Chapel, where it remained until the tomb designed by Louis Visconti was completed. In 1861, Napoleon's remains were entombed in a porphyry sarcophagus in the crypt under the dome at Les Invalides.</td>\n",
              "      <td>the Arc de Triomphe</td>\n",
              "      <td>Arc de Triomphe down the Champs-Élysées</td>\n",
              "    </tr>\n",
              "    <tr>\n",
              "      <th>18</th>\n",
              "      <td>A 2008 study supporting the original autopsy findings related to Napoleon's death analyzed samples of what substance taken from Napoleon and his family?</td>\n",
              "      <td>There have been modern studies that have supported the original autopsy finding. In a 2008 study, researchers analysed samples of Napoleon's hair from throughout his life, as well as samples from his family and other contemporaries. All samples had high levels of arsenic, approximately 100 times higher than the current average. According to these researchers, Napoleon's body was already heavily contaminated with arsenic as a boy, and the high arsenic concentration in his hair was not caused by intentional poisoning; people were constantly exposed to arsenic from glues and dyes throughout their lives.[note 7] Studies published in 2007 and 2008 dismissed evidence of arsenic poisoning, and confirmed evidence of peptic ulcer and gastric cancer as the cause of death.</td>\n",
              "      <td>hair</td>\n",
              "      <td>arsenic</td>\n",
              "    </tr>\n",
              "    <tr>\n",
              "      <th>19</th>\n",
              "      <td>What is the Edwardian era?</td>\n",
              "      <td>The Edwardian era in the United Kingdom is the period spanning the reign of King Edward VII up to the end of the First World War, including the years surrounding the sinking of the RMS Titanic. In the early years of the period, the Second Boer War in South Africa split the country into anti- and pro-war factions. The imperial policies of the Conservatives eventually proved unpopular and in the general election of 1906 the Liberals won a huge landslide. The Liberal government was unable to proceed with all of its radical programme without the support of the House of Lords, which was largely Conservative. Conflict between the two Houses of Parliament over the People's Budget led to a reduction in the power of the peers in 1910. The general election in January that year returned a hung parliament with the balance of power held by Labour and Irish Nationalist members.</td>\n",
              "      <td>the period spanning the reign of King Edward VII up to the end of the First World War,</td>\n",
              "      <td>the period spanning the reign of King Edward VII</td>\n",
              "    </tr>\n",
              "    <tr>\n",
              "      <th>20</th>\n",
              "      <td>How many countries donated?</td>\n",
              "      <td>On May 16 China stated it had also received $457 million in donated money and goods for rescue efforts so far, including $83 million from 19 countries and four international organizations. Saudi Arabia was the largest aid donor to China, providing close to €40,000,000 in financial assistance, and an additional €8,000,000 worth of relief materials.</td>\n",
              "      <td>19 countries</td>\n",
              "      <td>19</td>\n",
              "    </tr>\n",
              "    <tr>\n",
              "      <th>21</th>\n",
              "      <td>Who was king when the Magyars settled in Hungary?</td>\n",
              "      <td>The High Middle Ages was the formative period in the history of the modern Western state. Kings in France, England, and Spain consolidated their power, and set up lasting governing institutions. New kingdoms such as Hungary and Poland, after their conversion to Christianity, became Central European powers. The Magyars settled Hungary around 900 under King Árpád (d. c. 907) after a series of invasions in the 9th century. The papacy, long attached to an ideology of independence from secular kings, first asserted its claim to temporal authority over the entire Christian world; the Papal Monarchy reached its apogee in the early 13th century under the pontificate of Innocent III (pope 1198–1216). Northern Crusades and the advance of Christian kingdoms and military orders into previously pagan regions in the Baltic and Finnic north-east brought the forced assimilation of numerous native peoples into European culture.</td>\n",
              "      <td>Árpád</td>\n",
              "      <td>King Árpád</td>\n",
              "    </tr>\n",
              "    <tr>\n",
              "      <th>22</th>\n",
              "      <td>How did the mendicant orders make a living?</td>\n",
              "      <td>In the 13th century mendicant orders—the Franciscans and the Dominicans—who swore vows of poverty and earned their living by begging, were approved by the papacy. Religious groups such as the Waldensians and the Humiliati also attempted to return to the life of early Christianity in the middle 12th and early 13th centuries, but they were condemned as heretical by the papacy. Others joined the Cathars, another heretical movement condemned by the papacy. In 1209, a crusade was preached against the Cathars, the Albigensian Crusade, which in combination with the medieval Inquisition, eliminated them.</td>\n",
              "      <td>begging</td>\n",
              "      <td>by begging</td>\n",
              "    </tr>\n",
              "    <tr>\n",
              "      <th>23</th>\n",
              "      <td>What is The Triple Entente?</td>\n",
              "      <td>The causes of World War I included many factors, including the conflicts and antagonisms of the four decades leading up to the war. The Triple Entente was the name given to the loose alignment between the United Kingdom, France, and Russia after the signing of the Anglo-Russian Entente in 1907. The alignment of the three powers, supplemented by various agreements with Japan, the United States, and Spain, constituted a powerful counterweight to the Triple Alliance of Germany, Austria-Hungary, and Italy, the third having concluded an additional secret agreement with France effectively nullifying her Alliance commitments. Militarism, alliances, imperialism, and nationalism played major roles in the conflict. The immediate origins of the war lay in the decisions taken by statesmen and generals during the July Crisis of 1914, the spark (or casus belli) for which was the assassination of Archduke Franz Ferdinand of Austria.</td>\n",
              "      <td>the name given to the loose alignment between the United Kingdom, France, and Russia after the signing of the Anglo-Russian Entente in 1907.</td>\n",
              "      <td>the loose alignment between the United Kingdom, France, and Russia</td>\n",
              "    </tr>\n",
              "    <tr>\n",
              "      <th>24</th>\n",
              "      <td>What did Nasser do about his position as President?</td>\n",
              "      <td>During the first four days of the war, the general population of the Arab world believed Arab radio station fabrications of imminent Arab victory. On 9 June, Nasser appeared on television to inform Egypt's citizens of their country's defeat. He announced his resignation on television later that day, and ceded all presidential powers to his then-Vice President Zakaria Mohieddin, who had no prior information of this decision and refused to accept the post. Hundreds of thousands of sympathizers poured into the streets in mass demonstrations throughout Egypt and across the Arab world rejecting his resignation, chanting, \"We are your soldiers, Gamal!\" Nasser retracted his decision the next day.</td>\n",
              "      <td>announced his resignation</td>\n",
              "      <td>ceded all presidential powers to his then-Vice President Zakaria Mohieddin, who had no prior information of this decision and refused to accept the post. Hundreds of thousands of sympathizers poured into the streets in mass demonstrations throughout Egypt and across the Arab world rejecting his resignation, chanting, \"We are your soldiers, Gamal!\" Nasser retracted</td>\n",
              "    </tr>\n",
              "    <tr>\n",
              "      <th>25</th>\n",
              "      <td>The city of New Haven has been known for it various sport teams for how long?</td>\n",
              "      <td>New Haven has a history of professional sports franchises dating back to the 19th century and has been the home to professional baseball, basketball, football, hockey, and soccer teams—including the New York Giants of the National Football League from 1973 to 1974, who played at the Yale Bowl. Throughout the second half of the 20th century, New Haven consistently had minor league hockey and baseball teams, which played at the New Haven Arena (built in 1926, demolished in 1972), New Haven Coliseum (1972–2002), and Yale Field (1928–present).</td>\n",
              "      <td>19th century</td>\n",
              "      <td>second half of the 20th century</td>\n",
              "    </tr>\n",
              "    <tr>\n",
              "      <th>26</th>\n",
              "      <td>What did Tom Parsons consider as the risk factor for strong future quakes?</td>\n",
              "      <td>In a United States Geological Survey (USGS) study, preliminary rupture models of the earthquake indicated displacement of up to 9 meters along a fault approximately 240 km long by 20 km deep. The earthquake generated deformations of the surface greater than 3 meters and increased the stress (and probability of occurrence of future events) at the northeastern and southwestern ends of the fault. On May 20, USGS seismologist Tom Parsons warned that there is \"high risk\" of a major M&gt;7 aftershock over the next weeks or months.</td>\n",
              "      <td>high risk</td>\n",
              "      <td>high risk\" of a major M&gt;7 aftershock</td>\n",
              "    </tr>\n",
              "    <tr>\n",
              "      <th>27</th>\n",
              "      <td>Why were the schools inspected?</td>\n",
              "      <td>However, Reuters reported in June that, to date, Chinese prosecutors have joined an official inquiry into ten collapsed schools during May's devastating earthquake to gain first-hand material of construction quality at the collapsed schools, launch preliminary inquiries and prepare for possible investigations into professional crime. It was also reported that safety checks were to be carried out at schools across China after last month's earthquake.</td>\n",
              "      <td>to gain first-hand material of construction quality</td>\n",
              "      <td>to gain first-hand material of construction quality at the collapsed schools, launch preliminary inquiries and prepare for possible investigations into professional crime</td>\n",
              "    </tr>\n",
              "    <tr>\n",
              "      <th>28</th>\n",
              "      <td>In minutes, how long does it take for the average New Yorker to get to work?</td>\n",
              "      <td>Public transport is essential in New York City. 54.6% of New Yorkers commuted to work in 2005 using mass transit. This is in contrast to the rest of the United States, where about 90% of commuters drive automobiles to their workplace. According to the US Census Bureau, New York City residents spend an average of 38.4 minutes a day getting to work, the longest commute time in the nation among large cities. New York is the only US city in which a majority (52%) of households do not have a car; only 22% of Manhattanites own a car. Due to their high usage of mass transit, New Yorkers spend less of their household income on transportation than the national average, saving $19 billion annually on transportation compared to other urban Americans.</td>\n",
              "      <td>38.4</td>\n",
              "      <td>38.4 minutes a day</td>\n",
              "    </tr>\n",
              "    <tr>\n",
              "      <th>29</th>\n",
              "      <td>What museum and ilbrary was the center of Hellenistic culture conservation?</td>\n",
              "      <td>In some fields Hellenistic culture thrived, particularly in its preservation of the past. The states of the Hellenistic period were deeply fixated with the past and its seemingly lost glories. The preservation of many classical and archaic works of art and literature (including the works of the three great classical tragedians, Aeschylus, Sophocles, and Euripides) are due to the efforts of the Hellenistic Greeks. The museum and library of Alexandria was the center of this conservationist activity. With the support of royal stipends, Alexandrian scholars collected, translated, copied, classified and critiqued every book they could find. Most of the great literary figures of the Hellenistic period studied at Alexandria and conducted research there. They were scholar poets, writing not only poetry but treatises on Homer and other archaic and classical Greek literature.</td>\n",
              "      <td>Alexandria</td>\n",
              "      <td>The museum and library of Alexandria</td>\n",
              "    </tr>\n",
              "  </tbody>\n",
              "</table>"
            ],
            "text/plain": [
              "<IPython.core.display.HTML object>"
            ]
          },
          "metadata": {
            "tags": []
          }
        }
      ]
    },
    {
      "cell_type": "markdown",
      "metadata": {
        "id": "7rsWTtbS5D-e"
      },
      "source": [
        "Retrieve an error by querying by question."
      ]
    },
    {
      "cell_type": "code",
      "metadata": {
        "id": "HGDyOs0bDZT6"
      },
      "source": [
        "def get_error(errors, question):\n",
        "    return errors[errors['question']==question]"
      ],
      "execution_count": null,
      "outputs": []
    },
    {
      "cell_type": "code",
      "metadata": {
        "colab": {
          "base_uri": "https://localhost:8080/",
          "height": 150
        },
        "id": "agKI8cn0EAkg",
        "outputId": "ad1a70f9-202f-44db-bf3c-055c6cc59c41"
      },
      "source": [
        "display_dataframe(get_error(errors, \"What did Gao Qiang tell reporters in Beijing?\"))"
      ],
      "execution_count": null,
      "outputs": [
        {
          "output_type": "display_data",
          "data": {
            "text/html": [
              "<table border=\"1\" class=\"dataframe\">\n",
              "  <thead>\n",
              "    <tr style=\"text-align: right;\">\n",
              "      <th></th>\n",
              "      <th>question</th>\n",
              "      <th>context</th>\n",
              "      <th>ground_truth</th>\n",
              "      <th>prediction</th>\n",
              "    </tr>\n",
              "  </thead>\n",
              "  <tbody>\n",
              "    <tr>\n",
              "      <th>458</th>\n",
              "      <td>What did Gao Qiang tell reporters in Beijing?</td>\n",
              "      <td>Experts point out that the earthquake hit an area that has been largely neglected and untouched by China's economic rise. Health care is poor in inland areas such as Sichuan, highlighting the widening gap between prosperous urban dwellers and struggling rural people. Vice Minister of Health Gao Qiang told reporters in Beijing that the \"public health care system in China is insufficient.\" The Vice Minister of Health also suggested that the government would pick up the costs of care to earthquake victims, many of whom have little or no insurance: \"The government should be responsible for providing medical treatment to them,\" he said.</td>\n",
              "      <td>public health care system in China is insufficient</td>\n",
              "      <td>that the \"public health care system in China is insufficient.\"</td>\n",
              "    </tr>\n",
              "  </tbody>\n",
              "</table>"
            ],
            "text/plain": [
              "<IPython.core.display.HTML object>"
            ]
          },
          "metadata": {
            "tags": []
          }
        }
      ]
    }
  ]
}